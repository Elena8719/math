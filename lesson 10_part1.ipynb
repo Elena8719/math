{
  "nbformat": 4,
  "nbformat_minor": 0,
  "metadata": {
    "colab": {
      "name": "Untitled31.ipynb",
      "provenance": [],
      "authorship_tag": "ABX9TyOu3z8RX5uKFQnsyQMub24G",
      "include_colab_link": true
    },
    "kernelspec": {
      "name": "python3",
      "display_name": "Python 3"
    },
    "language_info": {
      "name": "python"
    }
  },
  "cells": [
    {
      "cell_type": "markdown",
      "metadata": {
        "id": "view-in-github",
        "colab_type": "text"
      },
      "source": [
        "<a href=\"https://colab.research.google.com/github/Elena8719/math/blob/main/lesson%2010_part1.ipynb\" target=\"_parent\"><img src=\"https://colab.research.google.com/assets/colab-badge.svg\" alt=\"Open In Colab\"/></a>"
      ]
    },
    {
      "cell_type": "code",
      "execution_count": 3,
      "metadata": {
        "colab": {
          "base_uri": "https://localhost:8080/",
          "height": 282
        },
        "id": "Q1FCNoyIL-PR",
        "outputId": "c7981d0d-5cfc-4360-ba54-82385a0dc295"
      },
      "outputs": [
        {
          "output_type": "execute_result",
          "data": {
            "text/plain": [
              "F_onewayResult(statistic=177.48291613374704, pvalue=1.420466900107174e-12)"
            ]
          },
          "metadata": {},
          "execution_count": 3
        },
        {
          "output_type": "display_data",
          "data": {
            "text/plain": [
              "<Figure size 432x288 with 1 Axes>"
            ],
            "image/png": "[encoded data removed]"
          },
          "metadata": {
            "needs_background": "light"
          }
        }
      ],
      "source": [
        "import numpy as np\n",
        "from scipy import stats\n",
        "import matplotlib.pyplot as plt\n",
        "\n",
        "y1 = np.array([70, 50, 65, 60, 75, 67, 74])\n",
        "y2 = np.array([80, 74, 90, 70, 75, 65, 85])\n",
        "y3 = np.array([148, 142, 140, 150, 160, 170, 155])\n",
        "\n",
        "f, ax = plt.subplots()\n",
        "for xe, ye in zip([1, 2, 3], [y1, y2, y3]):\n",
        "    plt.scatter([xe] * len(ye), ye, label='xx')\n",
        "plt.xticks([1, 2, 3])\n",
        "\n",
        "# Найдем значения критерия фишера для однофакторного дисперсионного анализа.\n",
        "f = stats.f_oneway(y1, y2, y3)\n",
        "f"
      ]
    },
    {
      "cell_type": "code",
      "source": [
        "k= 3\n",
        "n = 21"
      ],
      "metadata": {
        "id": "q5gCwBJCMkej"
      },
      "execution_count": 4,
      "outputs": []
    },
    {
      "cell_type": "markdown",
      "source": [
        "F_н=(σ_ф^2)/(σ_ост^2 ), а величины σ_ф^2  и σ_ост^2  мы найдем из формул :\n",
        "〖 σ〗_ф^2=  (S_ф^2)/(k-1), где k= 3 \n",
        " σ_ост^2=(S_ост^2)/(n-k), где n = 21 Это общее количество значений заработных плат во всех трех подгруппах.\n",
        "S_ф^2=∑_(i=1)^k▒〖〖((y_i ) ̅-Y ̅)〗^2*n_i 〗\n",
        "S_ост^2=∑_(i=1)^k▒∑_(j=1)^(n_i)▒〖〖〖(y〗_ij-(y_i ) ̅)〗^2  〗\n"
      ],
      "metadata": {
        "id": "LhLvHEDtOtFM"
      }
    },
    {
      "cell_type": "code",
      "source": [
        "y_mean_1 = np.mean(y1)\n",
        "y_mean_1"
      ],
      "metadata": {
        "colab": {
          "base_uri": "https://localhost:8080/"
        },
        "id": "FPRY36uQMpB7",
        "outputId": "7e40825d-86fc-43df-be56-7ce262e2e586"
      },
      "execution_count": 5,
      "outputs": [
        {
          "output_type": "execute_result",
          "data": {
            "text/plain": [
              "65.85714285714286"
            ]
          },
          "metadata": {},
          "execution_count": 5
        }
      ]
    },
    {
      "cell_type": "code",
      "source": [
        ""
      ],
      "metadata": {
        "id": "91IWLncgRF3-"
      },
      "execution_count": null,
      "outputs": []
    },
    {
      "cell_type": "code",
      "source": [
        "y_mean_2 = np.mean(y2)\n",
        "y_mean_2"
      ],
      "metadata": {
        "colab": {
          "base_uri": "https://localhost:8080/"
        },
        "id": "4sfLHe8sPHkg",
        "outputId": "917d05c3-a4a4-4aae-f20c-f3c2ee9cc68f"
      },
      "execution_count": 6,
      "outputs": [
        {
          "output_type": "execute_result",
          "data": {
            "text/plain": [
              "77.0"
            ]
          },
          "metadata": {},
          "execution_count": 6
        }
      ]
    },
    {
      "cell_type": "code",
      "source": [
        "y_mean_3 = np.mean(y3)\n",
        "y_mean_3"
      ],
      "metadata": {
        "colab": {
          "base_uri": "https://localhost:8080/"
        },
        "id": "xLLlFE7JPHn0",
        "outputId": "2bb679b6-81fd-4c15-d505-d995f3b24ad9"
      },
      "execution_count": 7,
      "outputs": [
        {
          "output_type": "execute_result",
          "data": {
            "text/plain": [
              "152.14285714285714"
            ]
          },
          "metadata": {},
          "execution_count": 7
        }
      ]
    },
    {
      "cell_type": "code",
      "source": [
        "total = np.array([y1, y2, y3 ])\n",
        "total"
      ],
      "metadata": {
        "colab": {
          "base_uri": "https://localhost:8080/"
        },
        "id": "_sEkS0QPQuB8",
        "outputId": "8a0d839c-80b5-456c-b821-4f06b306921e"
      },
      "execution_count": 12,
      "outputs": [
        {
          "output_type": "execute_result",
          "data": {
            "text/plain": [
              "array([[ 70,  50,  65,  60,  75,  67,  74],\n",
              "       [ 80,  74,  90,  70,  75,  65,  85],\n",
              "       [148, 142, 140, 150, 160, 170, 155]])"
            ]
          },
          "metadata": {},
          "execution_count": 12
        }
      ]
    },
    {
      "cell_type": "code",
      "source": [
        "y_mena_total= np.mean(total)\n",
        "y_mena_total"
      ],
      "metadata": {
        "colab": {
          "base_uri": "https://localhost:8080/"
        },
        "id": "v-xfdKCcRS7e",
        "outputId": "c17461c5-1f10-4ef9-950c-c4047059b7ef"
      },
      "execution_count": 13,
      "outputs": [
        {
          "output_type": "execute_result",
          "data": {
            "text/plain": [
              "98.33333333333333"
            ]
          },
          "metadata": {},
          "execution_count": 13
        }
      ]
    },
    {
      "cell_type": "markdown",
      "source": [
        "Сумма квадратов отклонений наблюдений от общего среднего"
      ],
      "metadata": {
        "id": "JZ1bbtk4PR_7"
      }
    },
    {
      "cell_type": "code",
      "source": [
        "np.sum((total - 98.33)**2) # отложим это значение"
      ],
      "metadata": {
        "colab": {
          "base_uri": "https://localhost:8080/"
        },
        "id": "tCATNtfoU0eP",
        "outputId": "f37d5932-b80e-488c-e7f2-7b3d405a2ded"
      },
      "execution_count": 22,
      "outputs": [
        {
          "output_type": "execute_result",
          "data": {
            "text/plain": [
              "32400.6669"
            ]
          },
          "metadata": {},
          "execution_count": 22
        }
      ]
    },
    {
      "cell_type": "markdown",
      "source": [
        "Сумма квадратов отклонений средних групповых значений от общего среднего "
      ],
      "metadata": {
        "id": "vUwJXVHiQgIX"
      }
    },
    {
      "cell_type": "code",
      "source": [
        "S_f = np.sum((y_mean_1 - 98.33)**2) * 7 + np.sum((y_mean_2 - 98.33)**2) * 7 + np.sum((y_mean_3 - 98.33)**2) * 7 # S_f\n",
        "S_f"
      ],
      "metadata": {
        "colab": {
          "base_uri": "https://localhost:8080/"
        },
        "id": "zDFV0h-xRoDq",
        "outputId": "5715e49f-3dbd-445d-8b69-4544b6cf54a5"
      },
      "execution_count": 36,
      "outputs": [
        {
          "output_type": "execute_result",
          "data": {
            "text/plain": [
              "30836.952614285707"
            ]
          },
          "metadata": {},
          "execution_count": 36
        }
      ]
    },
    {
      "cell_type": "markdown",
      "source": [
        "Остаточная сумма квадратов отклонений"
      ],
      "metadata": {
        "id": "PPpiUrHCSgcd"
      }
    },
    {
      "cell_type": "code",
      "source": [
        "S_ost = np.sum((y1-y_mean_1)**2) + np.sum((y2-y_mean_2)**2) + np.sum ((y3-y_mean_3)**2) # S_ost\n",
        "S_ost"
      ],
      "metadata": {
        "colab": {
          "base_uri": "https://localhost:8080/"
        },
        "id": "wtKMooEhSPAN",
        "outputId": "68aed5c3-cf4d-4b35-89f8-9b423e7f6001"
      },
      "execution_count": 38,
      "outputs": [
        {
          "output_type": "execute_result",
          "data": {
            "text/plain": [
              "1563.7142857142858"
            ]
          },
          "metadata": {},
          "execution_count": 38
        }
      ]
    },
    {
      "cell_type": "code",
      "source": [
        "30836.952614285707 + 1563.7142857142858"
      ],
      "metadata": {
        "colab": {
          "base_uri": "https://localhost:8080/"
        },
        "id": "Tk2g0KFDTJYT",
        "outputId": "dc634f6d-aacf-4dbe-aefc-fb64ddecc0a8"
      },
      "execution_count": 35,
      "outputs": [
        {
          "output_type": "execute_result",
          "data": {
            "text/plain": [
              "32400.666899999993"
            ]
          },
          "metadata": {},
          "execution_count": 35
        }
      ]
    },
    {
      "cell_type": "code",
      "source": [
        "D_f = S_f / ( k - 1)\n",
        "D_f"
      ],
      "metadata": {
        "colab": {
          "base_uri": "https://localhost:8080/"
        },
        "id": "YyKhdpGMXGPb",
        "outputId": "076ab08d-dfbf-4045-cda4-a4e266d0dbce"
      },
      "execution_count": 41,
      "outputs": [
        {
          "output_type": "execute_result",
          "data": {
            "text/plain": [
              "15418.476307142853"
            ]
          },
          "metadata": {},
          "execution_count": 41
        }
      ]
    },
    {
      "cell_type": "code",
      "source": [
        "D_ost = S_ost / ( n - k)\n",
        "D_ost"
      ],
      "metadata": {
        "colab": {
          "base_uri": "https://localhost:8080/"
        },
        "id": "6C_tJdxcXuOh",
        "outputId": "c659f937-672c-4b6b-f3f1-9a9653a089d7"
      },
      "execution_count": 43,
      "outputs": [
        {
          "output_type": "execute_result",
          "data": {
            "text/plain": [
              "86.87301587301587"
            ]
          },
          "metadata": {},
          "execution_count": 43
        }
      ]
    },
    {
      "cell_type": "code",
      "source": [
        "F_n = 15418.476307142853 / 86.87301587301587\n",
        "F_n"
      ],
      "metadata": {
        "colab": {
          "base_uri": "https://localhost:8080/"
        },
        "id": "j_5UpKeLXuUo",
        "outputId": "53c76b04-e44a-444f-f4b9-0baf0d719d7e"
      },
      "execution_count": 44,
      "outputs": [
        {
          "output_type": "execute_result",
          "data": {
            "text/plain": [
              "177.48291747670376"
            ]
          },
          "metadata": {},
          "execution_count": 44
        }
      ]
    },
    {
      "cell_type": "code",
      "source": [
        "# 2 way"
      ],
      "metadata": {
        "id": "a2mzHPydYOvr"
      },
      "execution_count": null,
      "outputs": []
    },
    {
      "cell_type": "code",
      "source": [
        "\n",
        "from statsmodels.stats.multicomp import pairwise_tukeyhsd"
      ],
      "metadata": {
        "colab": {
          "base_uri": "https://localhost:8080/"
        },
        "id": "grQIAZt-YO5O",
        "outputId": "230f3d9b-cdf8-47ba-ee66-29a2b79cb0c1"
      },
      "execution_count": 47,
      "outputs": [
        {
          "output_type": "stream",
          "name": "stderr",
          "text": [
            "/usr/local/lib/python3.7/dist-packages/statsmodels/tools/_testing.py:19: FutureWarning: pandas.util.testing is deprecated. Use the functions in the public API at pandas.testing instead.\n",
            "  import pandas.util.testing as tm\n"
          ]
        }
      ]
    },
    {
      "cell_type": "code",
      "source": [
        "import pandas as pd\n",
        "df = pd.DataFrame({'score': [ 70,  50,  65,  60,  75,  67,  74,\n",
        "                              80,  74,  90,  70,  75,  65,  85,\n",
        "                             148, 142, 140, 150, 160, 170, 155],\n",
        "                   'group': np.repeat(['accountant', 'lawyer', 'programmer'], repeats=7)}) "
      ],
      "metadata": {
        "id": "2LypLc3ZYO8G"
      },
      "execution_count": 60,
      "outputs": []
    },
    {
      "cell_type": "code",
      "source": [
        "tukey = pairwise_tukeyhsd(endog=df['score'],\n",
        "                          groups=df['group'],\n",
        "                          alpha=0.05)\n",
        "print(tukey)"
      ],
      "metadata": {
        "colab": {
          "base_uri": "https://localhost:8080/"
        },
        "id": "Gaf1kd55YO_Y",
        "outputId": "b47be8b5-a774-4ca7-a4f3-d5bf38dda2a3"
      },
      "execution_count": 61,
      "outputs": [
        {
          "output_type": "stream",
          "name": "stdout",
          "text": [
            "    Multiple Comparison of Means - Tukey HSD, FWER=0.05     \n",
            "============================================================\n",
            "  group1     group2   meandiff p-adj   lower   upper  reject\n",
            "------------------------------------------------------------\n",
            "accountant     lawyer  11.1429 0.0917 -1.5675 23.8532  False\n",
            "accountant programmer  86.2857  0.001 73.5754  98.996   True\n",
            "    lawyer programmer  75.1429  0.001 62.4325 87.8532   True\n",
            "------------------------------------------------------------\n"
          ]
        }
      ]
    }
  ]
}