{
  "nbformat": 4,
  "nbformat_minor": 0,
  "metadata": {
    "colab": {
      "name": "Untitled19.ipynb",
      "provenance": [],
      "authorship_tag": "ABX9TyNgi6WVhBnh2ZjHNfMBQNZd",
      "include_colab_link": true
    },
    "kernelspec": {
      "name": "python3",
      "display_name": "Python 3"
    },
    "language_info": {
      "name": "python"
    }
  },
  "cells": [
    {
      "cell_type": "markdown",
      "metadata": {
        "id": "view-in-github",
        "colab_type": "text"
      },
      "source": [
        "<a href=\"https://colab.research.google.com/github/Elena8719/math/blob/main/%D0%9E%D1%82%D0%BD%D0%BE%D1%81%20%D1%87%D0%B0%D1%81%D1%82%D0%BE%D1%82%D0%B0%202%20%D0%BF%D1%80%D0%B8%D0%BC%D0%B5%D1%80%D0%B0.ipynb\" target=\"_parent\"><img src=\"https://colab.research.google.com/assets/colab-badge.svg\" alt=\"Open In Colab\"/></a>"
      ]
    },
    {
      "cell_type": "code",
      "execution_count": 2,
      "metadata": {
        "colab": {
          "base_uri": "https://localhost:8080/"
        },
        "id": "z3Dv5lIPCvU6",
        "outputId": "b9f73f38-d690-48fd-c8d5-113bd4ce6d3c"
      },
      "outputs": [
        {
          "output_type": "execute_result",
          "data": {
            "text/plain": [
              "array([6, 4, 5, 1, 2, 4, 6, 1, 1, 2, 5, 6, 5, 2, 3, 5, 6, 3, 5, 4, 5, 3,\n",
              "       5, 6, 3, 5, 2, 2, 1, 6, 2, 2, 6, 2, 2, 1, 5, 2, 1, 1, 6, 4, 3, 2,\n",
              "       1, 4, 6, 2, 2, 4, 5, 1, 2, 4, 5, 3, 5, 1, 6, 4])"
            ]
          },
          "metadata": {},
          "execution_count": 2
        }
      ],
      "source": [
        "import numpy as np\n",
        "np.random.seed(1)\n",
        "n= 60\n",
        "b= np. random.randint (1, 7, n)\n",
        "b"
      ]
    },
    {
      "cell_type": "code",
      "source": [
        "a = b [b == 3]\n",
        "a"
      ],
      "metadata": {
        "colab": {
          "base_uri": "https://localhost:8080/"
        },
        "id": "39GFjh_fDpgk",
        "outputId": "f507fa3e-fa36-407b-fa1c-f2681e1ecb6d"
      },
      "execution_count": 4,
      "outputs": [
        {
          "output_type": "execute_result",
          "data": {
            "text/plain": [
              "array([3, 3, 3, 3, 3, 3])"
            ]
          },
          "metadata": {},
          "execution_count": 4
        }
      ]
    },
    {
      "cell_type": "code",
      "source": [
        "m = len ( a )\n",
        "m"
      ],
      "metadata": {
        "colab": {
          "base_uri": "https://localhost:8080/"
        },
        "id": "LKhU6YD6DzjP",
        "outputId": "e29c5727-f725-455e-a127-a05ddeb6a438"
      },
      "execution_count": 5,
      "outputs": [
        {
          "output_type": "execute_result",
          "data": {
            "text/plain": [
              "6"
            ]
          },
          "metadata": {},
          "execution_count": 5
        }
      ]
    },
    {
      "cell_type": "markdown",
      "source": [
        "Теперь можем вычислить относительную частоту события А"
      ],
      "metadata": {
        "id": "6kU-xwqzD-Dv"
      }
    },
    {
      "cell_type": "code",
      "source": [
        "W = m/n\n",
        "W"
      ],
      "metadata": {
        "colab": {
          "base_uri": "https://localhost:8080/"
        },
        "id": "tNZW2JmKEE14",
        "outputId": "080e32b9-a26b-49e3-c33b-764475dc2ffb"
      },
      "execution_count": 7,
      "outputs": [
        {
          "output_type": "execute_result",
          "data": {
            "text/plain": [
              "0.1"
            ]
          },
          "metadata": {},
          "execution_count": 7
        }
      ]
    },
    {
      "cell_type": "markdown",
      "source": [
        "Смоделируем ситуацию, когда бросают две игральные кости одновременно 360 раз.\n",
        "Посчитаем относительную частоту события, когда на одной кости выпадает 1 , а на другой 2"
      ],
      "metadata": {
        "id": "EA3-UcgMGRyF"
      }
    },
    {
      "cell_type": "code",
      "source": [
        "n = 360"
      ],
      "metadata": {
        "id": "4-j6LFcWGEsk"
      },
      "execution_count": 10,
      "outputs": []
    },
    {
      "cell_type": "code",
      "source": [
        "np.random.seed(1)\n",
        "c = np.random.randint (1, 7, size = n)\n",
        "d = np.random.randint (1, 7, size = n)"
      ],
      "metadata": {
        "id": "Nqn8uiMwGEvr"
      },
      "execution_count": 13,
      "outputs": []
    },
    {
      "cell_type": "code",
      "source": [
        "c"
      ],
      "metadata": {
        "colab": {
          "base_uri": "https://localhost:8080/"
        },
        "id": "lXNP2V05GEyy",
        "outputId": "0e4403a0-ef4c-4c99-9de5-1f0456bd803d"
      },
      "execution_count": 14,
      "outputs": [
        {
          "output_type": "execute_result",
          "data": {
            "text/plain": [
              "array([6, 4, 5, 1, 2, 4, 6, 1, 1, 2, 5, 6, 5, 2, 3, 5, 6, 3, 5, 4, 5, 3,\n",
              "       5, 6, 3, 5, 2, 2, 1, 6, 2, 2, 6, 2, 2, 1, 5, 2, 1, 1, 6, 4, 3, 2,\n",
              "       1, 4, 6, 2, 2, 4, 5, 1, 2, 4, 5, 3, 5, 1, 6, 4, 2, 3, 1, 5, 2, 3,\n",
              "       3, 2, 1, 2, 4, 6, 5, 4, 6, 2, 4, 1, 1, 3, 3, 2, 4, 5, 3, 1, 1, 2,\n",
              "       2, 6, 4, 1, 1, 6, 6, 5, 6, 3, 5, 4, 6, 4, 6, 1, 4, 5, 4, 5, 5, 6,\n",
              "       5, 2, 1, 5, 3, 1, 6, 3, 5, 2, 2, 1, 3, 5, 5, 1, 5, 2, 5, 2, 1, 3,\n",
              "       4, 2, 3, 5, 5, 3, 3, 1, 2, 3, 3, 1, 6, 2, 3, 5, 1, 6, 6, 2, 3, 2,\n",
              "       6, 5, 3, 1, 6, 1, 2, 6, 1, 2, 4, 2, 2, 6, 5, 5, 4, 6, 1, 4, 1, 4,\n",
              "       2, 3, 6, 6, 5, 6, 1, 6, 1, 6, 4, 2, 2, 6, 1, 6, 1, 5, 3, 6, 4, 5,\n",
              "       3, 1, 6, 4, 4, 6, 6, 2, 3, 5, 4, 1, 1, 6, 5, 3, 5, 3, 1, 6, 4, 1,\n",
              "       1, 5, 6, 3, 2, 1, 5, 4, 1, 2, 3, 5, 5, 4, 4, 4, 4, 3, 4, 4, 6, 5,\n",
              "       4, 3, 5, 5, 1, 4, 4, 1, 4, 6, 6, 2, 1, 3, 3, 3, 1, 3, 2, 5, 1, 5,\n",
              "       5, 2, 4, 2, 5, 2, 3, 6, 2, 1, 1, 3, 5, 2, 1, 1, 4, 2, 1, 5, 4, 3,\n",
              "       4, 5, 6, 5, 4, 1, 1, 1, 5, 6, 2, 6, 5, 2, 3, 6, 3, 6, 5, 6, 4, 5,\n",
              "       5, 1, 4, 3, 5, 6, 4, 5, 3, 4, 1, 6, 6, 3, 2, 4, 3, 1, 6, 2, 5, 2,\n",
              "       4, 4, 2, 3, 1, 3, 5, 1, 3, 5, 4, 5, 4, 1, 6, 6, 5, 3, 3, 5, 2, 3,\n",
              "       6, 2, 2, 2, 1, 6, 6, 5])"
            ]
          },
          "metadata": {},
          "execution_count": 14
        }
      ]
    },
    {
      "cell_type": "code",
      "source": [
        "d"
      ],
      "metadata": {
        "colab": {
          "base_uri": "https://localhost:8080/"
        },
        "id": "adeD27kQHF9Y",
        "outputId": "e131c0d5-c83d-4288-fb97-ebf3b665d339"
      },
      "execution_count": 15,
      "outputs": [
        {
          "output_type": "execute_result",
          "data": {
            "text/plain": [
              "array([5, 3, 3, 4, 2, 5, 1, 1, 4, 3, 5, 2, 4, 2, 2, 3, 6, 6, 5, 6, 1, 4,\n",
              "       1, 5, 3, 4, 6, 2, 2, 5, 5, 1, 3, 2, 4, 1, 2, 1, 6, 3, 3, 5, 4, 3,\n",
              "       3, 3, 1, 6, 3, 1, 5, 6, 2, 6, 1, 3, 4, 1, 5, 4, 4, 4, 1, 4, 2, 3,\n",
              "       1, 2, 5, 3, 4, 5, 6, 5, 3, 2, 3, 6, 1, 6, 4, 6, 4, 3, 1, 1, 1, 1,\n",
              "       3, 5, 1, 5, 2, 3, 2, 3, 5, 2, 4, 6, 2, 6, 2, 3, 5, 2, 1, 3, 6, 2,\n",
              "       3, 1, 1, 6, 4, 5, 2, 6, 1, 5, 1, 4, 3, 5, 4, 3, 5, 3, 5, 1, 1, 6,\n",
              "       5, 3, 3, 5, 3, 4, 6, 1, 1, 5, 4, 5, 4, 4, 5, 1, 6, 4, 6, 2, 5, 5,\n",
              "       4, 3, 3, 3, 3, 3, 1, 3, 2, 6, 3, 4, 6, 1, 1, 6, 6, 6, 2, 2, 4, 4,\n",
              "       6, 4, 2, 4, 4, 4, 2, 4, 1, 5, 6, 1, 6, 6, 3, 5, 5, 3, 1, 4, 6, 3,\n",
              "       5, 6, 1, 5, 6, 3, 4, 5, 3, 5, 2, 4, 5, 4, 1, 4, 1, 5, 4, 1, 6, 4,\n",
              "       2, 5, 5, 6, 3, 6, 6, 3, 5, 3, 2, 3, 4, 2, 6, 6, 4, 4, 1, 5, 4, 4,\n",
              "       6, 4, 4, 1, 3, 4, 6, 2, 6, 4, 3, 6, 4, 3, 6, 3, 1, 5, 1, 2, 4, 1,\n",
              "       1, 1, 2, 3, 5, 5, 3, 1, 2, 1, 1, 6, 3, 6, 5, 4, 1, 3, 2, 4, 4, 2,\n",
              "       5, 5, 5, 6, 1, 2, 1, 2, 3, 3, 5, 6, 6, 3, 5, 6, 1, 6, 3, 6, 5, 5,\n",
              "       2, 2, 2, 2, 6, 5, 6, 4, 5, 2, 2, 6, 2, 3, 5, 4, 3, 4, 4, 3, 4, 1,\n",
              "       3, 1, 2, 6, 1, 6, 1, 4, 5, 1, 1, 6, 1, 1, 2, 1, 6, 2, 4, 4, 5, 6,\n",
              "       1, 2, 6, 1, 4, 3, 2, 2])"
            ]
          },
          "metadata": {},
          "execution_count": 15
        }
      ]
    },
    {
      "cell_type": "code",
      "source": [
        "a = c[( c == 1) & (d == 2)]\n",
        "a"
      ],
      "metadata": {
        "colab": {
          "base_uri": "https://localhost:8080/"
        },
        "id": "042fatblHOXy",
        "outputId": "7fa94318-8ae9-4e67-ef0c-6d731fe58a3b"
      },
      "execution_count": 17,
      "outputs": [
        {
          "output_type": "execute_result",
          "data": {
            "text/plain": [
              "array([1, 1, 1, 1, 1, 1, 1, 1, 1, 1, 1, 1])"
            ]
          },
          "metadata": {},
          "execution_count": 17
        }
      ]
    },
    {
      "cell_type": "code",
      "source": [
        "m = len ( a )\n",
        "m"
      ],
      "metadata": {
        "colab": {
          "base_uri": "https://localhost:8080/"
        },
        "id": "qYHJ0wxXHa1R",
        "outputId": "0a370fb9-db25-4ab4-ccf8-99128f2ca28f"
      },
      "execution_count": 19,
      "outputs": [
        {
          "output_type": "execute_result",
          "data": {
            "text/plain": [
              "12"
            ]
          },
          "metadata": {},
          "execution_count": 19
        }
      ]
    },
    {
      "cell_type": "code",
      "source": [
        "W = m / n\n",
        "W"
      ],
      "metadata": {
        "colab": {
          "base_uri": "https://localhost:8080/"
        },
        "id": "pzz_mhZ-HiQC",
        "outputId": "83b7928b-50d9-4382-c5ae-30604decb435"
      },
      "execution_count": 21,
      "outputs": [
        {
          "output_type": "execute_result",
          "data": {
            "text/plain": [
              "0.03333333333333333"
            ]
          },
          "metadata": {},
          "execution_count": 21
        }
      ]
    }
  ]
}