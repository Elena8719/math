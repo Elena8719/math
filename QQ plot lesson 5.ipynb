{
  "nbformat": 4,
  "nbformat_minor": 0,
  "metadata": {
    "colab": {
      "name": "Untitled24.ipynb",
      "provenance": [],
      "authorship_tag": "ABX9TyPxHorNTgeIGlME8QvbLDfi",
      "include_colab_link": true
    },
    "kernelspec": {
      "name": "python3",
      "display_name": "Python 3"
    },
    "language_info": {
      "name": "python"
    }
  },
  "cells": [
    {
      "cell_type": "markdown",
      "metadata": {
        "id": "view-in-github",
        "colab_type": "text"
      },
      "source": [
        "<a href=\"https://colab.research.google.com/github/Elena8719/math/blob/main/QQ%20plot%20lesson%205.ipynb\" target=\"_parent\"><img src=\"https://colab.research.google.com/assets/colab-badge.svg\" alt=\"Open In Colab\"/></a>"
      ]
    },
    {
      "cell_type": "code",
      "execution_count": 3,
      "metadata": {
        "colab": {
          "base_uri": "https://localhost:8080/"
        },
        "id": "ahk8h7rpXIkN",
        "outputId": "d7792e32-2666-46a8-b475-33dbf0e39675"
      },
      "outputs": [
        {
          "output_type": "execute_result",
          "data": {
            "text/plain": [
              "array([-0.8308352 , -1.22330677,  1.14147791,  1.09234534,  0.62956255,\n",
              "       -1.77623451,  0.2417895 ,  0.16422703, -0.39304956, -0.34111747,\n",
              "       -1.01960401,  1.90121967,  0.9497801 ,  1.01874017, -1.2895227 ,\n",
              "        0.39968312,  1.15994882, -0.41109212, -0.14580566, -0.93401605,\n",
              "        0.36926787,  0.4625372 ,  2.03025474,  1.38008788,  0.66926223,\n",
              "        1.25644287, -1.58902773, -0.72618984, -0.96019454,  0.7881037 ,\n",
              "       -0.73732969, -2.48414588, -0.28806338,  0.44656809, -0.03270258,\n",
              "       -0.71843857, -0.5647783 ,  2.64175612,  1.15380191,  2.02101559,\n",
              "       -0.2262458 , -0.93001156,  0.71105609, -0.49902928,  1.0021421 ,\n",
              "        2.24809684,  0.20540109, -1.05153535, -0.83760466, -0.05987732])"
            ]
          },
          "metadata": {},
          "execution_count": 3
        }
      ],
      "source": [
        "import numpy as np\n",
        "import pylab\n",
        "import scipy.stats as stats\n",
        "s=np.random.normal(0,1,50)\n",
        "s"
      ]
    },
    {
      "cell_type": "code",
      "source": [
        "stats.probplot(s, dist=\"norm\", plot= pylab)"
      ],
      "metadata": {
        "colab": {
          "base_uri": "https://localhost:8080/",
          "height": 659
        },
        "id": "OmPHJkCXYrRZ",
        "outputId": "398a78cb-1fa1-49a8-9207-f99a76c1f657"
      },
      "execution_count": 7,
      "outputs": [
        {
          "output_type": "execute_result",
          "data": {
            "text/plain": [
              "((array([-2.20385432, -1.83293478, -1.61402323, -1.45296849, -1.32267759,\n",
              "         -1.21163342, -1.113805  , -1.02561527, -0.94475674, -0.86964726,\n",
              "         -0.79915021, -0.73241807, -0.66879925, -0.6077796 , -0.54894415,\n",
              "         -0.49195112, -0.43651377, -0.38238727, -0.32935914, -0.27724191,\n",
              "         -0.2258675 , -0.17508277, -0.12474591, -0.07472335, -0.02488719,\n",
              "          0.02488719,  0.07472335,  0.12474591,  0.17508277,  0.2258675 ,\n",
              "          0.27724191,  0.32935914,  0.38238727,  0.43651377,  0.49195112,\n",
              "          0.54894415,  0.6077796 ,  0.66879925,  0.73241807,  0.79915021,\n",
              "          0.86964726,  0.94475674,  1.02561527,  1.113805  ,  1.21163342,\n",
              "          1.32267759,  1.45296849,  1.61402323,  1.83293478,  2.20385432]),\n",
              "  array([-2.48414588, -1.77623451, -1.58902773, -1.2895227 , -1.22330677,\n",
              "         -1.05153535, -1.01960401, -0.96019454, -0.93401605, -0.93001156,\n",
              "         -0.83760466, -0.8308352 , -0.73732969, -0.72618984, -0.71843857,\n",
              "         -0.5647783 , -0.49902928, -0.41109212, -0.39304956, -0.34111747,\n",
              "         -0.28806338, -0.2262458 , -0.14580566, -0.05987732, -0.03270258,\n",
              "          0.16422703,  0.20540109,  0.2417895 ,  0.36926787,  0.39968312,\n",
              "          0.44656809,  0.4625372 ,  0.62956255,  0.66926223,  0.71105609,\n",
              "          0.7881037 ,  0.9497801 ,  1.0021421 ,  1.01874017,  1.09234534,\n",
              "          1.14147791,  1.15380191,  1.15994882,  1.25644287,  1.38008788,\n",
              "          1.90121967,  2.02101559,  2.03025474,  2.24809684,  2.64175612])),\n",
              " (1.1431472407374725, 0.12029620055547241, 0.994054181394382))"
            ]
          },
          "metadata": {},
          "execution_count": 7
        },
        {
          "output_type": "display_data",
          "data": {
            "text/plain": [
              "<Figure size 432x288 with 1 Axes>"
            ],
            "image/png": "[encoded data removed]"
          },
          "metadata": {
            "needs_background": "light"
          }
        }
      ]
    }
  ]
}