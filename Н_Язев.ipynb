{
 "cells": [
  {
   "cell_type": "code",
   "execution_count": 1,
   "id": "0073dd7c",
   "metadata": {},
   "outputs": [],
   "source": [
    "import numpy as np"
   ]
  },
  {
   "cell_type": "code",
   "execution_count": 2,
   "id": "aadcf8ac",
   "metadata": {},
   "outputs": [],
   "source": [
    "x = np.array([35, 45, 190, 200, 40, 70, 54, 150, 120, 110])"
   ]
  },
  {
   "cell_type": "code",
   "execution_count": 3,
   "id": "6601528a",
   "metadata": {},
   "outputs": [],
   "source": [
    "y = np.array([401, 574, 874, 919, 459, 739, 653, 902, 746, 832])"
   ]
  },
  {
   "cell_type": "markdown",
   "id": "bcb2704d",
   "metadata": {},
   "source": [
    "# Задание_1"
   ]
  },
  {
   "cell_type": "markdown",
   "id": "331dd721",
   "metadata": {},
   "source": [
    "### with intercept"
   ]
  },
  {
   "cell_type": "code",
   "execution_count": 4,
   "id": "4d2c39a3",
   "metadata": {},
   "outputs": [
    {
     "data": {
      "text/plain": [
       "2.620538882402765"
      ]
     },
     "execution_count": 4,
     "metadata": {},
     "output_type": "execute_result"
    }
   ],
   "source": [
    "b = (np.mean(x * y) - np.mean(x) * np.mean(y)) / (np.mean(x**2) - np.mean(x) ** 2)\n",
    "b"
   ]
  },
  {
   "cell_type": "code",
   "execution_count": 5,
   "id": "8fbd0ccf",
   "metadata": {},
   "outputs": [
    {
     "data": {
      "text/plain": [
       "444.1773573243596"
      ]
     },
     "execution_count": 5,
     "metadata": {},
     "output_type": "execute_result"
    }
   ],
   "source": [
    "a = np.mean(y) - b * np.mean(x)\n",
    "a"
   ]
  },
  {
   "cell_type": "markdown",
   "id": "2303f0c2",
   "metadata": {},
   "source": [
    "получим:\n",
    "y = 444.18 + (2.62)x"
   ]
  },
  {
   "cell_type": "markdown",
   "id": "4764b40f",
   "metadata": {},
   "source": [
    "### without intercept "
   ]
  },
  {
   "cell_type": "code",
   "execution_count": 6,
   "id": "057c1bbe",
   "metadata": {},
   "outputs": [
    {
     "data": {
      "text/plain": [
       "array([[ 35],\n",
       "       [ 45],\n",
       "       [190],\n",
       "       [200],\n",
       "       [ 40],\n",
       "       [ 70],\n",
       "       [ 54],\n",
       "       [150],\n",
       "       [120],\n",
       "       [110]])"
      ]
     },
     "execution_count": 6,
     "metadata": {},
     "output_type": "execute_result"
    }
   ],
   "source": [
    "x = x.reshape((10,1))\n",
    "x"
   ]
  },
  {
   "cell_type": "code",
   "execution_count": 7,
   "id": "02e7a197",
   "metadata": {},
   "outputs": [
    {
     "data": {
      "text/plain": [
       "array([[401],\n",
       "       [574],\n",
       "       [874],\n",
       "       [919],\n",
       "       [459],\n",
       "       [739],\n",
       "       [653],\n",
       "       [902],\n",
       "       [746],\n",
       "       [832]])"
      ]
     },
     "execution_count": 7,
     "metadata": {},
     "output_type": "execute_result"
    }
   ],
   "source": [
    "y = y.reshape((10,1))\n",
    "y"
   ]
  },
  {
   "cell_type": "code",
   "execution_count": 8,
   "id": "6cd8a11e",
   "metadata": {},
   "outputs": [
    {
     "data": {
      "text/plain": [
       "array([[5.88982042]])"
      ]
     },
     "execution_count": 8,
     "metadata": {},
     "output_type": "execute_result"
    }
   ],
   "source": [
    "B = np.linalg.inv(x.T @ x) @ x.T @ y\n",
    "B"
   ]
  },
  {
   "cell_type": "markdown",
   "id": "d9cf9c60",
   "metadata": {},
   "source": [
    "получаем: y = 5.89x"
   ]
  },
  {
   "cell_type": "markdown",
   "id": "50d6426f",
   "metadata": {},
   "source": [
    "# Задание_2"
   ]
  },
  {
   "cell_type": "code",
   "execution_count": 9,
   "id": "63af45f0",
   "metadata": {},
   "outputs": [],
   "source": [
    "x = np.array([35, 45, 190, 200, 40, 70, 54, 150, 120, 110])"
   ]
  },
  {
   "cell_type": "code",
   "execution_count": 10,
   "id": "4853444b",
   "metadata": {},
   "outputs": [],
   "source": [
    "y = np.array([401, 574, 874, 919, 459, 739, 653, 902, 746, 832])"
   ]
  },
  {
   "cell_type": "code",
   "execution_count": 11,
   "id": "8de3ddf4",
   "metadata": {},
   "outputs": [],
   "source": [
    "n = 10"
   ]
  },
  {
   "cell_type": "code",
   "execution_count": 12,
   "id": "f6031607",
   "metadata": {},
   "outputs": [],
   "source": [
    "alpha = 0.000001"
   ]
  },
  {
   "cell_type": "code",
   "execution_count": 13,
   "id": "480ddcf2",
   "metadata": {},
   "outputs": [],
   "source": [
    "B1 = 0"
   ]
  },
  {
   "cell_type": "code",
   "execution_count": 14,
   "id": "15b66cfc",
   "metadata": {},
   "outputs": [
    {
     "name": "stdout",
     "output_type": "stream",
     "text": [
      "0.1622834\n",
      "5.889820420128484\n",
      "5.889820420132673\n",
      "5.889820420132673\n",
      "5.889820420132673\n",
      "5.889820420132673\n",
      "5.889820420132673\n",
      "5.889820420132673\n",
      "5.889820420132673\n",
      "5.889820420132673\n"
     ]
    }
   ],
   "source": [
    "for i in range(10000):\n",
    "    B1 -= alpha * (2/n) * np.sum((B1*x - y) * x)\n",
    "    if i % 1000 == 0:\n",
    "        print(B1)"
   ]
  },
  {
   "cell_type": "markdown",
   "id": "17ad1f0a",
   "metadata": {},
   "source": [
    "# Задание_3"
   ]
  },
  {
   "cell_type": "code",
   "execution_count": 15,
   "id": "9b265853",
   "metadata": {},
   "outputs": [
    {
     "name": "stdout",
     "output_type": "stream",
     "text": [
      "a = 2.290747176883373, b = 5.873019702381174\n"
     ]
    }
   ],
   "source": [
    "a = 0\n",
    "b = 0\n",
    "alpha = 0.000001\n",
    "n = len(x)\n",
    "\n",
    "for _ in range(10000):\n",
    "    pred = a + b * x\n",
    "    resid = y - pred\n",
    "    a -= alpha * ((2/n) * np.sum(resid) * -1)\n",
    "    b -= alpha * ((2/n) * resid.dot(x) * -1)\n",
    "print(f'a = {a}, b = {b}')"
   ]
  }
 ],
 "metadata": {
  "kernelspec": {
   "display_name": "Python 3 (ipykernel)",
   "language": "python",
   "name": "python3"
  },
  "language_info": {
   "codemirror_mode": {
    "name": "ipython",
    "version": 3
   },
   "file_extension": ".py",
   "mimetype": "text/x-python",
   "name": "python",
   "nbconvert_exporter": "python",
   "pygments_lexer": "ipython3",
   "version": "3.9.12"
  }
 },
 "nbformat": 4,
 "nbformat_minor": 5
}
