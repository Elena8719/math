{
  "nbformat": 4,
  "nbformat_minor": 0,
  "metadata": {
    "colab": {
      "name": "Untitled29.ipynb",
      "provenance": [],
      "authorship_tag": "ABX9TyMDC3UDZDVw7n21+mbcoeFf",
      "include_colab_link": true
    },
    "kernelspec": {
      "name": "python3",
      "display_name": "Python 3"
    },
    "language_info": {
      "name": "python"
    }
  },
  "cells": [
    {
      "cell_type": "markdown",
      "metadata": {
        "id": "view-in-github",
        "colab_type": "text"
      },
      "source": [
        "<a href=\"https://colab.research.google.com/github/Elena8719/math/blob/main/%D1%83%D1%80%D0%BE%D0%BA%209%20%D1%87%D0%B0%D1%81%D1%82%D1%8C%202.ipynb\" target=\"_parent\"><img src=\"https://colab.research.google.com/assets/colab-badge.svg\" alt=\"Open In Colab\"/></a>"
      ]
    },
    {
      "cell_type": "code",
      "execution_count": 16,
      "metadata": {
        "id": "3kq4ZnUYk8ST"
      },
      "outputs": [],
      "source": [
        "import numpy as np\n",
        "s=np.array([27, 37, 42, 48, 57, 56, 77, 80])\n",
        "\n",
        "p = np.array([1.2, 1.6, 1.8, 1.8, 2.5, 2.6, 3, 3.3])\n"
      ]
    },
    {
      "cell_type": "code",
      "source": [
        "n=8"
      ],
      "metadata": {
        "id": "SuAkv9bjlvcG"
      },
      "execution_count": 6,
      "outputs": []
    },
    {
      "cell_type": "code",
      "source": [
        "b1 = (n*np.sum(p*s)- np. sum(s) * np.sum(p))/(n* np.sum(s**2)- np.sum(s)**2)"
      ],
      "metadata": {
        "colab": {
          "base_uri": "https://localhost:8080/"
        },
        "id": "XtEfssPjlvlG",
        "outputId": "e5b00104-2726-44d4-e8df-45a2bf67543b"
      },
      "execution_count": 7,
      "outputs": [
        {
          "output_type": "execute_result",
          "data": {
            "text/plain": [
              "0.03874584717607981"
            ]
          },
          "metadata": {},
          "execution_count": 7
        }
      ]
    },
    {
      "cell_type": "markdown",
      "source": [
        "или 2й способ:"
      ],
      "metadata": {
        "id": "8n7eb0DxnAjT"
      }
    },
    {
      "cell_type": "code",
      "source": [
        "b1= (np.mean(s*p)-np.mean(s)*np.mean(p))/(np.mean(s**2)-np.mean(s)**2)\n",
        "b1"
      ],
      "metadata": {
        "colab": {
          "base_uri": "https://localhost:8080/"
        },
        "id": "unr8UhKSlLIQ",
        "outputId": "08817759-0f0a-4899-c217-a0305a0a0e9a"
      },
      "execution_count": 4,
      "outputs": [
        {
          "output_type": "execute_result",
          "data": {
            "text/plain": [
              "0.03874584717607981"
            ]
          },
          "metadata": {},
          "execution_count": 4
        }
      ]
    },
    {
      "cell_type": "code",
      "source": [
        "b0 = np.mean(p)-b1*np.mean(s)\n",
        "b0"
      ],
      "metadata": {
        "colab": {
          "base_uri": "https://localhost:8080/"
        },
        "id": "tK-8VtzAnGUT",
        "outputId": "b95cec1b-2495-401a-9018-d5a6db723713"
      },
      "execution_count": 43,
      "outputs": [
        {
          "output_type": "execute_result",
          "data": {
            "text/plain": [
              "0.17147009966776983"
            ]
          },
          "metadata": {},
          "execution_count": 43
        }
      ]
    },
    {
      "cell_type": "code",
      "source": [
        "y_pred=0.17147009 +0.03874585 * s \n",
        "y_pred"
      ],
      "metadata": {
        "colab": {
          "base_uri": "https://localhost:8080/"
        },
        "id": "k0ToPRwFsUty",
        "outputId": "07ce3670-91a5-4445-fe29-a1911846c66a"
      },
      "execution_count": 45,
      "outputs": [
        {
          "output_type": "execute_result",
          "data": {
            "text/plain": [
              "array([[1.21760804],\n",
              "       [1.60506654],\n",
              "       [1.79879579],\n",
              "       [2.03127089],\n",
              "       [2.37998354],\n",
              "       [2.34123769],\n",
              "       [3.15490054],\n",
              "       [3.27113809]])"
            ]
          },
          "metadata": {},
          "execution_count": 45
        }
      ]
    },
    {
      "cell_type": "code",
      "source": [
        "import numpy as np\n",
        "from sklearn.linear_model import LinearRegression"
      ],
      "metadata": {
        "id": "XLHF4N6FnWyT"
      },
      "execution_count": 10,
      "outputs": []
    },
    {
      "cell_type": "code",
      "source": [
        "model = LinearRegression()"
      ],
      "metadata": {
        "id": "sFTlP4EAnW1l"
      },
      "execution_count": 14,
      "outputs": []
    },
    {
      "cell_type": "code",
      "source": [
        ""
      ],
      "metadata": {
        "colab": {
          "base_uri": "https://localhost:8080/"
        },
        "id": "eywGkZVLoVvU",
        "outputId": "2f3b5ddb-b0c3-487b-bc46-d66925e5d73e"
      },
      "execution_count": 20,
      "outputs": [
        {
          "output_type": "execute_result",
          "data": {
            "text/plain": [
              "<function ndarray.reshape>"
            ]
          },
          "metadata": {},
          "execution_count": 20
        }
      ]
    },
    {
      "cell_type": "code",
      "source": [
        "s=s.reshape(-1,1)\n"
      ],
      "metadata": {
        "id": "AVShDyWKofBV"
      },
      "execution_count": 28,
      "outputs": []
    },
    {
      "cell_type": "code",
      "source": [
        "regres=model.fit(s,p)\n"
      ],
      "metadata": {
        "id": "1TULDGOlnW5R"
      },
      "execution_count": 35,
      "outputs": []
    },
    {
      "cell_type": "code",
      "source": [
        "print(model.intercept_)"
      ],
      "metadata": {
        "colab": {
          "base_uri": "https://localhost:8080/"
        },
        "id": "Uc5QH42QnW8h",
        "outputId": "de124d25-01fb-4648-e09f-3ed1bdf6d853"
      },
      "execution_count": 38,
      "outputs": [
        {
          "output_type": "stream",
          "name": "stdout",
          "text": [
            "0.1714700996677747\n"
          ]
        }
      ]
    },
    {
      "cell_type": "code",
      "source": [
        "print(model.coef_)"
      ],
      "metadata": {
        "colab": {
          "base_uri": "https://localhost:8080/"
        },
        "id": "DENPzTD_rvR-",
        "outputId": "3456d2a2-b01d-4f3e-fc12-b6fd619c3b1a"
      },
      "execution_count": 40,
      "outputs": [
        {
          "output_type": "stream",
          "name": "stdout",
          "text": [
            "[0.03874585]\n"
          ]
        }
      ]
    },
    {
      "cell_type": "code",
      "source": [
        "y_pred = model.predict(s)\n",
        "y_pred\n",
        "\n"
      ],
      "metadata": {
        "colab": {
          "base_uri": "https://localhost:8080/"
        },
        "id": "7zk8J2R4nXAT",
        "outputId": "516b9b57-3fed-4c28-b1db-822b040773e6"
      },
      "execution_count": 52,
      "outputs": [
        {
          "output_type": "execute_result",
          "data": {
            "text/plain": [
              "array([1.21760797, 1.60506645, 1.79879568, 2.03127076, 2.37998339,\n",
              "       2.34123754, 3.15490033, 3.27113787])"
            ]
          },
          "metadata": {},
          "execution_count": 52
        }
      ]
    },
    {
      "cell_type": "code",
      "source": [
        "df = pd.DataFrame({'реальные': p, 'предсказанные': y_pred})\n",
        "df"
      ],
      "metadata": {
        "colab": {
          "base_uri": "https://localhost:8080/",
          "height": 300
        },
        "id": "eat9evZ6t7hQ",
        "outputId": "8d5f6212-0af9-4038-c7bd-4ab002ae9165"
      },
      "execution_count": 57,
      "outputs": [
        {
          "output_type": "execute_result",
          "data": {
            "text/plain": [
              "   реальные  предсказанные\n",
              "0       1.2       1.217608\n",
              "1       1.6       1.605066\n",
              "2       1.8       1.798796\n",
              "3       1.8       2.031271\n",
              "4       2.5       2.379983\n",
              "5       2.6       2.341238\n",
              "6       3.0       3.154900\n",
              "7       3.3       3.271138"
            ],
            "text/html": [
              "\n",
              "  <div id=\"df-14f9d03d-49a5-4590-b7a4-b22b7abd40a3\">\n",
              "    <div class=\"colab-df-container\">\n",
              "      <div>\n",
              "<style scoped>\n",
              "    .dataframe tbody tr th:only-of-type {\n",
              "        vertical-align: middle;\n",
              "    }\n",
              "\n",
              "    .dataframe tbody tr th {\n",
              "        vertical-align: top;\n",
              "    }\n",
              "\n",
              "    .dataframe thead th {\n",
              "        text-align: right;\n",
              "    }\n",
              "</style>\n",
              "<table border=\"1\" class=\"dataframe\">\n",
              "  <thead>\n",
              "    <tr style=\"text-align: right;\">\n",
              "      <th></th>\n",
              "      <th>реальные</th>\n",
              "      <th>предсказанные</th>\n",
              "    </tr>\n",
              "  </thead>\n",
              "  <tbody>\n",
              "    <tr>\n",
              "      <th>0</th>\n",
              "      <td>1.2</td>\n",
              "      <td>1.217608</td>\n",
              "    </tr>\n",
              "    <tr>\n",
              "      <th>1</th>\n",
              "      <td>1.6</td>\n",
              "      <td>1.605066</td>\n",
              "    </tr>\n",
              "    <tr>\n",
              "      <th>2</th>\n",
              "      <td>1.8</td>\n",
              "      <td>1.798796</td>\n",
              "    </tr>\n",
              "    <tr>\n",
              "      <th>3</th>\n",
              "      <td>1.8</td>\n",
              "      <td>2.031271</td>\n",
              "    </tr>\n",
              "    <tr>\n",
              "      <th>4</th>\n",
              "      <td>2.5</td>\n",
              "      <td>2.379983</td>\n",
              "    </tr>\n",
              "    <tr>\n",
              "      <th>5</th>\n",
              "      <td>2.6</td>\n",
              "      <td>2.341238</td>\n",
              "    </tr>\n",
              "    <tr>\n",
              "      <th>6</th>\n",
              "      <td>3.0</td>\n",
              "      <td>3.154900</td>\n",
              "    </tr>\n",
              "    <tr>\n",
              "      <th>7</th>\n",
              "      <td>3.3</td>\n",
              "      <td>3.271138</td>\n",
              "    </tr>\n",
              "  </tbody>\n",
              "</table>\n",
              "</div>\n",
              "      <button class=\"colab-df-convert\" onclick=\"convertToInteractive('df-14f9d03d-49a5-4590-b7a4-b22b7abd40a3')\"\n",
              "              title=\"Convert this dataframe to an interactive table.\"\n",
              "              style=\"display:none;\">\n",
              "        \n",
              "  <svg xmlns=\"http://www.w3.org/2000/svg\" height=\"24px\"viewBox=\"0 0 24 24\"\n",
              "       width=\"24px\">\n",
              "    <path d=\"M0 0h24v24H0V0z\" fill=\"none\"/>\n",
              "    <path d=\"M18.56 5.44l.94 2.06.94-2.06 2.06-.94-2.06-.94-.94-2.06-.94 2.06-2.06.94zm-11 1L8.5 8.5l.94-2.06 2.06-.94-2.06-.94L8.5 2.5l-.94 2.06-2.06.94zm10 10l.94 2.06.94-2.06 2.06-.94-2.06-.94-.94-2.06-.94 2.06-2.06.94z\"/><path d=\"M17.41 7.96l-1.37-1.37c-.4-.4-.92-.59-1.43-.59-.52 0-1.04.2-1.43.59L10.3 9.45l-7.72 7.72c-.78.78-.78 2.05 0 2.83L4 21.41c.39.39.9.59 1.41.59.51 0 1.02-.2 1.41-.59l7.78-7.78 2.81-2.81c.8-.78.8-2.07 0-2.86zM5.41 20L4 18.59l7.72-7.72 1.47 1.35L5.41 20z\"/>\n",
              "  </svg>\n",
              "      </button>\n",
              "      \n",
              "  <style>\n",
              "    .colab-df-container {\n",
              "      display:flex;\n",
              "      flex-wrap:wrap;\n",
              "      gap: 12px;\n",
              "    }\n",
              "\n",
              "    .colab-df-convert {\n",
              "      background-color: #E8F0FE;\n",
              "      border: none;\n",
              "      border-radius: 50%;\n",
              "      cursor: pointer;\n",
              "      display: none;\n",
              "      fill: #1967D2;\n",
              "      height: 32px;\n",
              "      padding: 0 0 0 0;\n",
              "      width: 32px;\n",
              "    }\n",
              "\n",
              "    .colab-df-convert:hover {\n",
              "      background-color: #E2EBFA;\n",
              "      box-shadow: 0px 1px 2px rgba(60, 64, 67, 0.3), 0px 1px 3px 1px rgba(60, 64, 67, 0.15);\n",
              "      fill: #174EA6;\n",
              "    }\n",
              "\n",
              "    [theme=dark] .colab-df-convert {\n",
              "      background-color: #3B4455;\n",
              "      fill: #D2E3FC;\n",
              "    }\n",
              "\n",
              "    [theme=dark] .colab-df-convert:hover {\n",
              "      background-color: #434B5C;\n",
              "      box-shadow: 0px 1px 3px 1px rgba(0, 0, 0, 0.15);\n",
              "      filter: drop-shadow(0px 1px 2px rgba(0, 0, 0, 0.3));\n",
              "      fill: #FFFFFF;\n",
              "    }\n",
              "  </style>\n",
              "\n",
              "      <script>\n",
              "        const buttonEl =\n",
              "          document.querySelector('#df-14f9d03d-49a5-4590-b7a4-b22b7abd40a3 button.colab-df-convert');\n",
              "        buttonEl.style.display =\n",
              "          google.colab.kernel.accessAllowed ? 'block' : 'none';\n",
              "\n",
              "        async function convertToInteractive(key) {\n",
              "          const element = document.querySelector('#df-14f9d03d-49a5-4590-b7a4-b22b7abd40a3');\n",
              "          const dataTable =\n",
              "            await google.colab.kernel.invokeFunction('convertToInteractive',\n",
              "                                                     [key], {});\n",
              "          if (!dataTable) return;\n",
              "\n",
              "          const docLinkHtml = 'Like what you see? Visit the ' +\n",
              "            '<a target=\"_blank\" href=https://colab.research.google.com/notebooks/data_table.ipynb>data table notebook</a>'\n",
              "            + ' to learn more about interactive tables.';\n",
              "          element.innerHTML = '';\n",
              "          dataTable['output_type'] = 'display_data';\n",
              "          await google.colab.output.renderOutput(dataTable, element);\n",
              "          const docLink = document.createElement('div');\n",
              "          docLink.innerHTML = docLinkHtml;\n",
              "          element.appendChild(docLink);\n",
              "        }\n",
              "      </script>\n",
              "    </div>\n",
              "  </div>\n",
              "  "
            ]
          },
          "metadata": {},
          "execution_count": 57
        }
      ]
    },
    {
      "cell_type": "code",
      "source": [
        "# матричный метод"
      ],
      "metadata": {
        "id": "h78QmrwwudPF"
      },
      "execution_count": null,
      "outputs": []
    },
    {
      "cell_type": "code",
      "source": [
        "s=np.array([27, 37, 42, 48, 57, 56, 77, 80])\n",
        "p = np.array([1.2, 1.6, 1.8, 1.8, 2.5, 2.6, 3, 3.3])\n",
        "x =s.reshape((8,1))\n",
        "x\n"
      ],
      "metadata": {
        "colab": {
          "base_uri": "https://localhost:8080/"
        },
        "id": "vqoykrB0udYM",
        "outputId": "36fed048-3b9e-4323-8b80-599f1b25d0be"
      },
      "execution_count": 81,
      "outputs": [
        {
          "output_type": "execute_result",
          "data": {
            "text/plain": [
              "array([[27],\n",
              "       [37],\n",
              "       [42],\n",
              "       [48],\n",
              "       [57],\n",
              "       [56],\n",
              "       [77],\n",
              "       [80]])"
            ]
          },
          "metadata": {},
          "execution_count": 81
        }
      ]
    },
    {
      "cell_type": "code",
      "source": [
        "y= p.reshape((8,1))\n",
        "y"
      ],
      "metadata": {
        "colab": {
          "base_uri": "https://localhost:8080/"
        },
        "id": "7YlV6aJGudgW",
        "outputId": "1a0d20c2-e694-41b3-d547-784471b4c9f6"
      },
      "execution_count": 82,
      "outputs": [
        {
          "output_type": "execute_result",
          "data": {
            "text/plain": [
              "array([[1.2],\n",
              "       [1.6],\n",
              "       [1.8],\n",
              "       [1.8],\n",
              "       [2.5],\n",
              "       [2.6],\n",
              "       [3. ],\n",
              "       [3.3]])"
            ]
          },
          "metadata": {},
          "execution_count": 82
        }
      ]
    },
    {
      "cell_type": "code",
      "source": [
        ""
      ],
      "metadata": {
        "id": "eDxfJ9d25k-j"
      },
      "execution_count": null,
      "outputs": []
    },
    {
      "cell_type": "code",
      "source": [
        "X = np.hstack([np.ones((8,1)),x])"
      ],
      "metadata": {
        "id": "xr5C3yte4jA2"
      },
      "execution_count": 86,
      "outputs": []
    },
    {
      "cell_type": "code",
      "source": [
        "B = np.dot(np.linalg.inv(np.dot(X.T,X)), X.T @ y)\n",
        "B"
      ],
      "metadata": {
        "colab": {
          "base_uri": "https://localhost:8080/"
        },
        "id": "PwVoeOBN4jJi",
        "outputId": "6cb70db4-69a1-4b37-c150-1ef4c7ceaf14"
      },
      "execution_count": 88,
      "outputs": [
        {
          "output_type": "execute_result",
          "data": {
            "text/plain": [
              "array([[0.1714701 ],\n",
              "       [0.03874585]])"
            ]
          },
          "metadata": {},
          "execution_count": 88
        }
      ]
    },
    {
      "cell_type": "code",
      "source": [
        "# Градиентный спуск"
      ],
      "metadata": {
        "id": "csfN9ylT6loB"
      },
      "execution_count": 89,
      "outputs": []
    },
    {
      "cell_type": "code",
      "source": [
        "x=np.array([27, 37, 42, 48, 57, 56, 77, 80])\n",
        "y = np.array([1.2, 1.6, 1.8, 1.8, 2.5, 2.6, 3, 3.3])"
      ],
      "metadata": {
        "id": "4CJBeI816dST"
      },
      "execution_count": null,
      "outputs": []
    },
    {
      "cell_type": "code",
      "source": [
        "def mse_(B1, y = y, x = x, n = 8):\n",
        "  return np.sum((B1*x - y)**2)/ n\n",
        "  "
      ],
      "metadata": {
        "id": "NIWuVoPr6wWF"
      },
      "execution_count": 90,
      "outputs": []
    },
    {
      "cell_type": "code",
      "source": [
        "alpha  = 1e-6"
      ],
      "metadata": {
        "id": "XJ7Iohcn7QeG"
      },
      "execution_count": 91,
      "outputs": []
    },
    {
      "cell_type": "code",
      "source": [
        "#mse=  1/n *  np.su,((B1*x - y)**2)"
      ],
      "metadata": {
        "id": "E5yEFPEa7Y8I"
      },
      "execution_count": 93,
      "outputs": []
    },
    {
      "cell_type": "code",
      "source": [
        "#mse = (2/n) * np.sum((B1*X -y) * X)"
      ],
      "metadata": {
        "id": "qaFvVYbP7mFO"
      },
      "execution_count": 94,
      "outputs": []
    },
    {
      "cell_type": "code",
      "source": [
        "B1 = 0.1"
      ],
      "metadata": {
        "id": "Q2PUaU4R7mPM"
      },
      "execution_count": 95,
      "outputs": []
    },
    {
      "cell_type": "code",
      "source": [
        "n = 8"
      ],
      "metadata": {
        "id": "A13u4e1m7Y_C"
      },
      "execution_count": 96,
      "outputs": []
    },
    {
      "cell_type": "code",
      "source": [
        "for i in range (10):\n",
        "    B1 -= alpha * (2/n)  * np.sum ((B1 * x - y) * x)\n",
        "    print ('B1 = {}'.format(B1))"
      ],
      "metadata": {
        "colab": {
          "base_uri": "https://localhost:8080/"
        },
        "id": "-avTSApg83KK",
        "outputId": "264e12c1-4bce-4c79-ba66-40dc2f0e41ce"
      },
      "execution_count": 100,
      "outputs": [
        {
          "output_type": "stream",
          "name": "stdout",
          "text": [
            "B1 = 0.09963717500000001\n",
            "B1 = 0.0992766067715\n",
            "B1 = 0.09891828127738128\n",
            "B1 = 0.09856218456783597\n",
            "B1 = 0.09820830277982404\n",
            "B1 = 0.09785662213653352\n",
            "B1 = 0.09750712894684428\n",
            "B1 = 0.09715980960479491\n",
            "B1 = 0.09681465058905309\n",
            "B1 = 0.09647163846238918\n"
          ]
        }
      ]
    },
    {
      "cell_type": "code",
      "source": [
        "for i in range (100):\n",
        "    B1 -= alpha * (2/n)  * np.sum ((B1 * x - y) * x)\n",
        "    if i % 10 == 0:\n",
        "        print ('Iteranion = {i}, B1 = {B1}, mse ={mse}'.format(i= i, B1 = B1, mse = mse_(B1)))"
      ],
      "metadata": {
        "colab": {
          "base_uri": "https://localhost:8080/"
        },
        "id": "l40cevXE99rr",
        "outputId": "2de6450c-b813-4927-8b31-1d3bdc974f22"
      },
      "execution_count": 106,
      "outputs": [
        {
          "output_type": "stream",
          "name": "stdout",
          "text": [
            "Iteranion = 0, B1 = 0.04166800643086872, mse =0.022847216639871392\n",
            "Iteranion = 10, B1 = 0.04166800643086872, mse =0.022847216639871392\n",
            "Iteranion = 20, B1 = 0.04166800643086872, mse =0.022847216639871392\n",
            "Iteranion = 30, B1 = 0.04166800643086872, mse =0.022847216639871392\n",
            "Iteranion = 40, B1 = 0.04166800643086872, mse =0.022847216639871392\n",
            "Iteranion = 50, B1 = 0.04166800643086872, mse =0.022847216639871392\n",
            "Iteranion = 60, B1 = 0.04166800643086872, mse =0.022847216639871392\n",
            "Iteranion = 70, B1 = 0.04166800643086872, mse =0.022847216639871392\n",
            "Iteranion = 80, B1 = 0.04166800643086872, mse =0.022847216639871392\n",
            "Iteranion = 90, B1 = 0.04166800643086872, mse =0.022847216639871392\n"
          ]
        }
      ]
    },
    {
      "cell_type": "code",
      "source": [
        "for i in range (3000):\n",
        "    B1 -= alpha * (2/n)  * np.sum ((B1 * x - y) * x)\n",
        "    if i % 500 == 0:\n",
        "        print ('Iteranion = {i}, B1 = {B1}, mse ={mse}'.format(i= i, B1 = B1, mse = mse_(B1)))"
      ],
      "metadata": {
        "colab": {
          "base_uri": "https://localhost:8080/"
        },
        "id": "qAxxv0pD-2MJ",
        "outputId": "58c05db7-d45d-48ec-d365-107836ec3723"
      },
      "execution_count": 104,
      "outputs": [
        {
          "output_type": "stream",
          "name": "stdout",
          "text": [
            "Iteranion = 0, B1 = 0.04166800663447113, mse =0.022847216639871513\n",
            "Iteranion = 500, B1 = 0.04166800643986129, mse =0.022847216639871402\n",
            "Iteranion = 1000, B1 = 0.0416680064312654, mse =0.022847216639871392\n",
            "Iteranion = 1500, B1 = 0.04166800643088573, mse =0.022847216639871406\n",
            "Iteranion = 2000, B1 = 0.041668006430868966, mse =0.022847216639871406\n",
            "Iteranion = 2500, B1 = 0.04166800643086872, mse =0.022847216639871392\n"
          ]
        }
      ]
    },
    {
      "cell_type": "code",
      "source": [
        "mse_(0.041668)"
      ],
      "metadata": {
        "colab": {
          "base_uri": "https://localhost:8080/"
        },
        "id": "XIBtq-b1-_-k",
        "outputId": "467a3d13-9715-4134-8f16-2a1f7ced419e"
      },
      "execution_count": 107,
      "outputs": [
        {
          "output_type": "execute_result",
          "data": {
            "text/plain": [
              "0.022847216640000008"
            ]
          },
          "metadata": {},
          "execution_count": 107
        }
      ]
    }
  ]
}