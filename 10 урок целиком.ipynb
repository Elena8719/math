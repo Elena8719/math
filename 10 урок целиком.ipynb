{
  "nbformat": 4,
  "nbformat_minor": 0,
  "metadata": {
    "colab": {
      "name": "Untitled31.ipynb",
      "provenance": [],
      "collapsed_sections": [],
      "authorship_tag": "ABX9TyPPpOfBx1kVUkGv5yaHPiDy",
      "include_colab_link": true
    },
    "kernelspec": {
      "name": "python3",
      "display_name": "Python 3"
    },
    "language_info": {
      "name": "python"
    }
  },
  "cells": [
    {
      "cell_type": "markdown",
      "metadata": {
        "id": "view-in-github",
        "colab_type": "text"
      },
      "source": [
        "<a href=\"https://colab.research.google.com/github/Elena8719/math/blob/main/10%20%D1%83%D1%80%D0%BE%D0%BA%20%D1%86%D0%B5%D0%BB%D0%B8%D0%BA%D0%BE%D0%BC.ipynb\" target=\"_parent\"><img src=\"https://colab.research.google.com/assets/colab-badge.svg\" alt=\"Open In Colab\"/></a>"
      ]
    },
    {
      "cell_type": "code",
      "execution_count": 87,
      "metadata": {
        "colab": {
          "base_uri": "https://localhost:8080/",
          "height": 282
        },
        "id": "Q1FCNoyIL-PR",
        "outputId": "22865241-af93-49b6-ec49-98e9e124e2ef"
      },
      "outputs": [
        {
          "output_type": "execute_result",
          "data": {
            "text/plain": [
              "F_onewayResult(statistic=177.48291613374704, pvalue=1.420466900107174e-12)"
            ]
          },
          "metadata": {},
          "execution_count": 87
        },
        {
          "output_type": "display_data",
          "data": {
            "text/plain": [
              "<Figure size 432x288 with 1 Axes>"
            ],
            "image/png": "[encoded data removed]"
          },
          "metadata": {
            "needs_background": "light"
          }
        }
      ],
      "source": [
        "import numpy as np\n",
        "from scipy import stats\n",
        "import matplotlib.pyplot as plt\n",
        "\n",
        "y1 = np.array([70, 50, 65, 60, 75, 67, 74])\n",
        "y2 = np.array([80, 74, 90, 70, 75, 65, 85])\n",
        "y3 = np.array([148, 142, 140, 150, 160, 170, 155])\n",
        "y4= np.array([y_mean_1, y_mean_2, y_mean_3])\n",
        "\n",
        "f, ax = plt.subplots()\n",
        "for xe, ye in zip([1, 2, 3, 4], [y1, y2, y3, y4]):\n",
        "    plt.scatter([xe] * len(ye), ye, label='xx')\n",
        "plt.xticks([1, 2, 3, 4])\n",
        "\n",
        "# Найдем значения критерия фишера для однофакторного дисперсионного анализа.\n",
        "f = stats.f_oneway(y1, y2, y3)\n",
        "f"
      ]
    },
    {
      "cell_type": "code",
      "source": [
        "k= 3\n",
        "n = 21"
      ],
      "metadata": {
        "id": "q5gCwBJCMkej"
      },
      "execution_count": 4,
      "outputs": []
    },
    {
      "cell_type": "markdown",
      "source": [
        "F_н=(σ_ф^2)/(σ_ост^2 ), а величины σ_ф^2  и σ_ост^2  мы найдем из формул :\n",
        "〖 σ〗_ф^2=  (S_ф^2)/(k-1), где k= 3 \n",
        " σ_ост^2=(S_ост^2)/(n-k), где n = 21 Это общее количество значений заработных плат во всех трех подгруппах.\n",
        "S_ф^2=∑_(i=1)^k▒〖〖((y_i ) ̅-Y ̅)〗^2*n_i 〗\n",
        "S_ост^2=∑_(i=1)^k▒∑_(j=1)^(n_i)▒〖〖〖(y〗_ij-(y_i ) ̅)〗^2  〗\n"
      ],
      "metadata": {
        "id": "LhLvHEDtOtFM"
      }
    },
    {
      "cell_type": "code",
      "source": [
        "y_mean_1 = np.mean(y1)\n",
        "y_mean_1"
      ],
      "metadata": {
        "colab": {
          "base_uri": "https://localhost:8080/"
        },
        "id": "FPRY36uQMpB7",
        "outputId": "7e40825d-86fc-43df-be56-7ce262e2e586"
      },
      "execution_count": 5,
      "outputs": [
        {
          "output_type": "execute_result",
          "data": {
            "text/plain": [
              "65.85714285714286"
            ]
          },
          "metadata": {},
          "execution_count": 5
        }
      ]
    },
    {
      "cell_type": "code",
      "source": [
        ""
      ],
      "metadata": {
        "id": "91IWLncgRF3-"
      },
      "execution_count": null,
      "outputs": []
    },
    {
      "cell_type": "code",
      "source": [
        "y_mean_2 = np.mean(y2)\n",
        "y_mean_2"
      ],
      "metadata": {
        "colab": {
          "base_uri": "https://localhost:8080/"
        },
        "id": "4sfLHe8sPHkg",
        "outputId": "917d05c3-a4a4-4aae-f20c-f3c2ee9cc68f"
      },
      "execution_count": 6,
      "outputs": [
        {
          "output_type": "execute_result",
          "data": {
            "text/plain": [
              "77.0"
            ]
          },
          "metadata": {},
          "execution_count": 6
        }
      ]
    },
    {
      "cell_type": "code",
      "source": [
        "y_mean_3 = np.mean(y3)\n",
        "y_mean_3"
      ],
      "metadata": {
        "colab": {
          "base_uri": "https://localhost:8080/"
        },
        "id": "xLLlFE7JPHn0",
        "outputId": "2bb679b6-81fd-4c15-d505-d995f3b24ad9"
      },
      "execution_count": 7,
      "outputs": [
        {
          "output_type": "execute_result",
          "data": {
            "text/plain": [
              "152.14285714285714"
            ]
          },
          "metadata": {},
          "execution_count": 7
        }
      ]
    },
    {
      "cell_type": "code",
      "source": [
        "total = np.array([y1, y2, y3 ])\n",
        "total"
      ],
      "metadata": {
        "colab": {
          "base_uri": "https://localhost:8080/"
        },
        "id": "_sEkS0QPQuB8",
        "outputId": "8a0d839c-80b5-456c-b821-4f06b306921e"
      },
      "execution_count": 12,
      "outputs": [
        {
          "output_type": "execute_result",
          "data": {
            "text/plain": [
              "array([[ 70,  50,  65,  60,  75,  67,  74],\n",
              "       [ 80,  74,  90,  70,  75,  65,  85],\n",
              "       [148, 142, 140, 150, 160, 170, 155]])"
            ]
          },
          "metadata": {},
          "execution_count": 12
        }
      ]
    },
    {
      "cell_type": "code",
      "source": [
        "y_mena_total= np.mean(total)\n",
        "y_mena_total"
      ],
      "metadata": {
        "colab": {
          "base_uri": "https://localhost:8080/"
        },
        "id": "v-xfdKCcRS7e",
        "outputId": "c17461c5-1f10-4ef9-950c-c4047059b7ef"
      },
      "execution_count": 13,
      "outputs": [
        {
          "output_type": "execute_result",
          "data": {
            "text/plain": [
              "98.33333333333333"
            ]
          },
          "metadata": {},
          "execution_count": 13
        }
      ]
    },
    {
      "cell_type": "markdown",
      "source": [
        "Сумма квадратов отклонений наблюдений от общего среднего"
      ],
      "metadata": {
        "id": "JZ1bbtk4PR_7"
      }
    },
    {
      "cell_type": "code",
      "source": [
        "np.sum((total - 98.33)**2) # отложим это значение"
      ],
      "metadata": {
        "colab": {
          "base_uri": "https://localhost:8080/"
        },
        "id": "tCATNtfoU0eP",
        "outputId": "f37d5932-b80e-488c-e7f2-7b3d405a2ded"
      },
      "execution_count": 22,
      "outputs": [
        {
          "output_type": "execute_result",
          "data": {
            "text/plain": [
              "32400.6669"
            ]
          },
          "metadata": {},
          "execution_count": 22
        }
      ]
    },
    {
      "cell_type": "markdown",
      "source": [
        "Сумма квадратов отклонений средних групповых значений от общего среднего "
      ],
      "metadata": {
        "id": "vUwJXVHiQgIX"
      }
    },
    {
      "cell_type": "code",
      "source": [
        "S_f = np.sum((y_mean_1 - 98.33)**2) * 7 + np.sum((y_mean_2 - 98.33)**2) * 7 + np.sum((y_mean_3 - 98.33)**2) * 7 # S_f\n",
        "S_f"
      ],
      "metadata": {
        "colab": {
          "base_uri": "https://localhost:8080/"
        },
        "id": "zDFV0h-xRoDq",
        "outputId": "5715e49f-3dbd-445d-8b69-4544b6cf54a5"
      },
      "execution_count": 36,
      "outputs": [
        {
          "output_type": "execute_result",
          "data": {
            "text/plain": [
              "30836.952614285707"
            ]
          },
          "metadata": {},
          "execution_count": 36
        }
      ]
    },
    {
      "cell_type": "markdown",
      "source": [
        "Остаточная сумма квадратов отклонений"
      ],
      "metadata": {
        "id": "PPpiUrHCSgcd"
      }
    },
    {
      "cell_type": "code",
      "source": [
        "S_ost = np.sum((y1-y_mean_1)**2) + np.sum((y2-y_mean_2)**2) + np.sum ((y3-y_mean_3)**2) # S_ost\n",
        "S_ost"
      ],
      "metadata": {
        "colab": {
          "base_uri": "https://localhost:8080/"
        },
        "id": "wtKMooEhSPAN",
        "outputId": "68aed5c3-cf4d-4b35-89f8-9b423e7f6001"
      },
      "execution_count": 38,
      "outputs": [
        {
          "output_type": "execute_result",
          "data": {
            "text/plain": [
              "1563.7142857142858"
            ]
          },
          "metadata": {},
          "execution_count": 38
        }
      ]
    },
    {
      "cell_type": "code",
      "source": [
        "30836.952614285707 + 1563.7142857142858"
      ],
      "metadata": {
        "colab": {
          "base_uri": "https://localhost:8080/"
        },
        "id": "Tk2g0KFDTJYT",
        "outputId": "dc634f6d-aacf-4dbe-aefc-fb64ddecc0a8"
      },
      "execution_count": 35,
      "outputs": [
        {
          "output_type": "execute_result",
          "data": {
            "text/plain": [
              "32400.666899999993"
            ]
          },
          "metadata": {},
          "execution_count": 35
        }
      ]
    },
    {
      "cell_type": "code",
      "source": [
        "D_f = S_f / ( k - 1)\n",
        "D_f"
      ],
      "metadata": {
        "colab": {
          "base_uri": "https://localhost:8080/"
        },
        "id": "YyKhdpGMXGPb",
        "outputId": "076ab08d-dfbf-4045-cda4-a4e266d0dbce"
      },
      "execution_count": 41,
      "outputs": [
        {
          "output_type": "execute_result",
          "data": {
            "text/plain": [
              "15418.476307142853"
            ]
          },
          "metadata": {},
          "execution_count": 41
        }
      ]
    },
    {
      "cell_type": "code",
      "source": [
        "D_ost = S_ost / ( n - k)\n",
        "D_ost"
      ],
      "metadata": {
        "colab": {
          "base_uri": "https://localhost:8080/"
        },
        "id": "6C_tJdxcXuOh",
        "outputId": "c659f937-672c-4b6b-f3f1-9a9653a089d7"
      },
      "execution_count": 43,
      "outputs": [
        {
          "output_type": "execute_result",
          "data": {
            "text/plain": [
              "86.87301587301587"
            ]
          },
          "metadata": {},
          "execution_count": 43
        }
      ]
    },
    {
      "cell_type": "code",
      "source": [
        "F_n = 15418.476307142853 / 86.87301587301587\n",
        "F_n"
      ],
      "metadata": {
        "colab": {
          "base_uri": "https://localhost:8080/"
        },
        "id": "j_5UpKeLXuUo",
        "outputId": "53c76b04-e44a-444f-f4b9-0baf0d719d7e"
      },
      "execution_count": 44,
      "outputs": [
        {
          "output_type": "execute_result",
          "data": {
            "text/plain": [
              "177.48291747670376"
            ]
          },
          "metadata": {},
          "execution_count": 44
        }
      ]
    },
    {
      "cell_type": "code",
      "source": [
        "# 2 way"
      ],
      "metadata": {
        "id": "a2mzHPydYOvr"
      },
      "execution_count": null,
      "outputs": []
    },
    {
      "cell_type": "code",
      "source": [
        "\n",
        "from statsmodels.stats.multicomp import pairwise_tukeyhsd"
      ],
      "metadata": {
        "colab": {
          "base_uri": "https://localhost:8080/"
        },
        "id": "grQIAZt-YO5O",
        "outputId": "230f3d9b-cdf8-47ba-ee66-29a2b79cb0c1"
      },
      "execution_count": 47,
      "outputs": [
        {
          "output_type": "stream",
          "name": "stderr",
          "text": [
            "/usr/local/lib/python3.7/dist-packages/statsmodels/tools/_testing.py:19: FutureWarning: pandas.util.testing is deprecated. Use the functions in the public API at pandas.testing instead.\n",
            "  import pandas.util.testing as tm\n"
          ]
        }
      ]
    },
    {
      "cell_type": "code",
      "source": [
        "import pandas as pd\n",
        "df = pd.DataFrame({'score': [ 70,  50,  65,  60,  75,  67,  74,\n",
        "                              80,  74,  90,  70,  75,  65,  85,\n",
        "                             148, 142, 140, 150, 160, 170, 155],\n",
        "                   'group': np.repeat(['accountant', 'lawyer', 'programmer'], repeats=7)}) "
      ],
      "metadata": {
        "id": "2LypLc3ZYO8G"
      },
      "execution_count": 60,
      "outputs": []
    },
    {
      "cell_type": "code",
      "source": [
        "tukey = pairwise_tukeyhsd(endog=df['score'],\n",
        "                          groups=df['group'],\n",
        "                          alpha=0.05)\n",
        "print(tukey)"
      ],
      "metadata": {
        "colab": {
          "base_uri": "https://localhost:8080/"
        },
        "id": "Gaf1kd55YO_Y",
        "outputId": "b47be8b5-a774-4ca7-a4f3-d5bf38dda2a3"
      },
      "execution_count": 61,
      "outputs": [
        {
          "output_type": "stream",
          "name": "stdout",
          "text": [
            "    Multiple Comparison of Means - Tukey HSD, FWER=0.05     \n",
            "============================================================\n",
            "  group1     group2   meandiff p-adj   lower   upper  reject\n",
            "------------------------------------------------------------\n",
            "accountant     lawyer  11.1429 0.0917 -1.5675 23.8532  False\n",
            "accountant programmer  86.2857  0.001 73.5754  98.996   True\n",
            "    lawyer programmer  75.1429  0.001 62.4325 87.8532   True\n",
            "------------------------------------------------------------\n"
          ]
        }
      ]
    },
    {
      "cell_type": "code",
      "source": [
        "# 2\n",
        "import statsmodels.api as sm"
      ],
      "metadata": {
        "id": "UQhvYvMqkayE"
      },
      "execution_count": 64,
      "outputs": []
    },
    {
      "cell_type": "code",
      "source": [
        "from statsmodels.formula.api import ols"
      ],
      "metadata": {
        "id": "AE7Ut1hOksWn"
      },
      "execution_count": 66,
      "outputs": []
    },
    {
      "cell_type": "code",
      "source": [
        "fA = np.array([\"low\", \"low\", \"low\", \"low\", \"high\", \"high\", \"high\", \"high\"])\n",
        "fA"
      ],
      "metadata": {
        "colab": {
          "base_uri": "https://localhost:8080/"
        },
        "id": "AYhRmKbqmTVe",
        "outputId": "0684946f-000a-4633-a2dd-4891770f18c9"
      },
      "execution_count": 73,
      "outputs": [
        {
          "output_type": "execute_result",
          "data": {
            "text/plain": [
              "array(['low', 'low', 'low', 'low', 'high', 'high', 'high', 'high'],\n",
              "      dtype='<U4')"
            ]
          },
          "metadata": {},
          "execution_count": 73
        }
      ]
    },
    {
      "cell_type": "code",
      "source": [
        "fB = np.array([\"low\", \"low\", \"high\", \"high\", \"low\", \"low\", \"high\", \"high\"])\n",
        "fB"
      ],
      "metadata": {
        "colab": {
          "base_uri": "https://localhost:8080/"
        },
        "id": "TUGeLO_lnEjT",
        "outputId": "771aa4b6-04e8-4e37-e38e-e45e51601c66"
      },
      "execution_count": 79,
      "outputs": [
        {
          "output_type": "execute_result",
          "data": {
            "text/plain": [
              "array(['low', 'low', 'high', 'high', 'low', 'low', 'high', 'high'],\n",
              "      dtype='<U4')"
            ]
          },
          "metadata": {},
          "execution_count": 79
        }
      ]
    },
    {
      "cell_type": "code",
      "source": [
        "values = np.array([57, 59, 56, 58, 32, 34, 71, 71])\n",
        "values\n",
        "              "
      ],
      "metadata": {
        "colab": {
          "base_uri": "https://localhost:8080/"
        },
        "id": "lIlAM6ABmyuu",
        "outputId": "39c1ca69-5237-43e1-a7a6-c91dc6e74107"
      },
      "execution_count": 78,
      "outputs": [
        {
          "output_type": "execute_result",
          "data": {
            "text/plain": [
              "array([57, 59, 56, 58, 32, 34, 71, 71])"
            ]
          },
          "metadata": {},
          "execution_count": 78
        }
      ]
    },
    {
      "cell_type": "code",
      "source": [
        "df=pd.DataFrame({'fA': fA, 'fB': fB, 'values': values})\n",
        "df"
      ],
      "metadata": {
        "colab": {
          "base_uri": "https://localhost:8080/",
          "height": 300
        },
        "id": "kjdV2PtFk8fw",
        "outputId": "2a0b558d-eb0d-483d-c08c-f8e8269ab5cb"
      },
      "execution_count": 80,
      "outputs": [
        {
          "output_type": "execute_result",
          "data": {
            "text/plain": [
              "     fA    fB  values\n",
              "0   low   low      57\n",
              "1   low   low      59\n",
              "2   low  high      56\n",
              "3   low  high      58\n",
              "4  high   low      32\n",
              "5  high   low      34\n",
              "6  high  high      71\n",
              "7  high  high      71"
            ],
            "text/html": [
              "\n",
              "  <div id=\"df-ed728af9-7433-4b49-bdcb-bb2e721e093c\">\n",
              "    <div class=\"colab-df-container\">\n",
              "      <div>\n",
              "<style scoped>\n",
              "    .dataframe tbody tr th:only-of-type {\n",
              "        vertical-align: middle;\n",
              "    }\n",
              "\n",
              "    .dataframe tbody tr th {\n",
              "        vertical-align: top;\n",
              "    }\n",
              "\n",
              "    .dataframe thead th {\n",
              "        text-align: right;\n",
              "    }\n",
              "</style>\n",
              "<table border=\"1\" class=\"dataframe\">\n",
              "  <thead>\n",
              "    <tr style=\"text-align: right;\">\n",
              "      <th></th>\n",
              "      <th>fA</th>\n",
              "      <th>fB</th>\n",
              "      <th>values</th>\n",
              "    </tr>\n",
              "  </thead>\n",
              "  <tbody>\n",
              "    <tr>\n",
              "      <th>0</th>\n",
              "      <td>low</td>\n",
              "      <td>low</td>\n",
              "      <td>57</td>\n",
              "    </tr>\n",
              "    <tr>\n",
              "      <th>1</th>\n",
              "      <td>low</td>\n",
              "      <td>low</td>\n",
              "      <td>59</td>\n",
              "    </tr>\n",
              "    <tr>\n",
              "      <th>2</th>\n",
              "      <td>low</td>\n",
              "      <td>high</td>\n",
              "      <td>56</td>\n",
              "    </tr>\n",
              "    <tr>\n",
              "      <th>3</th>\n",
              "      <td>low</td>\n",
              "      <td>high</td>\n",
              "      <td>58</td>\n",
              "    </tr>\n",
              "    <tr>\n",
              "      <th>4</th>\n",
              "      <td>high</td>\n",
              "      <td>low</td>\n",
              "      <td>32</td>\n",
              "    </tr>\n",
              "    <tr>\n",
              "      <th>5</th>\n",
              "      <td>high</td>\n",
              "      <td>low</td>\n",
              "      <td>34</td>\n",
              "    </tr>\n",
              "    <tr>\n",
              "      <th>6</th>\n",
              "      <td>high</td>\n",
              "      <td>high</td>\n",
              "      <td>71</td>\n",
              "    </tr>\n",
              "    <tr>\n",
              "      <th>7</th>\n",
              "      <td>high</td>\n",
              "      <td>high</td>\n",
              "      <td>71</td>\n",
              "    </tr>\n",
              "  </tbody>\n",
              "</table>\n",
              "</div>\n",
              "      <button class=\"colab-df-convert\" onclick=\"convertToInteractive('df-ed728af9-7433-4b49-bdcb-bb2e721e093c')\"\n",
              "              title=\"Convert this dataframe to an interactive table.\"\n",
              "              style=\"display:none;\">\n",
              "        \n",
              "  <svg xmlns=\"http://www.w3.org/2000/svg\" height=\"24px\"viewBox=\"0 0 24 24\"\n",
              "       width=\"24px\">\n",
              "    <path d=\"M0 0h24v24H0V0z\" fill=\"none\"/>\n",
              "    <path d=\"M18.56 5.44l.94 2.06.94-2.06 2.06-.94-2.06-.94-.94-2.06-.94 2.06-2.06.94zm-11 1L8.5 8.5l.94-2.06 2.06-.94-2.06-.94L8.5 2.5l-.94 2.06-2.06.94zm10 10l.94 2.06.94-2.06 2.06-.94-2.06-.94-.94-2.06-.94 2.06-2.06.94z\"/><path d=\"M17.41 7.96l-1.37-1.37c-.4-.4-.92-.59-1.43-.59-.52 0-1.04.2-1.43.59L10.3 9.45l-7.72 7.72c-.78.78-.78 2.05 0 2.83L4 21.41c.39.39.9.59 1.41.59.51 0 1.02-.2 1.41-.59l7.78-7.78 2.81-2.81c.8-.78.8-2.07 0-2.86zM5.41 20L4 18.59l7.72-7.72 1.47 1.35L5.41 20z\"/>\n",
              "  </svg>\n",
              "      </button>\n",
              "      \n",
              "  <style>\n",
              "    .colab-df-container {\n",
              "      display:flex;\n",
              "      flex-wrap:wrap;\n",
              "      gap: 12px;\n",
              "    }\n",
              "\n",
              "    .colab-df-convert {\n",
              "      background-color: #E8F0FE;\n",
              "      border: none;\n",
              "      border-radius: 50%;\n",
              "      cursor: pointer;\n",
              "      display: none;\n",
              "      fill: #1967D2;\n",
              "      height: 32px;\n",
              "      padding: 0 0 0 0;\n",
              "      width: 32px;\n",
              "    }\n",
              "\n",
              "    .colab-df-convert:hover {\n",
              "      background-color: #E2EBFA;\n",
              "      box-shadow: 0px 1px 2px rgba(60, 64, 67, 0.3), 0px 1px 3px 1px rgba(60, 64, 67, 0.15);\n",
              "      fill: #174EA6;\n",
              "    }\n",
              "\n",
              "    [theme=dark] .colab-df-convert {\n",
              "      background-color: #3B4455;\n",
              "      fill: #D2E3FC;\n",
              "    }\n",
              "\n",
              "    [theme=dark] .colab-df-convert:hover {\n",
              "      background-color: #434B5C;\n",
              "      box-shadow: 0px 1px 3px 1px rgba(0, 0, 0, 0.15);\n",
              "      filter: drop-shadow(0px 1px 2px rgba(0, 0, 0, 0.3));\n",
              "      fill: #FFFFFF;\n",
              "    }\n",
              "  </style>\n",
              "\n",
              "      <script>\n",
              "        const buttonEl =\n",
              "          document.querySelector('#df-ed728af9-7433-4b49-bdcb-bb2e721e093c button.colab-df-convert');\n",
              "        buttonEl.style.display =\n",
              "          google.colab.kernel.accessAllowed ? 'block' : 'none';\n",
              "\n",
              "        async function convertToInteractive(key) {\n",
              "          const element = document.querySelector('#df-ed728af9-7433-4b49-bdcb-bb2e721e093c');\n",
              "          const dataTable =\n",
              "            await google.colab.kernel.invokeFunction('convertToInteractive',\n",
              "                                                     [key], {});\n",
              "          if (!dataTable) return;\n",
              "\n",
              "          const docLinkHtml = 'Like what you see? Visit the ' +\n",
              "            '<a target=\"_blank\" href=https://colab.research.google.com/notebooks/data_table.ipynb>data table notebook</a>'\n",
              "            + ' to learn more about interactive tables.';\n",
              "          element.innerHTML = '';\n",
              "          dataTable['output_type'] = 'display_data';\n",
              "          await google.colab.output.renderOutput(dataTable, element);\n",
              "          const docLink = document.createElement('div');\n",
              "          docLink.innerHTML = docLinkHtml;\n",
              "          element.appendChild(docLink);\n",
              "        }\n",
              "      </script>\n",
              "    </div>\n",
              "  </div>\n",
              "  "
            ]
          },
          "metadata": {},
          "execution_count": 80
        }
      ]
    },
    {
      "cell_type": "code",
      "source": [
        "lm_model = ols('values ~ C(fA) * C (fB)', data = df).fit()\n"
      ],
      "metadata": {
        "id": "y19nl7B9nFbC"
      },
      "execution_count": 81,
      "outputs": []
    },
    {
      "cell_type": "code",
      "source": [
        "table = sm.stats.anova_lm (lm_model, typ=2)\n",
        "table"
      ],
      "metadata": {
        "colab": {
          "base_uri": "https://localhost:8080/",
          "height": 175
        },
        "id": "e6ea-dn4oEby",
        "outputId": "52b332ba-dfbf-465c-a6b1-cb63c56dc2fb"
      },
      "execution_count": 83,
      "outputs": [
        {
          "output_type": "execute_result",
          "data": {
            "text/plain": [
              "             sum_sq   df           F    PR(>F)\n",
              "C(fA)          60.5  1.0   40.333333  0.003150\n",
              "C(fB)         684.5  1.0  456.333333  0.000028\n",
              "C(fA):C(fB)   760.5  1.0  507.000000  0.000023\n",
              "Residual        6.0  4.0         NaN       NaN"
            ],
            "text/html": [
              "\n",
              "  <div id=\"df-6ee557da-4e58-497d-8b79-651caf387cd2\">\n",
              "    <div class=\"colab-df-container\">\n",
              "      <div>\n",
              "<style scoped>\n",
              "    .dataframe tbody tr th:only-of-type {\n",
              "        vertical-align: middle;\n",
              "    }\n",
              "\n",
              "    .dataframe tbody tr th {\n",
              "        vertical-align: top;\n",
              "    }\n",
              "\n",
              "    .dataframe thead th {\n",
              "        text-align: right;\n",
              "    }\n",
              "</style>\n",
              "<table border=\"1\" class=\"dataframe\">\n",
              "  <thead>\n",
              "    <tr style=\"text-align: right;\">\n",
              "      <th></th>\n",
              "      <th>sum_sq</th>\n",
              "      <th>df</th>\n",
              "      <th>F</th>\n",
              "      <th>PR(&gt;F)</th>\n",
              "    </tr>\n",
              "  </thead>\n",
              "  <tbody>\n",
              "    <tr>\n",
              "      <th>C(fA)</th>\n",
              "      <td>60.5</td>\n",
              "      <td>1.0</td>\n",
              "      <td>40.333333</td>\n",
              "      <td>0.003150</td>\n",
              "    </tr>\n",
              "    <tr>\n",
              "      <th>C(fB)</th>\n",
              "      <td>684.5</td>\n",
              "      <td>1.0</td>\n",
              "      <td>456.333333</td>\n",
              "      <td>0.000028</td>\n",
              "    </tr>\n",
              "    <tr>\n",
              "      <th>C(fA):C(fB)</th>\n",
              "      <td>760.5</td>\n",
              "      <td>1.0</td>\n",
              "      <td>507.000000</td>\n",
              "      <td>0.000023</td>\n",
              "    </tr>\n",
              "    <tr>\n",
              "      <th>Residual</th>\n",
              "      <td>6.0</td>\n",
              "      <td>4.0</td>\n",
              "      <td>NaN</td>\n",
              "      <td>NaN</td>\n",
              "    </tr>\n",
              "  </tbody>\n",
              "</table>\n",
              "</div>\n",
              "      <button class=\"colab-df-convert\" onclick=\"convertToInteractive('df-6ee557da-4e58-497d-8b79-651caf387cd2')\"\n",
              "              title=\"Convert this dataframe to an interactive table.\"\n",
              "              style=\"display:none;\">\n",
              "        \n",
              "  <svg xmlns=\"http://www.w3.org/2000/svg\" height=\"24px\"viewBox=\"0 0 24 24\"\n",
              "       width=\"24px\">\n",
              "    <path d=\"M0 0h24v24H0V0z\" fill=\"none\"/>\n",
              "    <path d=\"M18.56 5.44l.94 2.06.94-2.06 2.06-.94-2.06-.94-.94-2.06-.94 2.06-2.06.94zm-11 1L8.5 8.5l.94-2.06 2.06-.94-2.06-.94L8.5 2.5l-.94 2.06-2.06.94zm10 10l.94 2.06.94-2.06 2.06-.94-2.06-.94-.94-2.06-.94 2.06-2.06.94z\"/><path d=\"M17.41 7.96l-1.37-1.37c-.4-.4-.92-.59-1.43-.59-.52 0-1.04.2-1.43.59L10.3 9.45l-7.72 7.72c-.78.78-.78 2.05 0 2.83L4 21.41c.39.39.9.59 1.41.59.51 0 1.02-.2 1.41-.59l7.78-7.78 2.81-2.81c.8-.78.8-2.07 0-2.86zM5.41 20L4 18.59l7.72-7.72 1.47 1.35L5.41 20z\"/>\n",
              "  </svg>\n",
              "      </button>\n",
              "      \n",
              "  <style>\n",
              "    .colab-df-container {\n",
              "      display:flex;\n",
              "      flex-wrap:wrap;\n",
              "      gap: 12px;\n",
              "    }\n",
              "\n",
              "    .colab-df-convert {\n",
              "      background-color: #E8F0FE;\n",
              "      border: none;\n",
              "      border-radius: 50%;\n",
              "      cursor: pointer;\n",
              "      display: none;\n",
              "      fill: #1967D2;\n",
              "      height: 32px;\n",
              "      padding: 0 0 0 0;\n",
              "      width: 32px;\n",
              "    }\n",
              "\n",
              "    .colab-df-convert:hover {\n",
              "      background-color: #E2EBFA;\n",
              "      box-shadow: 0px 1px 2px rgba(60, 64, 67, 0.3), 0px 1px 3px 1px rgba(60, 64, 67, 0.15);\n",
              "      fill: #174EA6;\n",
              "    }\n",
              "\n",
              "    [theme=dark] .colab-df-convert {\n",
              "      background-color: #3B4455;\n",
              "      fill: #D2E3FC;\n",
              "    }\n",
              "\n",
              "    [theme=dark] .colab-df-convert:hover {\n",
              "      background-color: #434B5C;\n",
              "      box-shadow: 0px 1px 3px 1px rgba(0, 0, 0, 0.15);\n",
              "      filter: drop-shadow(0px 1px 2px rgba(0, 0, 0, 0.3));\n",
              "      fill: #FFFFFF;\n",
              "    }\n",
              "  </style>\n",
              "\n",
              "      <script>\n",
              "        const buttonEl =\n",
              "          document.querySelector('#df-6ee557da-4e58-497d-8b79-651caf387cd2 button.colab-df-convert');\n",
              "        buttonEl.style.display =\n",
              "          google.colab.kernel.accessAllowed ? 'block' : 'none';\n",
              "\n",
              "        async function convertToInteractive(key) {\n",
              "          const element = document.querySelector('#df-6ee557da-4e58-497d-8b79-651caf387cd2');\n",
              "          const dataTable =\n",
              "            await google.colab.kernel.invokeFunction('convertToInteractive',\n",
              "                                                     [key], {});\n",
              "          if (!dataTable) return;\n",
              "\n",
              "          const docLinkHtml = 'Like what you see? Visit the ' +\n",
              "            '<a target=\"_blank\" href=https://colab.research.google.com/notebooks/data_table.ipynb>data table notebook</a>'\n",
              "            + ' to learn more about interactive tables.';\n",
              "          element.innerHTML = '';\n",
              "          dataTable['output_type'] = 'display_data';\n",
              "          await google.colab.output.renderOutput(dataTable, element);\n",
              "          const docLink = document.createElement('div');\n",
              "          docLink.innerHTML = docLinkHtml;\n",
              "          element.appendChild(docLink);\n",
              "        }\n",
              "      </script>\n",
              "    </div>\n",
              "  </div>\n",
              "  "
            ]
          },
          "metadata": {},
          "execution_count": 83
        }
      ]
    },
    {
      "cell_type": "code",
      "source": [
        "f, ax = plt.subplots()\n",
        "for xe, ye in zip([1, 2, 3], [y1, y2, y3]):\n",
        "    plt.scatter([xe] * len(ye), ye, label='xx')\n",
        "plt.xticks([1, 2, 3])\n",
        "plt.show()"
      ],
      "metadata": {
        "colab": {
          "base_uri": "https://localhost:8080/",
          "height": 265
        },
        "id": "MvZ9CGAgyqHD",
        "outputId": "2b42be82-6c74-41ed-b658-00a7bd0aa958"
      },
      "execution_count": 85,
      "outputs": [
        {
          "output_type": "display_data",
          "data": {
            "text/plain": [
              "<Figure size 432x288 with 1 Axes>"
            ],
            "image/png": "[encoded data removed]"
          },
          "metadata": {
            "needs_background": "light"
          }
        }
      ]
    },
    {
      "cell_type": "code",
      "source": [
        "y111= 57\n",
        "y112 = 59\n",
        "y11 = (y111 + y112)/2\n",
        "y11"
      ],
      "metadata": {
        "colab": {
          "base_uri": "https://localhost:8080/"
        },
        "id": "JbqD3gjiC62D",
        "outputId": "2170b968-abdb-4760-c968-216219cc3a17"
      },
      "execution_count": 88,
      "outputs": [
        {
          "output_type": "execute_result",
          "data": {
            "text/plain": [
              "58.0"
            ]
          },
          "metadata": {},
          "execution_count": 88
        }
      ]
    },
    {
      "cell_type": "code",
      "source": [
        "y121 = 56\n",
        "y122 = 58\n",
        "y12 = (y121 + y122)/2\n",
        "y12"
      ],
      "metadata": {
        "colab": {
          "base_uri": "https://localhost:8080/"
        },
        "id": "8MzyYXTSC65H",
        "outputId": "4205a61a-69a4-4fd7-e0bb-c4cfa846c29e"
      },
      "execution_count": 89,
      "outputs": [
        {
          "output_type": "execute_result",
          "data": {
            "text/plain": [
              "57.0"
            ]
          },
          "metadata": {},
          "execution_count": 89
        }
      ]
    },
    {
      "cell_type": "code",
      "source": [
        "y211 = 32\n",
        "y212 = 34\n",
        "y21 = (y211 + y212)/2\n",
        "y21"
      ],
      "metadata": {
        "colab": {
          "base_uri": "https://localhost:8080/"
        },
        "id": "4_JE-XC-C68E",
        "outputId": "48b510dc-f824-478d-cf08-c0bdc7d875bf"
      },
      "execution_count": 91,
      "outputs": [
        {
          "output_type": "execute_result",
          "data": {
            "text/plain": [
              "33.0"
            ]
          },
          "metadata": {},
          "execution_count": 91
        }
      ]
    },
    {
      "cell_type": "code",
      "source": [
        "y221 = 71\n",
        "y222 = 71\n",
        "y22 = (y221 + y222)/2\n",
        "y22"
      ],
      "metadata": {
        "colab": {
          "base_uri": "https://localhost:8080/"
        },
        "id": "-J9PSEbUC6-5",
        "outputId": "540a3c52-5026-42a0-c645-102c54c4cf80"
      },
      "execution_count": 92,
      "outputs": [
        {
          "output_type": "execute_result",
          "data": {
            "text/plain": [
              "71.0"
            ]
          },
          "metadata": {},
          "execution_count": 92
        }
      ]
    },
    {
      "cell_type": "code",
      "source": [
        "YcpA1 = (y11+y12)/2\n",
        "YcpA1\n"
      ],
      "metadata": {
        "colab": {
          "base_uri": "https://localhost:8080/"
        },
        "id": "cKyv33ltC7B1",
        "outputId": "d2620885-80c4-4406-84fc-60649e813c65"
      },
      "execution_count": 93,
      "outputs": [
        {
          "output_type": "execute_result",
          "data": {
            "text/plain": [
              "57.5"
            ]
          },
          "metadata": {},
          "execution_count": 93
        }
      ]
    },
    {
      "cell_type": "code",
      "source": [
        "YcpA2 = (y21+y22)/2\n",
        "YcpA2\n"
      ],
      "metadata": {
        "colab": {
          "base_uri": "https://localhost:8080/"
        },
        "id": "LMDyh0C8C7Fs",
        "outputId": "b310cc5f-ceb0-4adc-ca3f-06ea6520b59b"
      },
      "execution_count": 94,
      "outputs": [
        {
          "output_type": "execute_result",
          "data": {
            "text/plain": [
              "52.0"
            ]
          },
          "metadata": {},
          "execution_count": 94
        }
      ]
    },
    {
      "cell_type": "code",
      "source": [
        "YcpB1 = (y11+y21)/2\n",
        "YcpB1\n"
      ],
      "metadata": {
        "colab": {
          "base_uri": "https://localhost:8080/"
        },
        "id": "fUPp71arEiYs",
        "outputId": "a7871608-2d0d-4e0d-eedb-f6b3c9702837"
      },
      "execution_count": 95,
      "outputs": [
        {
          "output_type": "execute_result",
          "data": {
            "text/plain": [
              "45.5"
            ]
          },
          "metadata": {},
          "execution_count": 95
        }
      ]
    },
    {
      "cell_type": "code",
      "source": [
        "YcpB2 = (y12+y22)/2\n",
        "YcpB2"
      ],
      "metadata": {
        "colab": {
          "base_uri": "https://localhost:8080/"
        },
        "id": "nP0PIlojEidG",
        "outputId": "fdbe9d84-de7f-4e80-f794-3d96ef753869"
      },
      "execution_count": 96,
      "outputs": [
        {
          "output_type": "execute_result",
          "data": {
            "text/plain": [
              "64.0"
            ]
          },
          "metadata": {},
          "execution_count": 96
        }
      ]
    },
    {
      "cell_type": "code",
      "source": [
        "Ycp = np.mean( YcpA1 + YcpA2 + YcpB1 + YcpB2)/4\n",
        "Ycp "
      ],
      "metadata": {
        "colab": {
          "base_uri": "https://localhost:8080/"
        },
        "id": "T9WMPZXlEvWv",
        "outputId": "74fabba4-067d-48c8-95a3-07d728bbba40"
      },
      "execution_count": 97,
      "outputs": [
        {
          "output_type": "execute_result",
          "data": {
            "text/plain": [
              "54.75"
            ]
          },
          "metadata": {},
          "execution_count": 97
        }
      ]
    },
    {
      "cell_type": "code",
      "source": [
        "a = 2 #  2 уровня фактора а\n",
        "b = 2 # 2  уровня фактора b\n",
        "n = k =2 # число повторных измерений"
      ],
      "metadata": {
        "id": "a8o9bGI3JXm1"
      },
      "execution_count": null,
      "outputs": []
    },
    {
      "cell_type": "code",
      "source": [
        ""
      ],
      "metadata": {
        "id": "OsLs273-JXzS"
      },
      "execution_count": null,
      "outputs": []
    },
    {
      "cell_type": "code",
      "source": [
        "# SSt= sum((yijk)**2)- a*b*n*(Ycp**2) = 57**2 + 59**2+ ... + 71**2 - 2*2*2*(54.75)**2 = 1511.5"
      ],
      "metadata": {
        "id": "_6kEJm24FCYr"
      },
      "execution_count": null,
      "outputs": []
    },
    {
      "cell_type": "code",
      "source": [
        "# SSA = a*n* sum ((YcpA)**2) - a*b*n* (Ycp)**2 = 2*2*((57.5)**2 + (52)**2) - 8* (54.75)**2 = 60.5"
      ],
      "metadata": {
        "id": "AP6gQtqKFCiD"
      },
      "execution_count": null,
      "outputs": []
    },
    {
      "cell_type": "code",
      "source": [
        "# SSB = b*n* sum ((YcpB)**2) - a*b*n* (Ycp)**2 = 2*2* ((45.5)**2 + (64)**2) = 684.5"
      ],
      "metadata": {
        "id": "lsELiClEGQ2T"
      },
      "execution_count": null,
      "outputs": []
    },
    {
      "cell_type": "code",
      "source": [
        "# SSAB = n* ( sum((yij_cp)**2))- a*b*n* Ycp - SSa - SSB = 2* ((58)**2+ (57)**2 + (33)**2 + (71)**2 - 8*(54.75)**2 - 60.5 - 684.5 = 760.5"
      ],
      "metadata": {
        "id": "OWZwSVx0GQ5M"
      },
      "execution_count": null,
      "outputs": []
    },
    {
      "cell_type": "code",
      "source": [
        "SSE = SSt -SSA - SSB - SSAB = 1511.5 - 60.5 - 684.5 - 760.5 = 6"
      ],
      "metadata": {
        "id": "vvg-6DcaIyyO"
      },
      "execution_count": null,
      "outputs": []
    },
    {
      "cell_type": "code",
      "source": [
        "dfA = 2-1 = 1 # (a - 1)"
      ],
      "metadata": {
        "id": "V0NW9AxyJOxA"
      },
      "execution_count": null,
      "outputs": []
    },
    {
      "cell_type": "code",
      "source": [
        "dfB = 2-1 = 1 # ( b - 1)"
      ],
      "metadata": {
        "id": "IwClCtkoJO0H"
      },
      "execution_count": null,
      "outputs": []
    },
    {
      "cell_type": "code",
      "source": [
        "dfAB = (a - 1) * (b - 1)  = (2 -1) * (2 - 1) = 1"
      ],
      "metadata": {
        "id": "j1A3BQuSLihJ"
      },
      "execution_count": null,
      "outputs": []
    },
    {
      "cell_type": "code",
      "source": [
        "dfE = a* b* (n - 1) = 2 *2* (2 - 1) = 4"
      ],
      "metadata": {
        "id": "YFlagxywLik_"
      },
      "execution_count": null,
      "outputs": []
    },
    {
      "cell_type": "code",
      "source": [
        "MSA =  SSA / dfA = 60.5 / 1 = 60.5"
      ],
      "metadata": {
        "id": "-p3mXL_eJO2w"
      },
      "execution_count": null,
      "outputs": []
    },
    {
      "cell_type": "code",
      "source": [
        "MSB = SSB / dfB = 684.5 / 1 = 684.5"
      ],
      "metadata": {
        "id": "lW_SI2IOJO6M"
      },
      "execution_count": null,
      "outputs": []
    },
    {
      "cell_type": "code",
      "source": [
        "MSAB = SSAB / dfAB = 760.5 / 1 = 760.5"
      ],
      "metadata": {
        "id": "HbLHl880JPBt"
      },
      "execution_count": null,
      "outputs": []
    },
    {
      "cell_type": "code",
      "source": [
        "MSE = SSE / dfE = 6/4 = 1.5"
      ],
      "metadata": {
        "id": "1n5SaHjXNZx9"
      },
      "execution_count": null,
      "outputs": []
    },
    {
      "cell_type": "code",
      "source": [
        "FA = MSA / MSE = 60.5 / 1.5 = 40.33"
      ],
      "metadata": {
        "id": "YsYgpdbNNjTE"
      },
      "execution_count": null,
      "outputs": []
    },
    {
      "cell_type": "code",
      "source": [
        "FB = MSB / MSE = 684.5 / 1.5 = 456.33"
      ],
      "metadata": {
        "id": "DBHmsKi1NjWx"
      },
      "execution_count": null,
      "outputs": []
    },
    {
      "cell_type": "code",
      "source": [
        "FAB = MSAB / MSE = 760.5 / 1.5 = 507"
      ],
      "metadata": {
        "id": "nJu7OyOHNjaY"
      },
      "execution_count": null,
      "outputs": []
    },
    {
      "cell_type": "code",
      "source": [
        "F_t = 7.71"
      ],
      "metadata": {
        "id": "K5FXsr_DOE79"
      },
      "execution_count": null,
      "outputs": []
    }
  ]
}