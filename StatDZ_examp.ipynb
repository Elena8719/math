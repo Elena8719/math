{
 "cells": [
  {
   "cell_type": "code",
   "execution_count": 2,
   "id": "c4b0ffac-3f05-4954-bded-d24276c890ef",
   "metadata": {
    "tags": []
   },
   "outputs": [],
   "source": [
    "from scipy.stats import norm\n",
    "from scipy import stats\n",
    "import numpy as np\n",
    "import matplotlib.pyplot as plt\n",
    "import pandas as pd"
   ]
  },
  {
   "cell_type": "code",
   "execution_count": 91,
   "id": "d99dd69d-525d-44d4-8726-8ef826ff0c35",
   "metadata": {},
   "outputs": [
    {
     "data": {
      "text/plain": [
       "-3.2498355440153697"
      ]
     },
     "execution_count": 91,
     "metadata": {},
     "output_type": "execute_result"
    }
   ],
   "source": [
    "stats.t.ppf(0.005, 9)"
   ]
  },
  {
   "cell_type": "code",
   "execution_count": 80,
   "id": "d40c3f9f-f560-498f-8e27-669cef9b5379",
   "metadata": {},
   "outputs": [],
   "source": [
    "y = math.sqrt(10)"
   ]
  },
  {
   "cell_type": "code",
   "execution_count": 81,
   "id": "6883b4b4-3db8-4a31-bb01-cd98b0771ef6",
   "metadata": {},
   "outputs": [
    {
     "data": {
      "text/plain": [
       "3.1622776601683795"
      ]
     },
     "execution_count": 81,
     "metadata": {},
     "output_type": "execute_result"
    }
   ],
   "source": [
    "y"
   ]
  },
  {
   "cell_type": "code",
   "execution_count": 29,
   "id": "233bbbdb-fd1f-4cf5-921e-b54f69aa5afc",
   "metadata": {},
   "outputs": [
    {
     "data": {
      "text/plain": [
       "0.3566478564099676"
      ]
     },
     "execution_count": 29,
     "metadata": {},
     "output_type": "execute_result"
    }
   ],
   "source": [
    "1.5/(13.3/x)"
   ]
  },
  {
   "cell_type": "markdown",
   "id": "be2d05ca-7c89-4de0-be71-42a58d596237",
   "metadata": {
    "tags": []
   },
   "source": [
    "### ПРОБЛЕМНАЯ ЗАДАЧА"
   ]
  },
  {
   "cell_type": "code",
   "execution_count": 69,
   "id": "2f0a92b0-a389-42eb-9592-424a25dec8c2",
   "metadata": {},
   "outputs": [],
   "source": [
    "m = 200\n",
    "n = 10\n",
    "x = np.array([202, 203, 199, 197, 195, 201, 200, 204, 194, 190])"
   ]
  },
  {
   "cell_type": "code",
   "execution_count": 67,
   "id": "d9c99e83-a26f-44e6-b548-540efc354cef",
   "metadata": {},
   "outputs": [
    {
     "name": "stdout",
     "output_type": "stream",
     "text": [
      "[4, 9, 1, 9, 25, 1, 0, 16, 36, 100]\n"
     ]
    },
    {
     "data": {
      "text/plain": [
       "201"
      ]
     },
     "execution_count": 67,
     "metadata": {},
     "output_type": "execute_result"
    }
   ],
   "source": [
    "w = [(x-m)**2 for x in x]\n",
    "print(w)\n",
    "numerator = sum(w)\n",
    "numerator"
   ]
  },
  {
   "cell_type": "code",
   "execution_count": 70,
   "id": "d18924a4-c444-48b1-bb3f-9bdf3c59ddaf",
   "metadata": {},
   "outputs": [
    {
     "data": {
      "text/plain": [
       "22.333333333333332"
      ]
     },
     "execution_count": 70,
     "metadata": {},
     "output_type": "execute_result"
    }
   ],
   "source": [
    "D = numerator/(n-1) # вручную расчитанная дисперсия\n",
    "D"
   ]
  },
  {
   "cell_type": "code",
   "execution_count": 71,
   "id": "12ab53c8-5fdd-4f37-8f45-6ade05b3f7fa",
   "metadata": {},
   "outputs": [
    {
     "data": {
      "text/plain": [
       "4.725815626252608"
      ]
     },
     "execution_count": 71,
     "metadata": {},
     "output_type": "execute_result"
    }
   ],
   "source": [
    "SE = D**0.5\n",
    "SE"
   ]
  },
  {
   "cell_type": "code",
   "execution_count": 79,
   "id": "307b3f33-e907-4f24-aeb1-470d7d0a85c0",
   "metadata": {},
   "outputs": [
    {
     "data": {
      "text/plain": [
       "(19.833333333333332, 4.725815626252608, 22.3125, 4.453463071962462)"
      ]
     },
     "execution_count": 79,
     "metadata": {},
     "output_type": "execute_result"
    }
   ],
   "source": [
    "disp = np.var(x,ddof=1)\n",
    "disp1 = np.var(x,ddof=2)\n",
    "SE1 = disp**0.5\n",
    "SE2 = disp1**0.5\n",
    "disp, SE, disp1, SE1 # дисперсия с разными ddof"
   ]
  },
  {
   "cell_type": "code",
   "execution_count": 77,
   "id": "73773342-314c-4ecc-9ad9-630480264c84",
   "metadata": {},
   "outputs": [
    {
     "data": {
      "text/plain": [
       "Ttest_1sampResult(statistic=-1.0651074037450894, pvalue=0.31456660352472854)"
      ]
     },
     "execution_count": 77,
     "metadata": {},
     "output_type": "execute_result"
    }
   ],
   "source": [
    "stats.ttest_1samp(x, m)"
   ]
  }
 ],
 "metadata": {
  "kernelspec": {
   "display_name": "Python 3 (ipykernel)",
   "language": "python",
   "name": "python3"
  },
  "language_info": {
   "codemirror_mode": {
    "name": "ipython",
    "version": 3
   },
   "file_extension": ".py",
   "mimetype": "text/x-python",
   "name": "python",
   "nbconvert_exporter": "python",
   "pygments_lexer": "ipython3",
   "version": "3.9.13"
  }
 },
 "nbformat": 4,
 "nbformat_minor": 5
}
