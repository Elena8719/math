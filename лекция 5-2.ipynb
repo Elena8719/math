{
  "nbformat": 4,
  "nbformat_minor": 0,
  "metadata": {
    "colab": {
      "name": "Untitled23.ipynb",
      "provenance": [],
      "authorship_tag": "ABX9TyNsEOUgiDHgryH3xMDS8F3f",
      "include_colab_link": true
    },
    "kernelspec": {
      "name": "python3",
      "display_name": "Python 3"
    },
    "language_info": {
      "name": "python"
    }
  },
  "cells": [
    {
      "cell_type": "markdown",
      "metadata": {
        "id": "view-in-github",
        "colab_type": "text"
      },
      "source": [
        "<a href=\"https://colab.research.google.com/github/Elena8719/math/blob/main/%D0%BB%D0%B5%D0%BA%D1%86%D0%B8%D1%8F%205-2.ipynb\" target=\"_parent\"><img src=\"https://colab.research.google.com/assets/colab-badge.svg\" alt=\"Open In Colab\"/></a>"
      ]
    },
    {
      "cell_type": "code",
      "execution_count": 43,
      "metadata": {
        "colab": {
          "base_uri": "https://localhost:8080/"
        },
        "id": "Nb5QUj_MBS47",
        "outputId": "fb3901f2-bed7-459c-8763-86d7dbd344f5"
      },
      "outputs": [
        {
          "output_type": "execute_result",
          "data": {
            "text/plain": [
              "10.110000000000001"
            ]
          },
          "metadata": {},
          "execution_count": 43
        }
      ],
      "source": [
        "import numpy as np\n",
        "from scipy import stats\n",
        "x=np.array([10.50,9.94,10.42,10.47,10.4,9.93,9.17, 9.26,10.11, 10.15, 10.5, 10.47])\n",
        "x\n",
        "np.mean(x)"
      ]
    },
    {
      "cell_type": "code",
      "source": [
        "np.std(x,ddof=1)"
      ],
      "metadata": {
        "colab": {
          "base_uri": "https://localhost:8080/"
        },
        "id": "Gfkk5O2eDe6K",
        "outputId": "9fe5700a-134a-4661-ad73-8dce1df19b2e"
      },
      "execution_count": 44,
      "outputs": [
        {
          "output_type": "execute_result",
          "data": {
            "text/plain": [
              "0.4683238972412927"
            ]
          },
          "metadata": {},
          "execution_count": 44
        }
      ]
    },
    {
      "cell_type": "code",
      "source": [
        "len(x)"
      ],
      "metadata": {
        "colab": {
          "base_uri": "https://localhost:8080/"
        },
        "id": "cPX1tpjqGOCV",
        "outputId": "3050d245-b02c-4a7d-9bcf-ef47d2f76fc2"
      },
      "execution_count": 47,
      "outputs": [
        {
          "output_type": "execute_result",
          "data": {
            "text/plain": [
              "12"
            ]
          },
          "metadata": {},
          "execution_count": 47
        }
      ]
    },
    {
      "cell_type": "code",
      "source": [
        "t= (10.11-10)/(0.468/np.sqrt(12))\n",
        "t"
      ],
      "metadata": {
        "colab": {
          "base_uri": "https://localhost:8080/"
        },
        "id": "TMwzB2RLEbQp",
        "outputId": "68b7b630-20e5-401e-b4d5-cffa24ca0f5a"
      },
      "execution_count": 49,
      "outputs": [
        {
          "output_type": "execute_result",
          "data": {
            "text/plain": [
              "0.8142119180879295"
            ]
          },
          "metadata": {},
          "execution_count": 49
        }
      ]
    },
    {
      "cell_type": "code",
      "source": [
        "stats.ttest_1samp(x,10)"
      ],
      "metadata": {
        "colab": {
          "base_uri": "https://localhost:8080/"
        },
        "id": "KYgNOosjBo81",
        "outputId": "0e2a2bf3-06e1-47af-9c37-fe2e7b6a6d0b"
      },
      "execution_count": 45,
      "outputs": [
        {
          "output_type": "execute_result",
          "data": {
            "text/plain": [
              "Ttest_1sampResult(statistic=0.8136488014166606, pvalue=0.43310585815519953)"
            ]
          },
          "metadata": {},
          "execution_count": 45
        }
      ]
    },
    {
      "cell_type": "code",
      "source": [
        "stats.ttest_ind() # для независимых выборок"
      ],
      "metadata": {
        "id": "Mjl8ewfqGs6_"
      },
      "execution_count": null,
      "outputs": []
    },
    {
      "cell_type": "code",
      "source": [
        ""
      ],
      "metadata": {
        "id": "LeYp0-8xHR7A"
      },
      "execution_count": null,
      "outputs": []
    },
    {
      "cell_type": "code",
      "source": [
        "stats.ttest_rel() # для зависимых выборок"
      ],
      "metadata": {
        "id": "-LNWuLuDG3mI"
      },
      "execution_count": null,
      "outputs": []
    }
  ]
}