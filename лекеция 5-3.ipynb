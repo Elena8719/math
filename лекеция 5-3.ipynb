{
  "nbformat": 4,
  "nbformat_minor": 0,
  "metadata": {
    "colab": {
      "name": "Untitled23.ipynb",
      "provenance": [],
      "authorship_tag": "ABX9TyMMv6r4tpM9BQ9h5biwzN/4",
      "include_colab_link": true
    },
    "kernelspec": {
      "name": "python3",
      "display_name": "Python 3"
    },
    "language_info": {
      "name": "python"
    }
  },
  "cells": [
    {
      "cell_type": "markdown",
      "metadata": {
        "id": "view-in-github",
        "colab_type": "text"
      },
      "source": [
        "<a href=\"https://colab.research.google.com/github/Elena8719/math/blob/main/%D0%BB%D0%B5%D0%BA%D0%B5%D1%86%D0%B8%D1%8F%205-3.ipynb\" target=\"_parent\"><img src=\"https://colab.research.google.com/assets/colab-badge.svg\" alt=\"Open In Colab\"/></a>"
      ]
    },
    {
      "cell_type": "code",
      "execution_count": 2,
      "metadata": {
        "colab": {
          "base_uri": "https://localhost:8080/"
        },
        "id": "Nb5QUj_MBS47",
        "outputId": "356b8ff6-f064-4cdb-c2d9-2d3b05542ef2"
      },
      "outputs": [
        {
          "output_type": "execute_result",
          "data": {
            "text/plain": [
              "10.110000000000001"
            ]
          },
          "metadata": {},
          "execution_count": 2
        }
      ],
      "source": [
        "import numpy as np\n",
        "from scipy import stats\n",
        "x=np.array([10.50,9.94,10.42,10.47,10.4,9.93,9.17, 9.26,10.11, 10.15, 10.5, 10.47])\n",
        "x\n",
        "np.mean(x)"
      ]
    },
    {
      "cell_type": "code",
      "source": [
        "np.std(x,ddof=1)"
      ],
      "metadata": {
        "colab": {
          "base_uri": "https://localhost:8080/"
        },
        "id": "Gfkk5O2eDe6K",
        "outputId": "9fe5700a-134a-4661-ad73-8dce1df19b2e"
      },
      "execution_count": null,
      "outputs": [
        {
          "output_type": "execute_result",
          "data": {
            "text/plain": [
              "0.4683238972412927"
            ]
          },
          "metadata": {},
          "execution_count": 44
        }
      ]
    },
    {
      "cell_type": "code",
      "source": [
        "len(x)"
      ],
      "metadata": {
        "colab": {
          "base_uri": "https://localhost:8080/"
        },
        "id": "cPX1tpjqGOCV",
        "outputId": "3050d245-b02c-4a7d-9bcf-ef47d2f76fc2"
      },
      "execution_count": null,
      "outputs": [
        {
          "output_type": "execute_result",
          "data": {
            "text/plain": [
              "12"
            ]
          },
          "metadata": {},
          "execution_count": 47
        }
      ]
    },
    {
      "cell_type": "code",
      "source": [
        "t= (10.11-10)/(0.468/np.sqrt(12))\n",
        "t"
      ],
      "metadata": {
        "colab": {
          "base_uri": "https://localhost:8080/"
        },
        "id": "TMwzB2RLEbQp",
        "outputId": "68b7b630-20e5-401e-b4d5-cffa24ca0f5a"
      },
      "execution_count": null,
      "outputs": [
        {
          "output_type": "execute_result",
          "data": {
            "text/plain": [
              "0.8142119180879295"
            ]
          },
          "metadata": {},
          "execution_count": 49
        }
      ]
    },
    {
      "cell_type": "code",
      "source": [
        "stats.ttest_1samp(x,10)"
      ],
      "metadata": {
        "colab": {
          "base_uri": "https://localhost:8080/"
        },
        "id": "KYgNOosjBo81",
        "outputId": "0e2a2bf3-06e1-47af-9c37-fe2e7b6a6d0b"
      },
      "execution_count": null,
      "outputs": [
        {
          "output_type": "execute_result",
          "data": {
            "text/plain": [
              "Ttest_1sampResult(statistic=0.8136488014166606, pvalue=0.43310585815519953)"
            ]
          },
          "metadata": {},
          "execution_count": 45
        }
      ]
    },
    {
      "cell_type": "code",
      "source": [
        "stats.ttest_ind() # для независимых выборок"
      ],
      "metadata": {
        "id": "Mjl8ewfqGs6_"
      },
      "execution_count": null,
      "outputs": []
    },
    {
      "cell_type": "code",
      "source": [
        ""
      ],
      "metadata": {
        "id": "LeYp0-8xHR7A"
      },
      "execution_count": null,
      "outputs": []
    },
    {
      "cell_type": "code",
      "source": [
        "stats.ttest_rel() # для зависимых выборок"
      ],
      "metadata": {
        "id": "-LNWuLuDG3mI"
      },
      "execution_count": null,
      "outputs": []
    },
    {
      "cell_type": "code",
      "source": [
        "import pylab\n",
        "import scipy.stats as stats\n"
      ],
      "metadata": {
        "id": "HBaM8jzOxtxe"
      },
      "execution_count": 31,
      "outputs": []
    },
    {
      "cell_type": "code",
      "source": [
        "s = np.random.normal(10, 1, 50)\n",
        "s"
      ],
      "metadata": {
        "colab": {
          "base_uri": "https://localhost:8080/"
        },
        "id": "4Lp3aeV4w2oC",
        "outputId": "e1252777-f078-45e5-b9e4-7b6d03e8109a"
      },
      "execution_count": 29,
      "outputs": [
        {
          "output_type": "execute_result",
          "data": {
            "text/plain": [
              "array([ 9.97390476,  9.90057188,  8.17009457, 10.73674852,  9.72114663,\n",
              "       10.08391457, 10.05013878,  9.66182697, 10.12182604,  9.3502021 ,\n",
              "        8.71060879,  9.12804252, 10.68956023,  9.92754621, 10.84285221,\n",
              "        9.46072593,  9.66041775,  9.41316057,  9.67384452,  9.25505668,\n",
              "       10.17365412, 10.13357608, 10.19449073,  9.39576049, 10.85964813,\n",
              "        9.23527291, 10.24592502, 10.61240258, 10.03119032, 10.48505583,\n",
              "       10.0553858 ,  8.72793678, 10.33306942, 10.89226502,  8.96863064,\n",
              "        8.77380963,  9.79177851, 11.60989884, 11.3598431 ,  8.78220413,\n",
              "       10.86322004,  9.35573307,  9.27980494, 11.01572011,  8.6486376 ,\n",
              "       11.31360932, 10.76518345,  9.82013572, 12.71189053,  9.20886741])"
            ]
          },
          "metadata": {},
          "execution_count": 29
        }
      ]
    },
    {
      "cell_type": "code",
      "source": [
        "stats.shapiro(s)"
      ],
      "metadata": {
        "colab": {
          "base_uri": "https://localhost:8080/"
        },
        "id": "Jp_5krShv9WS",
        "outputId": "ff5bd382-88f6-4836-cbf5-6264f698ceaf"
      },
      "execution_count": 30,
      "outputs": [
        {
          "output_type": "execute_result",
          "data": {
            "text/plain": [
              "(0.9774040579795837, 0.4484253227710724)"
            ]
          },
          "metadata": {},
          "execution_count": 30
        }
      ]
    },
    {
      "cell_type": "code",
      "source": [
        "stats.probplot(s, dist= \"norm\", plot= pylab)\n",
        "pylab.show()\n"
      ],
      "metadata": {
        "colab": {
          "base_uri": "https://localhost:8080/",
          "height": 295
        },
        "id": "vFW1ZBbww2tx",
        "outputId": "99768d88-6cec-4144-a5fe-ee435769856b"
      },
      "execution_count": 34,
      "outputs": [
        {
          "output_type": "display_data",
          "data": {
            "text/plain": [
              "<Figure size 432x288 with 1 Axes>"
            ],
            "image/png": "[encoded data removed]"
          },
          "metadata": {
            "needs_background": "light"
          }
        }
      ]
    }
  ]
}