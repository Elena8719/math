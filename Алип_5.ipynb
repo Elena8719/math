{
 "cells": [
  {
   "cell_type": "markdown",
   "id": "70f50cb6",
   "metadata": {},
   "source": [
    "1. Известно, что генеральная совокупность распределена нормально\n",
    "со средним квадратическим отклонением, равным 16.\n",
    "Найти доверительный интервал для оценки математического ожидания a с надежностью 0.95,\n",
    "если выборочная средняя M = 80, а объем выборки n = 256."
   ]
  },
  {
   "cell_type": "code",
   "execution_count": 5,
   "id": "0d5a486e",
   "metadata": {},
   "outputs": [],
   "source": [
    "def graf(m, sigma):\n",
    "    from scipy.stats import norm\n",
    "    import numpy as np\n",
    "    import matplotlib.pyplot as plt\n",
    "    import seaborn as sb\n",
    "    data = np.arange(m-4*sigma,m+4*sigma,0.01)\n",
    "    pdf = norm.pdf(data , loc = m , scale = sigma )\n",
    "    sb.set_style('whitegrid')\n",
    "    sb.lineplot(data, pdf , color = 'black')\n",
    "    plt.xlabel('Data')\n",
    "    plt.ylabel('Probability Density')\n"
   ]
  },
  {
   "cell_type": "code",
   "execution_count": 6,
   "id": "4769cff0",
   "metadata": {},
   "outputs": [
    {
     "name": "stderr",
     "output_type": "stream",
     "text": [
      "C:\\Users\\buloc\\anaconda3\\lib\\site-packages\\seaborn\\_decorators.py:36: FutureWarning: Pass the following variables as keyword args: x, y. From version 0.12, the only valid positional argument will be `data`, and passing other arguments without an explicit keyword will result in an error or misinterpretation.\n",
      "  warnings.warn(\n"
     ]
    },
    {
     "data": {
      "image/png": "[encoded data removed]",
      "text/plain": [
       "<Figure size 432x288 with 1 Axes>"
      ]
     },
     "metadata": {},
     "output_type": "display_data"
    }
   ],
   "source": [
    "graf(80, 16)"
   ]
  },
  {
   "cell_type": "code",
   "execution_count": 35,
   "id": "21e270f9",
   "metadata": {},
   "outputs": [
    {
     "data": {
      "text/plain": [
       "(78.99669155290857, 81.00330844709143)"
      ]
     },
     "execution_count": 35,
     "metadata": {},
     "output_type": "execute_result"
    }
   ],
   "source": [
    "import scipy.stats as st\n",
    "import numpy as np\n",
    "st.norm.interval(alpha=0.05, loc=80, scale=16)"
   ]
  },
  {
   "cell_type": "code",
   "execution_count": 60,
   "id": "6ff2f9a7",
   "metadata": {},
   "outputs": [
    {
     "name": "stdout",
     "output_type": "stream",
     "text": [
      "81.96 78.04\n"
     ]
    }
   ],
   "source": [
    "print(80+(1.96*16/np.sqrt(256)),80-(1.96*16/np.sqrt(256)))\n",
    "#конечный ответ"
   ]
  },
  {
   "cell_type": "markdown",
   "id": "684b64c7",
   "metadata": {},
   "source": [
    "2.В результате 10 независимых измерений некоторой величины X, выполненных с одинаковой точностью,\n",
    "получены опытные данные:\n",
    "6.9, 6.1, 6.2, 6.8, 7.5, 6.3, 6.4, 6.9, 6.7, 6.1\n",
    "Предполагая, что результаты измерений подчинены нормальному закону распределения вероятностей,\n",
    "оценить истинное значение величины X при помощи доверительного интервала, покрывающего это\n",
    "значение с доверительной вероятностью 0,95."
   ]
  },
  {
   "cell_type": "code",
   "execution_count": 51,
   "id": "103e888a",
   "metadata": {},
   "outputs": [
    {
     "name": "stdout",
     "output_type": "stream",
     "text": [
      "6.267823367976165 6.9121766320238365\n"
     ]
    }
   ],
   "source": [
    "a = np.array([6.9, 6.1, 6.2, 6.8, 7.5, 6.3, 6.4, 6.9, 6.7, 6.1])\n",
    "n = 10\n",
    "std = np.std(a, ddof = 1) \n",
    "x = np.mean(a)\n",
    "v = 2.26*std/np.sqrt(10)\n",
    "print(x - v, x+v)"
   ]
  },
  {
   "cell_type": "markdown",
   "id": "c1753a08",
   "metadata": {},
   "source": [
    "3.Утверждается, что шарики для подшипников, изготовленные автоматическим станком, имеют средний диаметр 17 мм.\n",
    "Используя односторонний критерий с α=0,05, проверить эту гипотезу, если в выборке из n=100 шариков средний диаметр\n",
    "оказался равным 17.5 мм, а дисперсия известна и равна 4 кв. мм.\n"
   ]
  },
  {
   "cell_type": "code",
   "execution_count": 56,
   "id": "3997e0c9",
   "metadata": {},
   "outputs": [
    {
     "data": {
      "text/plain": [
       "2.5"
      ]
     },
     "execution_count": 56,
     "metadata": {},
     "output_type": "execute_result"
    }
   ],
   "source": [
    "0.5*10/2\n",
    "#шарики имеют диаметр 17.5"
   ]
  },
  {
   "cell_type": "markdown",
   "id": "ba677581",
   "metadata": {},
   "source": [
    "4.Продавец утверждает, что средний вес пачки печенья составляет 200 г.\n",
    "Из партии извлечена выборка из 10 пачек. Вес каждой пачки составляет:\n",
    "202, 203, 199, 197, 195, 201, 200, 204, 194, 190.\n",
    "Известно, что их веса распределены нормально.\n",
    "Верно ли утверждение продавца, если учитывать, что доверительная вероятность равна 99%? (использовать двусторонний тест)"
   ]
  },
  {
   "cell_type": "code",
   "execution_count": 59,
   "id": "7d656bfa",
   "metadata": {},
   "outputs": [
    {
     "data": {
      "text/plain": [
       "-1.0651074037450896"
      ]
     },
     "execution_count": 59,
     "metadata": {},
     "output_type": "execute_result"
    }
   ],
   "source": [
    "m = 200\n",
    "a = np.array([202, 203, 199, 197, 195, 201, 200, 204, 194, 190])\n",
    "mean = np.mean(a)\n",
    "std = np.std(a, ddof = 1) \n",
    "n=10\n",
    "(mean - 200)/(std/np.sqrt(10))\n",
    "#т.к график симметричный и tкр = 3.25, следовательно нулевая гипотеза верна."
   ]
  },
  {
   "cell_type": "code",
   "execution_count": null,
   "id": "5d405351",
   "metadata": {},
   "outputs": [],
   "source": []
  }
 ],
 "metadata": {
  "kernelspec": {
   "display_name": "Python 3 (ipykernel)",
   "language": "python",
   "name": "python3"
  },
  "language_info": {
   "codemirror_mode": {
    "name": "ipython",
    "version": 3
   },
   "file_extension": ".py",
   "mimetype": "text/x-python",
   "name": "python",
   "nbconvert_exporter": "python",
   "pygments_lexer": "ipython3",
   "version": "3.9.7"
  }
 },
 "nbformat": 4,
 "nbformat_minor": 5
}
