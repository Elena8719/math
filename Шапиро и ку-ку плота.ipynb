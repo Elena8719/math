{
  "nbformat": 4,
  "nbformat_minor": 0,
  "metadata": {
    "colab": {
      "name": "Untitled24.ipynb",
      "provenance": [],
      "authorship_tag": "ABX9TyMAKNj2taZhoTa+ejg06nFx",
      "include_colab_link": true
    },
    "kernelspec": {
      "name": "python3",
      "display_name": "Python 3"
    },
    "language_info": {
      "name": "python"
    }
  },
  "cells": [
    {
      "cell_type": "markdown",
      "metadata": {
        "id": "view-in-github",
        "colab_type": "text"
      },
      "source": [
        "<a href=\"https://colab.research.google.com/github/Elena8719/math/blob/main/%D0%A8%D0%B0%D0%BF%D0%B8%D1%80%D0%BE%20%D0%B8%20%D0%BA%D1%83-%D0%BA%D1%83%20%D0%BF%D0%BB%D0%BE%D1%82%D0%B0.ipynb\" target=\"_parent\"><img src=\"https://colab.research.google.com/assets/colab-badge.svg\" alt=\"Open In Colab\"/></a>"
      ]
    },
    {
      "cell_type": "code",
      "execution_count": 12,
      "metadata": {
        "colab": {
          "base_uri": "https://localhost:8080/"
        },
        "id": "ahk8h7rpXIkN",
        "outputId": "6e16576c-1df0-4382-9fec-5fc05bdf19db"
      },
      "outputs": [
        {
          "output_type": "execute_result",
          "data": {
            "text/plain": [
              "array([ 0.43507927,  1.12302794, -1.76378535, -0.32484652,  0.25193946,\n",
              "       -1.58486552, -0.74597495,  0.27302867, -0.77653299, -0.12801778,\n",
              "        0.44396807, -0.80571221, -0.38895459,  0.65446725,  2.0436492 ,\n",
              "        0.29404962, -1.53355959,  0.13827812,  1.66355153, -0.13573367,\n",
              "        0.5227811 ,  0.35510889, -0.06720652, -0.16222717, -0.93790625,\n",
              "        2.1139018 ,  1.3912777 , -0.65442247, -0.93968824,  0.55763116,\n",
              "       -0.12623996, -1.20722968, -1.34055146,  0.44679731, -1.60493754,\n",
              "       -0.8595879 , -0.58670928,  0.68185516,  0.00330427,  2.0326811 ,\n",
              "        0.07547452, -0.32851781,  0.38514654, -0.70570828, -0.65930789,\n",
              "       -1.01643873,  1.64351553,  1.60437097,  0.22644044,  0.75850462])"
            ]
          },
          "metadata": {},
          "execution_count": 12
        }
      ],
      "source": [
        "import numpy as np\n",
        "import pylab\n",
        "import scipy.stats as stats\n",
        "s=np.random.normal(0,1,50)\n",
        "s"
      ]
    },
    {
      "cell_type": "code",
      "source": [
        "stats.probplot(s, dist=\"norm\", plot= pylab)"
      ],
      "metadata": {
        "colab": {
          "base_uri": "https://localhost:8080/",
          "height": 659
        },
        "id": "OmPHJkCXYrRZ",
        "outputId": "92a38561-d607-410e-d09a-386d7a90b758"
      },
      "execution_count": 13,
      "outputs": [
        {
          "output_type": "execute_result",
          "data": {
            "text/plain": [
              "((array([-2.20385432, -1.83293478, -1.61402323, -1.45296849, -1.32267759,\n",
              "         -1.21163342, -1.113805  , -1.02561527, -0.94475674, -0.86964726,\n",
              "         -0.79915021, -0.73241807, -0.66879925, -0.6077796 , -0.54894415,\n",
              "         -0.49195112, -0.43651377, -0.38238727, -0.32935914, -0.27724191,\n",
              "         -0.2258675 , -0.17508277, -0.12474591, -0.07472335, -0.02488719,\n",
              "          0.02488719,  0.07472335,  0.12474591,  0.17508277,  0.2258675 ,\n",
              "          0.27724191,  0.32935914,  0.38238727,  0.43651377,  0.49195112,\n",
              "          0.54894415,  0.6077796 ,  0.66879925,  0.73241807,  0.79915021,\n",
              "          0.86964726,  0.94475674,  1.02561527,  1.113805  ,  1.21163342,\n",
              "          1.32267759,  1.45296849,  1.61402323,  1.83293478,  2.20385432]),\n",
              "  array([-1.76378535, -1.60493754, -1.58486552, -1.53355959, -1.34055146,\n",
              "         -1.20722968, -1.01643873, -0.93968824, -0.93790625, -0.8595879 ,\n",
              "         -0.80571221, -0.77653299, -0.74597495, -0.70570828, -0.65930789,\n",
              "         -0.65442247, -0.58670928, -0.38895459, -0.32851781, -0.32484652,\n",
              "         -0.16222717, -0.13573367, -0.12801778, -0.12623996, -0.06720652,\n",
              "          0.00330427,  0.07547452,  0.13827812,  0.22644044,  0.25193946,\n",
              "          0.27302867,  0.29404962,  0.35510889,  0.38514654,  0.43507927,\n",
              "          0.44396807,  0.44679731,  0.5227811 ,  0.55763116,  0.65446725,\n",
              "          0.68185516,  0.75850462,  1.12302794,  1.3912777 ,  1.60437097,\n",
              "          1.64351553,  1.66355153,  2.0326811 ,  2.0436492 ,  2.1139018 ])),\n",
              " (1.0092100160634294, 0.014703357723659476, 0.9880368756624671))"
            ]
          },
          "metadata": {},
          "execution_count": 13
        },
        {
          "output_type": "display_data",
          "data": {
            "text/plain": [
              "<Figure size 432x288 with 1 Axes>"
            ],
            "image/png": "[encoded data removed]"
          },
          "metadata": {
            "needs_background": "light"
          }
        }
      ]
    },
    {
      "cell_type": "code",
      "source": [
        "stats.shapiro(s)"
      ],
      "metadata": {
        "colab": {
          "base_uri": "https://localhost:8080/"
        },
        "id": "4f7bnv6fctXf",
        "outputId": "1e6654f5-1468-443f-ee6a-c0751cb19db7"
      },
      "execution_count": 14,
      "outputs": [
        {
          "output_type": "execute_result",
          "data": {
            "text/plain": [
              "(0.9684699177742004, 0.20040656626224518)"
            ]
          },
          "metadata": {},
          "execution_count": 14
        }
      ]
    }
  ]
}