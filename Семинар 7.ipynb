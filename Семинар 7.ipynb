{
  "nbformat": 4,
  "nbformat_minor": 0,
  "metadata": {
    "colab": {
      "provenance": [],
      "authorship_tag": "ABX9TyPpIksmUh7Po9vXRct0wVuw",
      "include_colab_link": true
    },
    "kernelspec": {
      "name": "python3",
      "display_name": "Python 3"
    },
    "language_info": {
      "name": "python"
    }
  },
  "cells": [
    {
      "cell_type": "markdown",
      "metadata": {
        "id": "view-in-github",
        "colab_type": "text"
      },
      "source": [
        "<a href=\"https://colab.research.google.com/github/Elena8719/math/blob/main/%D0%A1%D0%B5%D0%BC%D0%B8%D0%BD%D0%B0%D1%80%207.ipynb\" target=\"_parent\"><img src=\"https://colab.research.google.com/assets/colab-badge.svg\" alt=\"Open In Colab\"/></a>"
      ]
    },
    {
      "cell_type": "code",
      "execution_count": 1,
      "metadata": {
        "id": "I6PG3DyK1acW"
      },
      "outputs": [],
      "source": [
        "import numpy as np\n",
        "import scipy.stats as stats"
      ]
    },
    {
      "cell_type": "code",
      "source": [
        "gr1=np.array([0.5, 0.7, 1, 1.2, 1.4])\n",
        "gr2= np.array([1.3, 1.45, 1.6, 1.7, 1.8])\n",
        "gr3=np.array([6.2, 12.6, 13.2, 14.1, 14.2])"
      ],
      "metadata": {
        "id": "pG4piqZ_1kMy"
      },
      "execution_count": 11,
      "outputs": []
    },
    {
      "cell_type": "code",
      "source": [
        "stats.kruskal( gr1, gr2, gr3)"
      ],
      "metadata": {
        "colab": {
          "base_uri": "https://localhost:8080/"
        },
        "id": "onGR8M_41-8U",
        "outputId": "c4f7ea32-7d12-43ef-b014-0dbb0a3232a3"
      },
      "execution_count": 12,
      "outputs": [
        {
          "output_type": "execute_result",
          "data": {
            "text/plain": [
              "KruskalResult(statistic=12.02000000000001, pvalue=0.002454088180413905)"
            ]
          },
          "metadata": {},
          "execution_count": 12
        }
      ]
    },
    {
      "cell_type": "code",
      "source": [
        "x = np.array([0.5, 0.7, 1, 1.2, 1.4, 1.4, 1.2, 1.4, 1.6, 1.7, 1.8,6.2, 12.6, 13.2, 14.1 ])\n",
        "x"
      ],
      "metadata": {
        "colab": {
          "base_uri": "https://localhost:8080/"
        },
        "id": "oen83WpV2NAN",
        "outputId": "63c5e25b-63a6-4266-956b-5a4a0bb0b67c"
      },
      "execution_count": 6,
      "outputs": [
        {
          "output_type": "execute_result",
          "data": {
            "text/plain": [
              "array([ 0.5,  0.7,  1. ,  1.2,  1.4,  1.4,  1.2,  1.4,  1.6,  1.7,  1.8,\n",
              "        6.2, 12.6, 13.2, 14.1])"
            ]
          },
          "metadata": {},
          "execution_count": 6
        }
      ]
    },
    {
      "cell_type": "code",
      "source": [
        "x.sort()\n",
        "x"
      ],
      "metadata": {
        "colab": {
          "base_uri": "https://localhost:8080/"
        },
        "id": "FFSexVof2yPX",
        "outputId": "8de8c5b2-425a-444f-f3d5-783703a0b0fa"
      },
      "execution_count": 7,
      "outputs": [
        {
          "output_type": "execute_result",
          "data": {
            "text/plain": [
              "array([ 0.5,  0.7,  1. ,  1.2,  1.2,  1.4,  1.4,  1.4,  1.6,  1.7,  1.8,\n",
              "        6.2, 12.6, 13.2, 14.1])"
            ]
          },
          "metadata": {},
          "execution_count": 7
        }
      ]
    }
  ]
}