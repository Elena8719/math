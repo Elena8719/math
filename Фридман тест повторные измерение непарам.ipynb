{
  "nbformat": 4,
  "nbformat_minor": 0,
  "metadata": {
    "colab": {
      "name": "Untitled33.ipynb",
      "provenance": [],
      "authorship_tag": "ABX9TyOoz5BmcQc31coHC/YGb3cO",
      "include_colab_link": true
    },
    "kernelspec": {
      "name": "python3",
      "display_name": "Python 3"
    },
    "language_info": {
      "name": "python"
    }
  },
  "cells": [
    {
      "cell_type": "markdown",
      "metadata": {
        "id": "view-in-github",
        "colab_type": "text"
      },
      "source": [
        "<a href=\"https://colab.research.google.com/github/Elena8719/math/blob/main/%D0%A4%D1%80%D0%B8%D0%B4%D0%BC%D0%B0%D0%BD%20%D1%82%D0%B5%D1%81%D1%82%20%D0%BF%D0%BE%D0%B2%D1%82%D0%BE%D1%80%D0%BD%D1%8B%D0%B5%20%D0%B8%D0%B7%D0%BC%D0%B5%D1%80%D0%B5%D0%BD%D0%B8%D0%B5%20%D0%BD%D0%B5%D0%BF%D0%B0%D1%80%D0%B0%D0%BC.ipynb\" target=\"_parent\"><img src=\"https://colab.research.google.com/assets/colab-badge.svg\" alt=\"Open In Colab\"/></a>"
      ]
    },
    {
      "cell_type": "code",
      "execution_count": 1,
      "metadata": {
        "id": "gWTYucnkVUi7"
      },
      "outputs": [],
      "source": [
        "import numpy as np\n",
        "import scipy.stats as stats"
      ]
    },
    {
      "cell_type": "code",
      "source": [
        "gr_1= np.array ([70,  50,  64,  61,  75,  67,  73])\n",
        "gr_2=np.array([80,  78,  90,  68,  74,  65,  85])\n",
        "gr_3 = np.array([141, 142, 140, 152, 161, 163, 155])"
      ],
      "metadata": {
        "id": "M_Mwn3dmVeDz"
      },
      "execution_count": 2,
      "outputs": []
    },
    {
      "cell_type": "code",
      "source": [
        "stats.kruskal(gr_1, gr_2, gr_3)"
      ],
      "metadata": {
        "colab": {
          "base_uri": "https://localhost:8080/"
        },
        "id": "ghyUmCkzV5_L",
        "outputId": "15eb9175-7356-429c-83f2-1e7fbe07fc75"
      },
      "execution_count": 3,
      "outputs": [
        {
          "output_type": "execute_result",
          "data": {
            "text/plain": [
              "KruskalResult(statistic=15.384044526901675, pvalue=0.00045645416718036815)"
            ]
          },
          "metadata": {},
          "execution_count": 3
        }
      ]
    },
    {
      "cell_type": "code",
      "source": [
        "before= np.array([123,135,119,109, 145])\n",
        "diet_1=np.array([ 126, 144, 117, 156, 170])\n",
        "diet_2= np.array([ 141, 150, 164, 147, 169])"
      ],
      "metadata": {
        "id": "kn6GJXPd5U_0"
      },
      "execution_count": 6,
      "outputs": []
    },
    {
      "cell_type": "code",
      "source": [
        "stats. friedmanchisquare(before, diet_1, diet_2)"
      ],
      "metadata": {
        "colab": {
          "base_uri": "https://localhost:8080/"
        },
        "id": "CUmcHSqQ5VX7",
        "outputId": "40ff7b0f-100f-45cb-acd4-850d67ce9377"
      },
      "execution_count": 7,
      "outputs": [
        {
          "output_type": "execute_result",
          "data": {
            "text/plain": [
              "FriedmanchisquareResult(statistic=5.200000000000003, pvalue=0.0742735782143338)"
            ]
          },
          "metadata": {},
          "execution_count": 7
        }
      ]
    },
    {
      "cell_type": "code",
      "source": [
        ""
      ],
      "metadata": {
        "id": "WnPP-m3d6fJQ"
      },
      "execution_count": null,
      "outputs": []
    }
  ]
}