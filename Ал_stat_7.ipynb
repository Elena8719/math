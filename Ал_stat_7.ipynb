{
 "cells": [
  {
   "cell_type": "markdown",
   "id": "601aabe5",
   "metadata": {},
   "source": [
    "1.Даны значения величины заработной платы заемщиков банка (zp) и значения их поведенческого кредитного скоринга (ks): zp = [35, 45, 190, 200, 40, 70, 54, 150, 120, 110], ks = [401, 574, 874, 919, 459, 739, 653, 902, 746, 832]. Используя математические операции, посчитать коэффициенты линейной регрессии, приняв за X заработную плату (то есть, zp - признак), а за y - значения скорингового балла (то есть, ks - целевая переменная). Произвести расчет как с использованием intercept, так и без."
   ]
  },
  {
   "cell_type": "code",
   "execution_count": 48,
   "id": "815b6fb0",
   "metadata": {},
   "outputs": [
    {
     "data": {
      "image/png": "[encoded data removed]",
      "text/plain": [
       "<Figure size 432x288 with 1 Axes>"
      ]
     },
     "metadata": {
      "needs_background": "light"
     },
     "output_type": "display_data"
    },
    {
     "data": {
      "image/png": "[encoded data removed]",
      "text/plain": [
       "<Figure size 432x288 with 1 Axes>"
      ]
     },
     "metadata": {
      "needs_background": "light"
     },
     "output_type": "display_data"
    }
   ],
   "source": [
    "import numpy as np\n",
    "import matplotlib.pyplot as plt\n",
    "x = np.array([35, 45, 190, 200, 40, 70, 54, 150, 120, 110])\n",
    "y = np.array([401, 574, 874, 919, 459, 739, 653, 902, 746, 832])\n",
    "plt.scatter(x,y)\n",
    "plt.show()\n",
    "x_1 = np.log(x)\n",
    "plt.scatter(x_1, y)\n",
    "plt.show()\n",
    "#тут явно было видно, что график логарифмический"
   ]
  },
  {
   "cell_type": "code",
   "execution_count": 62,
   "id": "8e08eed7",
   "metadata": {},
   "outputs": [
    {
     "data": {
      "text/plain": [
       "265.7645981939112"
      ]
     },
     "execution_count": 62,
     "metadata": {},
     "output_type": "execute_result"
    }
   ],
   "source": [
    "b = (np.mean(x * y) - np.mean(x) * np.mean(y)) / (np.mean(x**2) - np.mean(x) ** 2)\n",
    "# b_1 = (np.mean(x_1 * y) - np.mean(x_1) * np.mean(y)) / (np.mean(x_1**2) - np.mean(x_1) ** 2)\n",
    "b"
   ]
  },
  {
   "cell_type": "code",
   "execution_count": 79,
   "id": "51d2bfc4",
   "metadata": {},
   "outputs": [
    {
     "data": {
      "text/plain": [
       "[<matplotlib.lines.Line2D at 0x2eda7ad2490>]"
      ]
     },
     "execution_count": 79,
     "metadata": {},
     "output_type": "execute_result"
    },
    {
     "data": {
      "image/png": "[encoded data removed]",
      "text/plain": [
       "<Figure size 432x288 with 1 Axes>"
      ]
     },
     "metadata": {
      "needs_background": "light"
     },
     "output_type": "display_data"
    }
   ],
   "source": [
    "a = np.mean(y) - b * np.mean(x)\n",
    "# a_1 = -np.mean(y) + b*np.mean(x_1)\n",
    "# print(a_1,np.mean(y),np.mean(x_1))\n",
    "plt.scatter(x,y)\n",
    "plt.plot(x,a+b*x)\n",
    "# plt.scatter(x_1,y)\n",
    "# plt.plot(x_1,a_1+b_1*x_1)\n",
    "# plt.show()"
   ]
  },
  {
   "cell_type": "markdown",
   "id": "a6ca3ff3",
   "metadata": {},
   "source": [
    "2.Посчитать коэффициент линейной регрессии при заработной плате (zp), используя градиентный спуск (без intercept). *3. Произвести вычисления как в пункте 2, но с вычислением intercept. Учесть, что изменение коэффициентов должно производиться на каждом шаге одновременно (то есть изменение одного коэффициента не должно влиять на изменение другого во время одной итерации)."
   ]
  },
  {
   "cell_type": "code",
   "execution_count": 89,
   "id": "42bb9458",
   "metadata": {},
   "outputs": [],
   "source": [
    "def mse_(B1,y=y,x=x,n=8):\n",
    "    return np.sum((B1*x-y)**2)/n"
   ]
  },
  {
   "cell_type": "code",
   "execution_count": 86,
   "id": "96c80958",
   "metadata": {},
   "outputs": [],
   "source": [
    "alpha = 1e-6"
   ]
  },
  {
   "cell_type": "code",
   "execution_count": 94,
   "id": "dd193e0d",
   "metadata": {},
   "outputs": [
    {
     "name": "stdout",
     "output_type": "stream",
     "text": [
      "B1 = 0.10629839999999999\n",
      "B1 = 0.3054915736564\n",
      "B1 = 0.4978242356223131\n",
      "B1 = 0.6835326722111272\n",
      "B1 = 0.8628450316811678\n",
      "B1 = 1.0359816045225207\n",
      "B1 = 1.2031550940903584\n",
      "B1 = 1.3645708779172452\n",
      "B1 = 1.5204272600254585\n",
      "B1 = 1.6709157145492917\n"
     ]
    }
   ],
   "source": [
    "B1=-0.1\n",
    "n=8\n",
    "for i in range(10):\n",
    "    B1 -=alpha*(2/n)*np.sum((B1*x-y)*x)\n",
    "    print(f'B1 = {B1}')"
   ]
  },
  {
   "cell_type": "code",
   "execution_count": 95,
   "id": "834e6d96",
   "metadata": {},
   "outputs": [
    {
     "name": "stdout",
     "output_type": "stream",
     "text": [
      "iteration: 0, B1 = 1.8162211209666421, mse = 356410.8364059472\n",
      "iteration: 10, B1 = 3.0205979649572883, mse = 212414.82105098123\n",
      "iteration: 20, B1 = 3.868895706460406, mse = 140977.97006743972\n",
      "iteration: 30, B1 = 4.466390636581198, mse = 105537.93607854965\n",
      "iteration: 40, B1 = 4.887233666161205, mse = 87956.02993569561\n",
      "iteration: 50, B1 = 5.183652675959787, mse = 79233.59406802585\n",
      "iteration: 60, B1 = 5.3924341531239905, mse = 74906.36772251758\n",
      "iteration: 70, B1 = 5.539488504450803, mse = 72759.61787771038\n",
      "iteration: 80, B1 = 5.643065615494722, mse = 71694.60890239675\n",
      "iteration: 90, B1 = 5.716019716039232, mse = 71166.25478594385\n"
     ]
    }
   ],
   "source": [
    "for i in range(100):\n",
    "    B1 -=alpha*(2/n)*np.sum((B1*x-y)*x)\n",
    "    if i%10==0:\n",
    "        print(f'iteration: {i}, B1 = {B1}, mse = {mse_(B1)}')"
   ]
  },
  {
   "cell_type": "code",
   "execution_count": null,
   "id": "6e52f41c",
   "metadata": {},
   "outputs": [],
   "source": []
  }
 ],
 "metadata": {
  "kernelspec": {
   "display_name": "Python 3 (ipykernel)",
   "language": "python",
   "name": "python3"
  },
  "language_info": {
   "codemirror_mode": {
    "name": "ipython",
    "version": 3
   },
   "file_extension": ".py",
   "mimetype": "text/x-python",
   "name": "python",
   "nbconvert_exporter": "python",
   "pygments_lexer": "ipython3",
   "version": "3.9.7"
  }
 },
 "nbformat": 4,
 "nbformat_minor": 5
}
