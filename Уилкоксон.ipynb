{
  "nbformat": 4,
  "nbformat_minor": 0,
  "metadata": {
    "colab": {
      "name": "Копия блокнота \"Untitled32.ipynb\"",
      "provenance": [],
      "authorship_tag": "ABX9TyMqHmj7kH9dpR4IAVciVfRN",
      "include_colab_link": true
    },
    "kernelspec": {
      "name": "python3",
      "display_name": "Python 3"
    },
    "language_info": {
      "name": "python"
    }
  },
  "cells": [
    {
      "cell_type": "markdown",
      "metadata": {
        "id": "view-in-github",
        "colab_type": "text"
      },
      "source": [
        "<a href=\"https://colab.research.google.com/github/Elena8719/math/blob/main/%D0%A3%D0%B8%D0%BB%D0%BA%D0%BE%D0%BA%D1%81%D0%BE%D0%BD.ipynb\" target=\"_parent\"><img src=\"https://colab.research.google.com/assets/colab-badge.svg\" alt=\"Open In Colab\"/></a>"
      ]
    },
    {
      "cell_type": "code",
      "execution_count": null,
      "metadata": {
        "id": "y9a7v3-9Kxv6"
      },
      "outputs": [],
      "source": [
        "import numpy as np"
      ]
    },
    {
      "cell_type": "code",
      "source": [
        "import scipy.stats as stats"
      ],
      "metadata": {
        "id": "y11J3QsuK0qz"
      },
      "execution_count": null,
      "outputs": []
    },
    {
      "cell_type": "code",
      "source": [
        "x1= np.array([47, 90, 75])\n",
        "x1"
      ],
      "metadata": {
        "colab": {
          "base_uri": "https://localhost:8080/"
        },
        "id": "5wAwKUz2K8Cx",
        "outputId": "fc511500-7211-4101-b6f5-0c7e9d15a285"
      },
      "execution_count": null,
      "outputs": [
        {
          "output_type": "execute_result",
          "data": {
            "text/plain": [
              "array([47, 90, 75])"
            ]
          },
          "metadata": {},
          "execution_count": 5
        }
      ]
    },
    {
      "cell_type": "code",
      "source": [
        "x2 = np.array([ 58, 60, 77])"
      ],
      "metadata": {
        "id": "zl0JmuOELEcF"
      },
      "execution_count": null,
      "outputs": []
    },
    {
      "cell_type": "code",
      "source": [
        "stats.mannwhitneyu(x1, x2)"
      ],
      "metadata": {
        "colab": {
          "base_uri": "https://localhost:8080/"
        },
        "id": "-_at9W29K0yw",
        "outputId": "77fc5fa8-e2e0-4e77-84b8-e7ae95e4a143"
      },
      "execution_count": null,
      "outputs": [
        {
          "output_type": "execute_result",
          "data": {
            "text/plain": [
              "MannwhitneyuResult(statistic=5.0, pvalue=1.0)"
            ]
          },
          "metadata": {},
          "execution_count": 9
        }
      ]
    },
    {
      "cell_type": "markdown",
      "source": [
        "Рассмотрим пример из книги Стентона Гланца\n"
      ],
      "metadata": {
        "id": "MNkFe8zePBeJ"
      }
    },
    {
      "cell_type": "code",
      "source": [
        "group_1= np.array ([1000, 1380, 1200])\n",
        "group_2 = np.array ([1400, 1600, 1180, 1220])"
      ],
      "metadata": {
        "id": "thC6siR5PPav"
      },
      "execution_count": null,
      "outputs": []
    },
    {
      "cell_type": "code",
      "source": [
        "stats.mannwhitneyu(group_1, group_2)"
      ],
      "metadata": {
        "colab": {
          "base_uri": "https://localhost:8080/"
        },
        "id": "dmHo7wY0Ry3g",
        "outputId": "31591388-db6c-476f-e0ce-7a542aeaf929"
      },
      "execution_count": null,
      "outputs": [
        {
          "output_type": "execute_result",
          "data": {
            "text/plain": [
              "MannwhitneyuResult(statistic=3.0, pvalue=0.4)"
            ]
          },
          "metadata": {},
          "execution_count": 13
        }
      ]
    },
    {
      "cell_type": "code",
      "source": [
        "x1= np.array ([70,74, 74.5, 79, 85, 93, 94, 98, 106.5, 107])"
      ],
      "metadata": {
        "id": "PMILNCjIjiD9"
      },
      "execution_count": null,
      "outputs": []
    },
    {
      "cell_type": "code",
      "source": [
        "x2= np.array ([64, 76.5, 67, 73.5, 89, 85, 89.5, 91, 98, 100.5])"
      ],
      "metadata": {
        "id": "jWDK8Ak-j2Pb"
      },
      "execution_count": null,
      "outputs": []
    },
    {
      "cell_type": "code",
      "source": [
        "x3= np.array ([64, 76.5, 67, 73.5, 89, 85, 89.5, 91, 98, 113.5])"
      ],
      "metadata": {
        "id": "4lNQHWxaRYsR"
      },
      "execution_count": null,
      "outputs": []
    },
    {
      "cell_type": "code",
      "source": [
        "stats.wilcoxon(x1, x3)"
      ],
      "metadata": {
        "colab": {
          "base_uri": "https://localhost:8080/"
        },
        "id": "nNOvc9kZRcv2",
        "outputId": "1c949729-dd5b-46b4-8b0d-04b920438bd7"
      },
      "execution_count": null,
      "outputs": [
        {
          "output_type": "execute_result",
          "data": {
            "text/plain": [
              "WilcoxonResult(statistic=9.0, pvalue=0.064453125)"
            ]
          },
          "metadata": {},
          "execution_count": 8
        }
      ]
    },
    {
      "cell_type": "code",
      "source": [
        "x2 - x1"
      ],
      "metadata": {
        "colab": {
          "base_uri": "https://localhost:8080/"
        },
        "id": "QqoNWpL9Loiw",
        "outputId": "b5decb2f-3344-43d9-d892-e9902042ea5b"
      },
      "execution_count": null,
      "outputs": [
        {
          "output_type": "execute_result",
          "data": {
            "text/plain": [
              "array([-6. ,  2.5, -7.5, -5.5,  4. , -8. , -4.5, -7. , -8.5, -6.5])"
            ]
          },
          "metadata": {},
          "execution_count": 53
        }
      ]
    },
    {
      "cell_type": "code",
      "source": [
        "stats.wilcoxon(x1, x2)"
      ],
      "metadata": {
        "colab": {
          "base_uri": "https://localhost:8080/"
        },
        "id": "PsznwclVkNcU",
        "outputId": "b8c04421-1c1d-4267-a6ee-b9b8a3cd4ff0"
      },
      "execution_count": null,
      "outputs": [
        {
          "output_type": "execute_result",
          "data": {
            "text/plain": [
              "WilcoxonResult(statistic=3.0, pvalue=0.009765625)"
            ]
          },
          "metadata": {},
          "execution_count": 54
        }
      ]
    },
    {
      "cell_type": "code",
      "source": [
        ""
      ],
      "metadata": {
        "id": "iw_M2-FeknIg"
      },
      "execution_count": null,
      "outputs": []
    },
    {
      "cell_type": "code",
      "source": [
        "g1 = np.array([20, 23, 21, 25, 18, 17, 18, 24, 20, 23, 26, 19])\n",
        "g2 = np.array([21, 25, 20, 22, 23, 18, 17, 28, 24, 27, 21, 23])"
      ],
      "metadata": {
        "id": "3d3Se5CGkhGQ"
      },
      "execution_count": null,
      "outputs": []
    },
    {
      "cell_type": "code",
      "source": [
        "stats.wilcoxon(g1, g2)"
      ],
      "metadata": {
        "colab": {
          "base_uri": "https://localhost:8080/"
        },
        "id": "pOmXxn0OkoWQ",
        "outputId": "3b2d9120-5e45-467f-cd55-73c72ce2f08b"
      },
      "execution_count": null,
      "outputs": [
        {
          "output_type": "stream",
          "name": "stderr",
          "text": [
            "/usr/local/lib/python3.7/dist-packages/scipy/stats/morestats.py:3141: UserWarning: Exact p-value calculation does not work if there are ties. Switching to normal approximation.\n",
            "  warnings.warn(\"Exact p-value calculation does not work if there are \"\n"
          ]
        },
        {
          "output_type": "execute_result",
          "data": {
            "text/plain": [
              "WilcoxonResult(statistic=17.5, pvalue=0.16500116168404932)"
            ]
          },
          "metadata": {},
          "execution_count": 33
        }
      ]
    },
    {
      "cell_type": "code",
      "source": [
        "g1-g2"
      ],
      "metadata": {
        "colab": {
          "base_uri": "https://localhost:8080/"
        },
        "id": "yY98odQ8PP45",
        "outputId": "99c59576-c762-4c0d-a786-7ec6da5304b6"
      },
      "execution_count": null,
      "outputs": [
        {
          "output_type": "execute_result",
          "data": {
            "text/plain": [
              "array([-1, -2,  1,  3, -5, -1,  1, -4, -4, -4,  5, -4])"
            ]
          },
          "metadata": {},
          "execution_count": 40
        }
      ]
    },
    {
      "cell_type": "code",
      "source": [
        ""
      ],
      "metadata": {
        "id": "qZMLk40SPbVJ"
      },
      "execution_count": null,
      "outputs": []
    }
  ]
}