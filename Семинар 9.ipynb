{
  "nbformat": 4,
  "nbformat_minor": 0,
  "metadata": {
    "colab": {
      "provenance": [],
      "authorship_tag": "ABX9TyP4N1kAGxqxlXe7D7MXZ6nO",
      "include_colab_link": true
    },
    "kernelspec": {
      "name": "python3",
      "display_name": "Python 3"
    },
    "language_info": {
      "name": "python"
    }
  },
  "cells": [
    {
      "cell_type": "markdown",
      "metadata": {
        "id": "view-in-github",
        "colab_type": "text"
      },
      "source": [
        "<a href=\"https://colab.research.google.com/github/Elena8719/math/blob/main/%D0%A1%D0%B5%D0%BC%D0%B8%D0%BD%D0%B0%D1%80%209.ipynb\" target=\"_parent\"><img src=\"https://colab.research.google.com/assets/colab-badge.svg\" alt=\"Open In Colab\"/></a>"
      ]
    },
    {
      "cell_type": "code",
      "execution_count": 1,
      "metadata": {
        "id": "BXWm1EgvhBzR"
      },
      "outputs": [],
      "source": [
        "import numpy as np"
      ]
    },
    {
      "cell_type": "code",
      "source": [
        "X1= np.array([30,30,40, 40]).reshape((-1, 1))      \n",
        "Y1= np.array([37, 47, 50, 60])  "
      ],
      "metadata": {
        "id": "gzhT-DmuijCK"
      },
      "execution_count": 19,
      "outputs": []
    },
    {
      "cell_type": "code",
      "source": [
        "from sklearn.linear_model import LinearRegression"
      ],
      "metadata": {
        "id": "QeklcCRTjG4X"
      },
      "execution_count": 10,
      "outputs": []
    },
    {
      "cell_type": "code",
      "source": [
        "import matplotlib.pyplot as plt\n"
      ],
      "metadata": {
        "id": "sRZTBb9Dl0OZ"
      },
      "execution_count": 24,
      "outputs": []
    },
    {
      "cell_type": "code",
      "source": [
        "model = LinearRegression()\n",
        "model.fit(X1, Y1)\n",
        "r_sq = model.score(X1, Y1)\n",
        "print('coefficient of determination:', r_sq)\n",
        "print('intercept:', model.intercept_)\n",
        "print('slope:', model.coef_)\n"
      ],
      "metadata": {
        "colab": {
          "base_uri": "https://localhost:8080/"
        },
        "id": "NLoP6BKBjQjK",
        "outputId": "6966d393-a43f-48b0-bd21-c670900e5f06"
      },
      "execution_count": 20,
      "outputs": [
        {
          "output_type": "stream",
          "name": "stdout",
          "text": [
            "coefficient of determination: 0.6282527881040892\n",
            "intercept: 3.0\n",
            "slope: [1.3]\n"
          ]
        }
      ]
    },
    {
      "cell_type": "code",
      "source": [
        "X1= np.array([30,30,40, 40])\n",
        "\n",
        "plt.scatter(X1,Y1)\n",
        "plt.plot(X1, 3+ 1.3*X1)"
      ],
      "metadata": {
        "colab": {
          "base_uri": "https://localhost:8080/",
          "height": 283
        },
        "id": "biBuqSexlx0U",
        "outputId": "5ea5b36c-7405-47be-ddbc-0d86b86f6859"
      },
      "execution_count": 44,
      "outputs": [
        {
          "output_type": "execute_result",
          "data": {
            "text/plain": [
              "[<matplotlib.lines.Line2D at 0x7fa3f73ada90>]"
            ]
          },
          "metadata": {},
          "execution_count": 44
        },
        {
          "output_type": "display_data",
          "data": {
            "text/plain": [
              "<Figure size 432x288 with 1 Axes>"
            ],
            "image/png": "[encoded data removed]"
          },
          "metadata": {
            "needs_background": "light"
          }
        }
      ]
    },
    {
      "cell_type": "code",
      "source": [
        "X2= np.array([30,30,40, 40, 20, 20, 50, 50]).reshape((-1, 1))       \n",
        "Y2= np.array([37, 47, 50, 60, 25, 35, 62, 72]) \n",
        "model = LinearRegression()\n",
        "model.fit(X2, Y2)\n",
        "r_sq = model.score(X2, Y2)\n",
        "print('coefficient of determination:', r_sq)\n",
        "print('intercept:', model.intercept_)\n",
        "print('slope:', model.coef_)"
      ],
      "metadata": {
        "colab": {
          "base_uri": "https://localhost:8080/"
        },
        "id": "TJsV6w5pj2E-",
        "outputId": "73d8bc6d-0414-4de5-8ebf-9c73021b8315"
      },
      "execution_count": 33,
      "outputs": [
        {
          "output_type": "stream",
          "name": "stdout",
          "text": [
            "coefficient of determination: 0.8846950517836594\n",
            "intercept: 5.1000000000000085\n",
            "slope: [1.24]\n"
          ]
        }
      ]
    },
    {
      "cell_type": "code",
      "source": [
        "\n",
        "\n",
        "plt.scatter(X2,Y2)\n",
        "plt.plot(X2, 5.1 + 1.24*X2)"
      ],
      "metadata": {
        "colab": {
          "base_uri": "https://localhost:8080/",
          "height": 283
        },
        "id": "QMJebQmdnOJT",
        "outputId": "f0474b79-5e31-44df-e1ef-2d83efca3c05"
      },
      "execution_count": 43,
      "outputs": [
        {
          "output_type": "execute_result",
          "data": {
            "text/plain": [
              "[<matplotlib.lines.Line2D at 0x7fa3f743cd90>]"
            ]
          },
          "metadata": {},
          "execution_count": 43
        },
        {
          "output_type": "display_data",
          "data": {
            "text/plain": [
              "<Figure size 432x288 with 1 Axes>"
            ],
            "image/png": "[encoded data removed]"
          },
          "metadata": {
            "needs_background": "light"
          }
        }
      ]
    },
    {
      "cell_type": "code",
      "source": [
        "X3 = np.array([30,30,40, 40, 20, 20, 50, 50, 10, 10, 60, 60]) .reshape((-1, 1)) \n",
        "Y3 =       np.array([37, 47, 50, 60, 25, 35, 62, 72, 13, 23, 74, 84])   \n",
        "model = LinearRegression()\n",
        "model.fit(X3, Y3)\n",
        "r_sq = model.score(X3, Y3)\n",
        "print('coefficient of determination:', r_sq) \n",
        "print('intercept:', model.intercept_)\n",
        "print('slope:', model.coef_)"
      ],
      "metadata": {
        "colab": {
          "base_uri": "https://localhost:8080/"
        },
        "id": "fwFis5fckTzU",
        "outputId": "bfcdf678-3079-45fd-8637-4c872f5e0e36"
      },
      "execution_count": 38,
      "outputs": [
        {
          "output_type": "stream",
          "name": "stdout",
          "text": [
            "coefficient of determination: 0.9459101071621309\n",
            "intercept: 5.600000000000016\n",
            "slope: [1.22571429]\n"
          ]
        }
      ]
    },
    {
      "cell_type": "code",
      "source": [
        "\n",
        "\n",
        "plt.scatter(X3,Y3)\n",
        "plt.plot(X3, 5.6 + 1.23 *X3)"
      ],
      "metadata": {
        "colab": {
          "base_uri": "https://localhost:8080/",
          "height": 283
        },
        "id": "RYsAHcORnpnC",
        "outputId": "ef1813d1-921c-4d72-9a2a-29faf303880f"
      },
      "execution_count": 42,
      "outputs": [
        {
          "output_type": "execute_result",
          "data": {
            "text/plain": [
              "[<matplotlib.lines.Line2D at 0x7fa3f74c5f90>]"
            ]
          },
          "metadata": {},
          "execution_count": 42
        },
        {
          "output_type": "display_data",
          "data": {
            "text/plain": [
              "<Figure size 432x288 with 1 Axes>"
            ],
            "image/png": "[encoded data removed]"
          },
          "metadata": {
            "needs_background": "light"
          }
        }
      ]
    },
    {
      "cell_type": "code",
      "source": [],
      "metadata": {
        "id": "W7A4WDW7kEzT"
      },
      "execution_count": null,
      "outputs": []
    }
  ]
}