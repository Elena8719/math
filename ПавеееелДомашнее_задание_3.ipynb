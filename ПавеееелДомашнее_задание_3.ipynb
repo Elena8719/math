{
  "nbformat": 4,
  "nbformat_minor": 0,
  "metadata": {
    "colab": {
      "name": "Домашнее задание 3.ipynb",
      "provenance": [],
      "collapsed_sections": []
    },
    "kernelspec": {
      "name": "python3",
      "display_name": "Python 3"
    },
    "language_info": {
      "name": "python"
    }
  },
  "cells": [
    {
      "cell_type": "markdown",
      "source": [
        "### 1. Даны значения зарплат из выборки выпускников: 100, 80, 75, 77, 89, 33, 45, 25, 65, 17, 30, 24, 57, 55, 70, 75, 65, 84, 90, 150. Посчитать (желательно без использования статистических методов наподобие std, var, mean) среднее арифметическое, среднее квадратичное отклонение, смещенную и несмещенную оценки дисперсий для данной выборки."
      ],
      "metadata": {
        "id": "SSSDi-KPCRYo"
      }
    },
    {
      "cell_type": "code",
      "source": [
        "from math import sqrt"
      ],
      "metadata": {
        "id": "bjqRYR5CGUro"
      },
      "execution_count": 15,
      "outputs": []
    },
    {
      "cell_type": "code",
      "source": [
        "nums = [100, 80, 75, 77, 89, 33, 45, 25, 65, 17, 30, 24, 57, 55, 70, 75, 65, 84, 90, 150]"
      ],
      "metadata": {
        "id": "SiGrbTutCZu1"
      },
      "execution_count": 1,
      "outputs": []
    },
    {
      "cell_type": "code",
      "source": [
        "mean_nums = 0\n",
        "var_nums = 0\n",
        "var_nums_1 = 0\n",
        "for i in nums:\n",
        "  mean_nums += i\n",
        "  var_nums += (i - 65.3)**2/len(nums)\n",
        "  var_nums_1 += (i - 65.3)**2/(len(nums)-1)\n",
        "print(f'Среднее арифметическое: {mean_nums/len(nums)}')\n",
        "print(f'Несмещенная дисперсия: {var_nums:.2f}')\n",
        "print(f'Смещенная дисперсия: {var_nums_1:.2f}')\n",
        "print(f'Среднее квадратичное отклонение: {sqrt(var_nums):.2f}')"
      ],
      "metadata": {
        "colab": {
          "base_uri": "https://localhost:8080/"
        },
        "id": "G4P69onwChKa",
        "outputId": "65e18dde-b0f8-4f86-fa92-2ecdcb0ca901"
      },
      "execution_count": 17,
      "outputs": [
        {
          "output_type": "stream",
          "name": "stdout",
          "text": [
            "Среднее арифметическое: 65.3\n",
            "Несмещенная дисперсия: 950.11\n",
            "Смещенная дисперсия: 1000.12\n",
            "Среднее квадратичное отклонение: 30.82\n"
          ]
        }
      ]
    },
    {
      "cell_type": "markdown",
      "source": [
        "### 2. В первом ящике находится 8 мячей, из которых 5 - белые. Во втором ящике - 12 мячей, из которых 5 белых. Из первого ящика вытаскивают случайным образом два мяча, из второго - 4. Какова вероятность того, что 3 мяча белые?"
      ],
      "metadata": {
        "id": "R5nvGcCyG5KA"
      }
    },
    {
      "cell_type": "markdown",
      "source": [
        "Расчитаем несколько вероятностей, когда вытаскивается (0 + 3) белых мячей, (1 + 2) белых мячей, (2 + 1) белых мячей. "
      ],
      "metadata": {
        "id": "GDrZdbENG-mV"
      }
    },
    {
      "cell_type": "code",
      "source": [
        "from math import factorial\n",
        "def comb(n, k):\n",
        "    return int (factorial(n) / (factorial(k) * factorial(n-k)))"
      ],
      "metadata": {
        "id": "EkIHwkrXJ69e"
      },
      "execution_count": 18,
      "outputs": []
    },
    {
      "cell_type": "markdown",
      "source": [
        "В первом варианте высчитываем вероятность вытащить из первой корзины все черные мячи, а из второй 3 белых мяча и один черный. "
      ],
      "metadata": {
        "id": "d28nJUFVPVRA"
      }
    },
    {
      "cell_type": "code",
      "source": [
        "p1 = (comb(3,2) / comb(8,2)) * (comb(5,3) * comb(7,1) / comb(12,4))\n",
        "p1"
      ],
      "metadata": {
        "colab": {
          "base_uri": "https://localhost:8080/"
        },
        "id": "fT97kukcKGub",
        "outputId": "c0fe5b43-8022-445f-f054-6437baa0f7b6"
      },
      "execution_count": 34,
      "outputs": [
        {
          "output_type": "execute_result",
          "data": {
            "text/plain": [
              "0.01515151515151515"
            ]
          },
          "metadata": {},
          "execution_count": 34
        }
      ]
    },
    {
      "cell_type": "markdown",
      "source": [
        "Во втором варианте высчитываем вероятность вытазить из первой корзины 1 белый и 1 черный мяч, а из втрой корзины 2 белых мяча и 1 черный."
      ],
      "metadata": {
        "id": "cctj2INWPmrG"
      }
    },
    {
      "cell_type": "code",
      "source": [
        "p2 = (comb(5,1) * comb(3,1) / comb(8,2)) * (comb(5,2) * comb(7,2) / comb(12,4))\n",
        "p2"
      ],
      "metadata": {
        "colab": {
          "base_uri": "https://localhost:8080/"
        },
        "id": "rhqYJnqFKxmG",
        "outputId": "cca80bc6-108d-41d3-95fb-f3c316d514a0"
      },
      "execution_count": 35,
      "outputs": [
        {
          "output_type": "execute_result",
          "data": {
            "text/plain": [
              "0.22727272727272727"
            ]
          },
          "metadata": {},
          "execution_count": 35
        }
      ]
    },
    {
      "cell_type": "markdown",
      "source": [
        "В третьем варианте расчитываем вероятность вытащить 2 белых мяча из первой корзины, и 1 белый и 3 черных мяча из второй корзины."
      ],
      "metadata": {
        "id": "R9-dIrP8Pz61"
      }
    },
    {
      "cell_type": "code",
      "source": [
        "p3 = (comb(5,2) / comb(8,2)) * (comb(5,1) * comb(7,3) / comb(12,4))\n",
        "p3"
      ],
      "metadata": {
        "colab": {
          "base_uri": "https://localhost:8080/"
        },
        "id": "rLiaDPHeLFKR",
        "outputId": "d00c0868-3c99-4daa-cdbd-b2f866731da5"
      },
      "execution_count": 36,
      "outputs": [
        {
          "output_type": "execute_result",
          "data": {
            "text/plain": [
              "0.12626262626262627"
            ]
          },
          "metadata": {},
          "execution_count": 36
        }
      ]
    },
    {
      "cell_type": "markdown",
      "source": [
        "Суммируем вероятности:"
      ],
      "metadata": {
        "id": "6HB4Xy_eQAz8"
      }
    },
    {
      "cell_type": "code",
      "source": [
        "p = p1 + p2 + p3\n",
        "print(f'Вероятность вытащить 3 белых мяча: {p*100:.2f}%')"
      ],
      "metadata": {
        "colab": {
          "base_uri": "https://localhost:8080/"
        },
        "id": "y6HqD8MwLL7f",
        "outputId": "85ed56de-e1f0-4f53-ce78-2e1ae0cf58ae"
      },
      "execution_count": 37,
      "outputs": [
        {
          "output_type": "stream",
          "name": "stdout",
          "text": [
            "Вероятность вытащить 3 белых мяча: 36.87%\n"
          ]
        }
      ]
    },
    {
      "cell_type": "markdown",
      "source": [
        "### 3. На соревновании по биатлону один из трех спортсменов стреляет и попадает в мишень. Вероятность попадания для первого спортсмена равна 0.9, для второго — 0.8, для третьего — 0.6. Найти вероятность того, что выстрел произведен: a). первым спортсменом б). вторым спортсменом в). третьим спортсменом."
      ],
      "metadata": {
        "id": "Vvn56UIhONgh"
      }
    },
    {
      "cell_type": "markdown",
      "source": [
        "Расчитаем общую вероятность А:"
      ],
      "metadata": {
        "id": "EgVgABy_QMeE"
      }
    },
    {
      "cell_type": "code",
      "source": [
        "A = 1/3 * 0.9 + 1/3 * 0.8 + 1/3 * 0.6\n",
        "print(f'{A:.2f}')"
      ],
      "metadata": {
        "colab": {
          "base_uri": "https://localhost:8080/"
        },
        "id": "aCqQu-aZQrh9",
        "outputId": "e23041e5-6f32-4ada-f69f-47fbf35dc31f"
      },
      "execution_count": 41,
      "outputs": [
        {
          "output_type": "stream",
          "name": "stdout",
          "text": [
            "0.77\n"
          ]
        }
      ]
    },
    {
      "cell_type": "markdown",
      "source": [
        "Вероятность первого стрелка поразить цель:"
      ],
      "metadata": {
        "id": "yMtim2-BRKy6"
      }
    },
    {
      "cell_type": "code",
      "source": [
        "p_1 = 1/3 * 0.9 / A\n",
        "p_1"
      ],
      "metadata": {
        "colab": {
          "base_uri": "https://localhost:8080/"
        },
        "id": "qKCTWU81RQ5i",
        "outputId": "69e28fd6-0ef8-4230-b4d0-c4bea3f65682"
      },
      "execution_count": 42,
      "outputs": [
        {
          "output_type": "execute_result",
          "data": {
            "text/plain": [
              "0.391304347826087"
            ]
          },
          "metadata": {},
          "execution_count": 42
        }
      ]
    },
    {
      "cell_type": "markdown",
      "source": [
        "Веротяность второго стрелка поразить цель:"
      ],
      "metadata": {
        "id": "70qbyuCdRjiy"
      }
    },
    {
      "cell_type": "code",
      "source": [
        "p_2 = 1/3 * 0.8 / A\n",
        "p_2"
      ],
      "metadata": {
        "colab": {
          "base_uri": "https://localhost:8080/"
        },
        "id": "52pt_2UJRq1y",
        "outputId": "294cd7d5-390a-4f16-bd4c-f01b820b299e"
      },
      "execution_count": 43,
      "outputs": [
        {
          "output_type": "execute_result",
          "data": {
            "text/plain": [
              "0.3478260869565218"
            ]
          },
          "metadata": {},
          "execution_count": 43
        }
      ]
    },
    {
      "cell_type": "markdown",
      "source": [
        "Веротяность третим стрелком поразить цель:"
      ],
      "metadata": {
        "id": "W60WTb0MRvIN"
      }
    },
    {
      "cell_type": "code",
      "source": [
        "p_3 = 1/3 * 0.6 / A\n",
        "p_3"
      ],
      "metadata": {
        "colab": {
          "base_uri": "https://localhost:8080/"
        },
        "id": "JtuvNWxoRyVD",
        "outputId": "4e687783-051d-42bd-b99a-17bfcb27772b"
      },
      "execution_count": 44,
      "outputs": [
        {
          "output_type": "execute_result",
          "data": {
            "text/plain": [
              "0.2608695652173913"
            ]
          },
          "metadata": {},
          "execution_count": 44
        }
      ]
    },
    {
      "cell_type": "markdown",
      "source": [
        "### 4. В университет на факультеты A и B поступило равное количество студентов, а на факультет C студентов поступило столько же, сколько на A и B вместе. Вероятность того, что студент факультета A сдаст первую сессию, равна 0.8. Для студента факультета B эта вероятность равна 0.7, а для студента факультета C - 0.9. Студент сдал первую сессию. Какова вероятность, что он учится: a). на факультете A б). на факультете B в). на факультете C?"
      ],
      "metadata": {
        "id": "7gRwAc-9SjRS"
      }
    },
    {
      "cell_type": "markdown",
      "source": [
        "Расчитаем общую вероятность А1:"
      ],
      "metadata": {
        "id": "gbC_N6_ISuuR"
      }
    },
    {
      "cell_type": "code",
      "source": [
        "A1 = 0.25 * 0.8 + 0.25 * 0.7 + 0.5 *0.9\n",
        "A1"
      ],
      "metadata": {
        "colab": {
          "base_uri": "https://localhost:8080/"
        },
        "id": "PSaQhYB2S2Ap",
        "outputId": "7e4f6129-625e-4d38-bf20-c822a53c8c37"
      },
      "execution_count": 47,
      "outputs": [
        {
          "output_type": "execute_result",
          "data": {
            "text/plain": [
              "0.825"
            ]
          },
          "metadata": {},
          "execution_count": 47
        }
      ]
    },
    {
      "cell_type": "markdown",
      "source": [
        "Далее расчитываем вероятность что это был студент факультета А:"
      ],
      "metadata": {
        "id": "h8wOhzP7TDfe"
      }
    },
    {
      "cell_type": "code",
      "source": [
        "pa1 = 0.25 * 0.8 / 0.825\n",
        "int(pa1 * 100)"
      ],
      "metadata": {
        "colab": {
          "base_uri": "https://localhost:8080/"
        },
        "id": "KJIUkc6XTCvy",
        "outputId": "d4aea337-8212-496e-b3cb-ff1d21e9e830"
      },
      "execution_count": 49,
      "outputs": [
        {
          "output_type": "execute_result",
          "data": {
            "text/plain": [
              "24"
            ]
          },
          "metadata": {},
          "execution_count": 49
        }
      ]
    },
    {
      "cell_type": "markdown",
      "source": [
        "Расчитываем вероятность что это был студент факультета B:"
      ],
      "metadata": {
        "id": "8l2Siv4YTipT"
      }
    },
    {
      "cell_type": "code",
      "source": [
        "pa2 = 0.25 * 0.7 / 0.825\n",
        "int(pa2 * 100)"
      ],
      "metadata": {
        "colab": {
          "base_uri": "https://localhost:8080/"
        },
        "id": "DBvh5SNgTqNL",
        "outputId": "2ce082d3-e68b-4338-b435-b19abc5563f7"
      },
      "execution_count": 50,
      "outputs": [
        {
          "output_type": "execute_result",
          "data": {
            "text/plain": [
              "21"
            ]
          },
          "metadata": {},
          "execution_count": 50
        }
      ]
    },
    {
      "cell_type": "markdown",
      "source": [
        "Расчитываем вероятность что это был студен факультета C:"
      ],
      "metadata": {
        "id": "HVIOB8DXT-M7"
      }
    },
    {
      "cell_type": "code",
      "source": [
        "pa3 = 0.5 * 0.9 / 0.825\n",
        "int(pa3 * 100)"
      ],
      "metadata": {
        "colab": {
          "base_uri": "https://localhost:8080/"
        },
        "id": "NPkXE5suUES0",
        "outputId": "407b02d1-11b1-463b-bc8b-ab2e1bf4b93c"
      },
      "execution_count": 51,
      "outputs": [
        {
          "output_type": "execute_result",
          "data": {
            "text/plain": [
              "54"
            ]
          },
          "metadata": {},
          "execution_count": 51
        }
      ]
    },
    {
      "cell_type": "markdown",
      "source": [
        "### 5. Устройство состоит из трех деталей. Для первой детали вероятность выйти из строя в первый месяц равна 0.1, для второй - 0.2, для третьей - 0.25. Какова вероятность того, что в первый месяц выйдут из строя: а). все детали б). только две детали в). хотя бы одна деталь г). от одной до двух деталей?"
      ],
      "metadata": {
        "id": "3RW9aHQtUV4M"
      }
    },
    {
      "cell_type": "markdown",
      "source": [
        "Расчитаем вариант когда все детали вышли из строя в первый месяц:"
      ],
      "metadata": {
        "id": "aX4TLvWkUbuC"
      }
    },
    {
      "cell_type": "code",
      "source": [
        "a = 0.1 * 0.2 * 0.25\n",
        "print(f'Веротяность выхода из строя всех деталей в первый месяц: {a*100:.2f}%')"
      ],
      "metadata": {
        "colab": {
          "base_uri": "https://localhost:8080/"
        },
        "id": "SoXm3urhUxQG",
        "outputId": "f14bb4c4-b054-4107-960f-8cd79e9576d7"
      },
      "execution_count": 57,
      "outputs": [
        {
          "output_type": "stream",
          "name": "stdout",
          "text": [
            "Веротяность выхода из строя всех деталей в первый месяц: 0.50%\n"
          ]
        }
      ]
    },
    {
      "cell_type": "markdown",
      "source": [
        "Расчитаем вероятность что выйдут из строя только две детали:\n"
      ],
      "metadata": {
        "id": "cL0iPoYoVeux"
      }
    },
    {
      "cell_type": "code",
      "source": [
        "a1 = (0.1*0.8*0.25) + (0.1*0.2*0.75) + (0.9*0.2*0.25)\n",
        "print(f'Веротяность выхода из строя двух деталей в первый месяц: {a1*100:.2f}%')"
      ],
      "metadata": {
        "colab": {
          "base_uri": "https://localhost:8080/"
        },
        "id": "ad8mg-OqVjz6",
        "outputId": "b8e41c87-26bf-4344-a845-5122893946a5"
      },
      "execution_count": 59,
      "outputs": [
        {
          "output_type": "stream",
          "name": "stdout",
          "text": [
            "Веротяность выхода из строя двух деталей в первый месяц: 8.00%\n"
          ]
        }
      ]
    },
    {
      "cell_type": "markdown",
      "source": [
        "Расчитаем вероятность что выйдут из строя одна деталь:"
      ],
      "metadata": {
        "id": "WuXjGElOWIqu"
      }
    },
    {
      "cell_type": "code",
      "source": [
        "a2 = (0.1*0.8*0.75) + (0.9*0.2*0.75) + (0.9*0.8*0.25)\n",
        "print(f'Веротяность выхода из строя одной детали в первый месяц: {a2*100:.2f}%')"
      ],
      "metadata": {
        "colab": {
          "base_uri": "https://localhost:8080/"
        },
        "id": "OqaQW2PzWNRt",
        "outputId": "ae6fb513-627c-423c-cf05-c27acad4f60d"
      },
      "execution_count": 61,
      "outputs": [
        {
          "output_type": "stream",
          "name": "stdout",
          "text": [
            "Веротяность выхода из строя одной детали в первый месяц: 37.50%\n"
          ]
        }
      ]
    },
    {
      "cell_type": "markdown",
      "source": [
        "Для того что бы высчитать вероятность выхода из строя одной или двух деталей нужно сложить высчитанные веротяности на подобный исход:"
      ],
      "metadata": {
        "id": "SogSVlTuXTrn"
      }
    },
    {
      "cell_type": "code",
      "source": [
        "a1_a2 = a1 + a2\n",
        "print(f'Веротяность выхода из строя одной или двух деталей в первый месяц: {a1_a2*100:.2f}%')"
      ],
      "metadata": {
        "colab": {
          "base_uri": "https://localhost:8080/"
        },
        "id": "8hQ4BxWnXhCs",
        "outputId": "ada9187e-93eb-4763-c39f-a471c42cc231"
      },
      "execution_count": 63,
      "outputs": [
        {
          "output_type": "stream",
          "name": "stdout",
          "text": [
            "Веротяность выхода из строя одной или двух деталей в первый месяц: 45.50%\n"
          ]
        }
      ]
    }
  ]
}