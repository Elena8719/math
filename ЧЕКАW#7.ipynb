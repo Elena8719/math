{
 "cells": [
  {
   "cell_type": "code",
   "execution_count": 53,
   "id": "6e7ef0fc",
   "metadata": {},
   "outputs": [
    {
     "data": {
      "text/plain": [
       "array([ 35,  45, 190, 200,  40,  70,  54, 150, 120, 110])"
      ]
     },
     "execution_count": 53,
     "metadata": {},
     "output_type": "execute_result"
    }
   ],
   "source": [
    "import numpy as np\n",
    "x=np.array([35,45,190,200,40,70,54,150,120,110])\n",
    "x\n"
   ]
  },
  {
   "cell_type": "code",
   "execution_count": 54,
   "id": "16a7e311",
   "metadata": {},
   "outputs": [
    {
     "data": {
      "text/plain": [
       "(10,)"
      ]
     },
     "execution_count": 54,
     "metadata": {},
     "output_type": "execute_result"
    }
   ],
   "source": [
    "n=x.shape\n",
    "n"
   ]
  },
  {
   "cell_type": "code",
   "execution_count": 55,
   "id": "e9ad7d2a",
   "metadata": {},
   "outputs": [
    {
     "data": {
      "text/plain": [
       "array([401, 574, 874, 919, 459, 739, 653, 902, 746, 832])"
      ]
     },
     "execution_count": 55,
     "metadata": {},
     "output_type": "execute_result"
    }
   ],
   "source": [
    "y=np.array([401,574,874,919,459,739,653,902,746,832])\n",
    "y"
   ]
  },
  {
   "cell_type": "code",
   "execution_count": 56,
   "id": "c54ec3ae",
   "metadata": {},
   "outputs": [
    {
     "data": {
      "text/plain": [
       "(10,)"
      ]
     },
     "execution_count": 56,
     "metadata": {},
     "output_type": "execute_result"
    }
   ],
   "source": [
    "y.shape"
   ]
  },
  {
   "cell_type": "code",
   "execution_count": 57,
   "id": "623d0e0d",
   "metadata": {},
   "outputs": [
    {
     "data": {
      "text/plain": [
       "2.620538882402765"
      ]
     },
     "execution_count": 57,
     "metadata": {},
     "output_type": "execute_result"
    }
   ],
   "source": [
    "b=(np.mean(x*y)-np.mean(x)*np.mean(y))/(np.mean(x**2)-np.mean(x)**2)\n",
    "b"
   ]
  },
  {
   "cell_type": "code",
   "execution_count": 58,
   "id": "97aa0e02",
   "metadata": {},
   "outputs": [
    {
     "data": {
      "text/plain": [
       "444.1773573243596"
      ]
     },
     "execution_count": 58,
     "metadata": {},
     "output_type": "execute_result"
    }
   ],
   "source": [
    "a=np.mean(y)-b*np.mean(x)\n",
    "a"
   ]
  },
  {
   "cell_type": "code",
   "execution_count": 62,
   "id": "0968e902",
   "metadata": {},
   "outputs": [
    {
     "data": {
      "text/plain": [
       "array([[ 35],\n",
       "       [ 45],\n",
       "       [190],\n",
       "       [200],\n",
       "       [ 40],\n",
       "       [ 70],\n",
       "       [ 54],\n",
       "       [150],\n",
       "       [120],\n",
       "       [110]])"
      ]
     },
     "execution_count": 62,
     "metadata": {},
     "output_type": "execute_result"
    }
   ],
   "source": [
    "x=x.reshape((10,1))\n",
    "x"
   ]
  },
  {
   "cell_type": "code",
   "execution_count": 63,
   "id": "faae2083",
   "metadata": {},
   "outputs": [
    {
     "data": {
      "text/plain": [
       "array([[401],\n",
       "       [574],\n",
       "       [874],\n",
       "       [919],\n",
       "       [459],\n",
       "       [739],\n",
       "       [653],\n",
       "       [902],\n",
       "       [746],\n",
       "       [832]])"
      ]
     },
     "execution_count": 63,
     "metadata": {},
     "output_type": "execute_result"
    }
   ],
   "source": [
    "y=y.reshape((10,1))\n",
    "y"
   ]
  },
  {
   "cell_type": "code",
   "execution_count": 66,
   "id": "76208859",
   "metadata": {},
   "outputs": [
    {
     "data": {
      "text/plain": [
       "array([[5.88982042]])"
      ]
     },
     "execution_count": 66,
     "metadata": {},
     "output_type": "execute_result"
    }
   ],
   "source": [
    "b=np.dot(np.linalg.inv(np.dot(x.T,x)),x.T@y)\n",
    "b"
   ]
  },
  {
   "cell_type": "code",
   "execution_count": 67,
   "id": "a990a7da",
   "metadata": {
    "scrolled": false
   },
   "outputs": [
    {
     "data": {
      "text/plain": [
       "array([[  1.,  35.],\n",
       "       [  1.,  45.],\n",
       "       [  1., 190.],\n",
       "       [  1., 200.],\n",
       "       [  1.,  40.],\n",
       "       [  1.,  70.],\n",
       "       [  1.,  54.],\n",
       "       [  1., 150.],\n",
       "       [  1., 120.],\n",
       "       [  1., 110.]])"
      ]
     },
     "execution_count": 67,
     "metadata": {},
     "output_type": "execute_result"
    }
   ],
   "source": [
    "x=np.hstack([np.ones((10,1)),x])\n",
    "x"
   ]
  },
  {
   "cell_type": "code",
   "execution_count": 68,
   "id": "b7e42422",
   "metadata": {},
   "outputs": [
    {
     "data": {
      "text/plain": [
       "array([[444.17735732],\n",
       "       [  2.62053888]])"
      ]
     },
     "execution_count": 68,
     "metadata": {},
     "output_type": "execute_result"
    }
   ],
   "source": [
    "b=np.dot(np.linalg.inv(np.dot(x.T,x)),np.dot(x.T,y))\n",
    "b"
   ]
  },
  {
   "cell_type": "code",
   "execution_count": 70,
   "id": "2b7e05bb",
   "metadata": {},
   "outputs": [],
   "source": [
    "import numpy as np\n",
    "x=np.array([35,45,190,200,40,70,54,150,120,110])"
   ]
  },
  {
   "cell_type": "code",
   "execution_count": 71,
   "id": "cf31f1b1",
   "metadata": {},
   "outputs": [],
   "source": [
    "y=np.array([401,574,874,919,459,739,653,902,746,832])"
   ]
  },
  {
   "cell_type": "code",
   "execution_count": 72,
   "id": "af6b74f2",
   "metadata": {},
   "outputs": [],
   "source": [
    "b1=0.1\n",
    "n=10\n",
    "alpha=1e-6"
   ]
  },
  {
   "cell_type": "code",
   "execution_count": 75,
   "id": "082e50fb",
   "metadata": {},
   "outputs": [],
   "source": [
    "def mse_(b1,y=y,x=x,n=10):\n",
    "    return np.sum((b1*x-y)**2)/n"
   ]
  },
  {
   "cell_type": "code",
   "execution_count": 77,
   "id": "cce5b72e",
   "metadata": {
    "scrolled": false
   },
   "outputs": [
    {
     "name": "stdout",
     "output_type": "stream",
     "text": [
      "iteration:0, b1=2.6698789606516935, mse=199352.96411174876\n",
      "iteration:100, b1=5.692835432193034, mse=57051.433003054815\n",
      "iteration:200, b1=5.877769553381888, mse=56518.85910026643\n",
      "iteration:300, b1=5.889083189387522, mse=56516.86590342786\n",
      "iteration:400, b1=5.88977531888123, mse=56516.8584437427\n",
      "iteration:500, b1=5.889817660992628, mse=56516.85841582429\n",
      "iteration:600, b1=5.889820251337954, mse=56516.8584157198\n",
      "iteration:700, b1=5.889820409806407, mse=56516.8584157194\n",
      "iteration:800, b1=5.889820419500961, mse=56516.8584157194\n",
      "iteration:900, b1=5.8898204200940425, mse=56516.85841571941\n"
     ]
    }
   ],
   "source": [
    "for i in range(1000):\n",
    "    b1 -=alpha*(2/n)*np.sum((b1*x-y)*x)\n",
    "    if i%100==0:\n",
    "        print('iteration:{i}, b1={b1}, mse={mse}'.format(i=i,b1=b1,mse=mse_(b1)))"
   ]
  },
  {
   "cell_type": "code",
   "execution_count": null,
   "id": "f251e953",
   "metadata": {},
   "outputs": [],
   "source": []
  }
 ],
 "metadata": {
  "kernelspec": {
   "display_name": "Python 3",
   "language": "python",
   "name": "python3"
  },
  "language_info": {
   "codemirror_mode": {
    "name": "ipython",
    "version": 3
   },
   "file_extension": ".py",
   "mimetype": "text/x-python",
   "name": "python",
   "nbconvert_exporter": "python",
   "pygments_lexer": "ipython3",
   "version": "3.8.8"
  }
 },
 "nbformat": 4,
 "nbformat_minor": 5
}
