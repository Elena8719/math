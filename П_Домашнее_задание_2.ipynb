{
  "nbformat": 4,
  "nbformat_minor": 0,
  "metadata": {
    "colab": {
      "name": "Домашнее задание 2.ipynb",
      "provenance": []
    },
    "kernelspec": {
      "name": "python3",
      "display_name": "Python 3"
    },
    "language_info": {
      "name": "python"
    }
  },
  "cells": [
    {
      "cell_type": "markdown",
      "source": [
        "### 1. Вероятность того, что стрелок попадет в мишень, выстрелив один раз, равна 0.8. Стрелок выстрелил 100 раз. Найдите вероятность того, что стрелок попадет в цель ровно 85 раз."
      ],
      "metadata": {
        "id": "jaCQ2LHIwqhp"
      }
    },
    {
      "cell_type": "markdown",
      "source": [
        "Для того что бы выяснить вероятность попадания в цель стрелком 85 раз применим формулу Бернули:\n",
        "$$q=1-0.8$$ \n",
        "$$p(k=85) = C_n^kp^kq^{n-k} = C_{100}^{85}*0.8^{85}*0.2^{100-85} = 0.048$$\n",
        "Вероятность попадания в цель 0,048 или 4,8% "
      ],
      "metadata": {
        "id": "RIDMofAgwzY1"
      }
    },
    {
      "cell_type": "markdown",
      "source": [
        "### 2. Вероятность того, что лампочка перегорит в течение первого дня эксплуатации, равна 0.0004. В жилом комплексе после ремонта в один день включили 5000 новых лампочек. Какова вероятность, что ни одна из них не перегорит в первый день? Какова вероятность, что перегорят ровно две?"
      ],
      "metadata": {
        "id": "-ocNqHwlzMDF"
      }
    },
    {
      "cell_type": "markdown",
      "source": [
        "Исходя из урока. Если проводится большое количество испытаний $n$ и при этом вероятность $p$ появления события $A$ в отдельном испытании мала, применяют формулу Пуассона для вычисления вероятности того, что событие произойдет $m$ раз в $n$ испытаниях:\n",
        "$$P_m \\approx \\frac{\\lambda^m}{m!}e^{-\\lambda}$$\n",
        "\n",
        "$${\\lambda}=n*p$$\n",
        "$$e=2.72\\\\ p=0.0004\\\\ n=5000$$\n",
        "Применим вводные в формуле:\n",
        "$${\\lambda}=5000*0.0004=2$$\n",
        "Выясним вероятность что ни одна лампочка не перегорит в первый день: \n",
        "$$P_0 \\approx \\frac{2^0}{0!}*2.72^{-2}\\approx 0.135$$\n",
        "А так же выясним вероятность что сгорят две лампочки:\n",
        "$$P_2 \\approx \\frac{2^2}{2!}*2.72^{-2}\\approx 0.2706$$\n",
        "Вероятность что ни одна лампочка не перегорит 13.5%, вероятность выхода из строя двух ламп 27%\n"
      ],
      "metadata": {
        "id": "5iXFdva3zQlJ"
      }
    },
    {
      "cell_type": "markdown",
      "source": [
        "### 3. Монету подбросили 144 раза. Какова вероятность, что орел выпадет ровно 70 раз?"
      ],
      "metadata": {
        "id": "jTI29JEB11co"
      }
    },
    {
      "cell_type": "markdown",
      "source": [
        "$$p(k=70) = C_n^kp^kq^{n-k} = C_{144}^{70}*0.5^{70}*0.5^{74} = 0.062$$\n",
        "Вероятность орла 0,062 или 6,2% "
      ],
      "metadata": {
        "id": "4YdbhxHS6JdH"
      }
    },
    {
      "cell_type": "markdown",
      "source": [
        "### 4.В первом ящике находится 10 мячей, из которых 7 - белые. Во втором ящике - 11 мячей, из которых 9 белых. Из каждого ящика вытаскивают случайным образом по два мяча. Какова вероятность того, что все мячи белые? Какова вероятность того, что ровно два мяча белые? Какова вероятность того, что хотя бы один мяч белый?"
      ],
      "metadata": {
        "id": "naIBGWst63oV"
      }
    },
    {
      "cell_type": "markdown",
      "source": [
        "Вычислим колличество комбинаций и вычислим вероятность что все мячи белые:\n",
        "## $$C_{n}^k = \\frac{n!}{k!(n - k)!} $$"
      ],
      "metadata": {
        "id": "m9whtMTV67EN"
      }
    },
    {
      "cell_type": "code",
      "source": [
        "from math import factorial"
      ],
      "metadata": {
        "id": "bsyIsJFf9fQK"
      },
      "execution_count": 1,
      "outputs": []
    },
    {
      "cell_type": "code",
      "source": [
        "def comb(n, k):\n",
        "    return int (factorial(n) / (factorial(k) * factorial(n-k)))"
      ],
      "metadata": {
        "id": "-TBakj1M9q-P"
      },
      "execution_count": 2,
      "outputs": []
    },
    {
      "cell_type": "code",
      "source": [
        "comb(7,2)/comb(10,2) * comb(9,2)/comb(11,2)"
      ],
      "metadata": {
        "colab": {
          "base_uri": "https://localhost:8080/"
        },
        "id": "ccAEG-NF-haa",
        "outputId": "7829f223-1c3a-48f4-a1e4-d723afd22248"
      },
      "execution_count": 3,
      "outputs": [
        {
          "output_type": "execute_result",
          "data": {
            "text/plain": [
              "0.3054545454545455"
            ]
          },
          "metadata": {},
          "execution_count": 3
        }
      ]
    },
    {
      "cell_type": "markdown",
      "source": [
        "Вероятность вытщить все белые шары: 30,5%"
      ],
      "metadata": {
        "id": "cHsRvZ_y_Muv"
      }
    },
    {
      "cell_type": "markdown",
      "source": [
        "Высчитаем вероятность что ровно два мяча белых. Высчитаем вероятность вытащить р1 два белых мяча и два черных:"
      ],
      "metadata": {
        "id": "SOCL1oiY_0v-"
      }
    },
    {
      "cell_type": "code",
      "source": [
        "p1 = comb(7,2)/comb(10,2) * comb(3,2)/comb(11,2)\n",
        "p1"
      ],
      "metadata": {
        "colab": {
          "base_uri": "https://localhost:8080/"
        },
        "id": "QDRbkFPnAKxw",
        "outputId": "db4d1cdd-1014-4f2e-cbbb-a16f724e633c"
      },
      "execution_count": 4,
      "outputs": [
        {
          "output_type": "execute_result",
          "data": {
            "text/plain": [
              "0.025454545454545452"
            ]
          },
          "metadata": {},
          "execution_count": 4
        }
      ]
    },
    {
      "cell_type": "markdown",
      "source": [
        "Высчитаем вероятность р2 где будет извлечен один белый шар с первой крозины и 1 белый шар из второй корзины:\n",
        "\n",
        "---\n",
        "\n"
      ],
      "metadata": {
        "id": "fsoNPrDPAV6E"
      }
    },
    {
      "cell_type": "code",
      "source": [
        "p2 = comb(7,1)*comb(3,1)/comb(10,2) * comb(9,1)*comb(2,1)/comb(11,2)\n",
        "p2"
      ],
      "metadata": {
        "colab": {
          "base_uri": "https://localhost:8080/"
        },
        "id": "Nn710hyDAlic",
        "outputId": "cc806691-3361-45e7-c163-97bcce51f9f7"
      },
      "execution_count": 5,
      "outputs": [
        {
          "output_type": "execute_result",
          "data": {
            "text/plain": [
              "0.15272727272727274"
            ]
          },
          "metadata": {},
          "execution_count": 5
        }
      ]
    },
    {
      "cell_type": "markdown",
      "source": [
        "Высчитаем вероятность р3 что из первой корзины будут извлечены черные шары, а из второй все белые:"
      ],
      "metadata": {
        "id": "EPhXlZXhBZyk"
      }
    },
    {
      "cell_type": "code",
      "source": [
        "p3 = comb(3,2)/comb(10,2) * comb(9,2)/comb(11,2)\n",
        "p3"
      ],
      "metadata": {
        "colab": {
          "base_uri": "https://localhost:8080/"
        },
        "id": "6_eU2xpmBkYc",
        "outputId": "d8c7ccfd-01a1-4239-fb21-404313a00efc"
      },
      "execution_count": 6,
      "outputs": [
        {
          "output_type": "execute_result",
          "data": {
            "text/plain": [
              "0.04363636363636363"
            ]
          },
          "metadata": {},
          "execution_count": 6
        }
      ]
    },
    {
      "cell_type": "markdown",
      "source": [
        "Теперь сложим все получившиеся вероятности р1, р2, р3:"
      ],
      "metadata": {
        "id": "Sr8rA6v3BxMi"
      }
    },
    {
      "cell_type": "code",
      "source": [
        "p = p1 + p2 + p3\n",
        "p"
      ],
      "metadata": {
        "colab": {
          "base_uri": "https://localhost:8080/"
        },
        "id": "mgZxvGd7B8gW",
        "outputId": "2a5bab58-322c-46d9-fcaf-193250c89bac"
      },
      "execution_count": 8,
      "outputs": [
        {
          "output_type": "execute_result",
          "data": {
            "text/plain": [
              "0.22181818181818183"
            ]
          },
          "metadata": {},
          "execution_count": 8
        }
      ]
    },
    {
      "cell_type": "markdown",
      "source": [
        "Вероятность вытащить 2 белых шара из корзины: 22%"
      ],
      "metadata": {
        "id": "P8NLIplzCCTy"
      }
    },
    {
      "cell_type": "markdown",
      "source": [
        "Теперь высчитаем вероятность того что хотя бы один шар будет белым, для этого можно пойти по обратному пути, высчитать веротяность вытащить все черные шары из обеих корзин:"
      ],
      "metadata": {
        "id": "Xtn5zmbRCSfL"
      }
    },
    {
      "cell_type": "code",
      "source": [
        "p4 = comb(3,2)/comb(10,2) * comb(2,2)/comb(11,2)"
      ],
      "metadata": {
        "id": "qMU6S3KwC02l"
      },
      "execution_count": 11,
      "outputs": []
    },
    {
      "cell_type": "markdown",
      "source": [
        "Полченную вероятность нужно вычесть из единицы."
      ],
      "metadata": {
        "id": "AKzz1jOjDS7A"
      }
    },
    {
      "cell_type": "code",
      "source": [
        "p5 = 1 - p4\n",
        "p5"
      ],
      "metadata": {
        "colab": {
          "base_uri": "https://localhost:8080/"
        },
        "id": "ZtNNsgrHD1G7",
        "outputId": "d4984aaf-d6ed-4fd1-c515-ebb590fcec4b"
      },
      "execution_count": 12,
      "outputs": [
        {
          "output_type": "execute_result",
          "data": {
            "text/plain": [
              "0.9987878787878788"
            ]
          },
          "metadata": {},
          "execution_count": 12
        }
      ]
    },
    {
      "cell_type": "markdown",
      "source": [
        "Вероятность вытащить хотя бы один белый шар равна: 99,8%"
      ],
      "metadata": {
        "id": "gk0ByoCMEAi3"
      }
    }
  ]
}